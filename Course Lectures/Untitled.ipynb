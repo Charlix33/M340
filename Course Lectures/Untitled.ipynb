{
 "cells": [
  {
   "cell_type": "markdown",
   "metadata": {},
   "source": [
    "\n",
    "\n",
    "$$\n",
    "a_{j} = \\left\\{\\begin{array}{rl}  \n",
    "\\frac{a_{j-1}}{j}, & j\\geq 1, \\\\ \n",
    "1, & j=0.\n",
    "\\end{array}\\right.\n",
    "$$\n",
    "\n"
   ]
  },
  {
   "cell_type": "code",
   "execution_count": 10,
   "metadata": {},
   "outputs": [
    {
     "name": "stdout",
     "output_type": "stream",
     "text": [
      "2.0\n",
      "2\n",
      "\n",
      "2.5\n",
      "3\n",
      "\n",
      "2.6666666666666665\n",
      "4\n",
      "\n",
      "2.708333333333333\n",
      "5\n",
      "\n",
      "2.7166666666666663\n",
      "6\n",
      "\n",
      "2.7180555555555554\n",
      "7\n",
      "\n",
      "2.7182539682539684\n",
      "8\n",
      "\n",
      "2.71827876984127\n",
      "9\n",
      "\n",
      "2.7182815255731922\n",
      "10\n",
      "\n",
      "2.7182818011463845\n",
      "11\n",
      "\n",
      "2.718281826198493\n",
      "12\n",
      "\n",
      "2.7182818282861687\n",
      "13\n",
      "\n"
     ]
    }
   ],
   "source": [
    "import  numpy as np\n",
    "my_e = 1\n",
    "aj = 1 # when j =0\n",
    "j=1\n",
    "while np.abs(aj)>=1e-8:\n",
    "    aj = aj/j\n",
    "    my_e = my_e + aj\n",
    "    j = j+1\n",
    " \n",
    "    print(my_e)\n",
    "    print(j)\n",
    "    \n",
    "    print()"
   ]
  },
  {
   "cell_type": "code",
   "execution_count": null,
   "metadata": {},
   "outputs": [],
   "source": []
  }
 ],
 "metadata": {
  "kernelspec": {
   "display_name": "Python 3",
   "language": "python",
   "name": "python3"
  },
  "language_info": {
   "codemirror_mode": {
    "name": "ipython",
    "version": 3
   },
   "file_extension": ".py",
   "mimetype": "text/x-python",
   "name": "python",
   "nbconvert_exporter": "python",
   "pygments_lexer": "ipython3",
   "version": "3.7.4"
  }
 },
 "nbformat": 4,
 "nbformat_minor": 2
}
