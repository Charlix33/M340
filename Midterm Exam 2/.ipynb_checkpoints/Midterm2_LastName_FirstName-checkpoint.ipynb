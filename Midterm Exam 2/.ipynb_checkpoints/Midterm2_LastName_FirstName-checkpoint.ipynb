{
 "cells": [
  {
   "cell_type": "markdown",
   "metadata": {},
   "source": [
    "# Midterm Exam 2\n",
    "## Due Wednesday, April 8th at 5:30pm\n",
    "\n",
    "###  Use the following format for homework filename:  \n",
    "\n",
    "`Midterm2_LastName_FirstName.ipynb`"
   ]
  },
  {
   "cell_type": "code",
   "execution_count": 1,
   "metadata": {},
   "outputs": [],
   "source": [
    "import numpy as np\n",
    "import matplotlib.pyplot as plt\n",
    "%matplotlib inline"
   ]
  },
  {
   "cell_type": "markdown",
   "metadata": {},
   "source": [
    "Please sign below:\n",
    "\n",
    "I, the undersigned, hereby pledge that all work on this examination is my own. I have neither given assistance to any other student, nor received assistance from any other student. I understand that cheating on this examination will result in a failure as well as being reported to San Diego State University’s Division of Academic Affairs.\t\n",
    "\n",
    "Name:________________ _______________"
   ]
  },
  {
   "cell_type": "markdown",
   "metadata": {},
   "source": [
    "**Problem 1** : (7 pts)\n",
    "\n",
    "Find intervals of size 1.0, each containing one or more roots of\n",
    "\n",
    "$$\n",
    "y = -19(x-0.5)(x-1) + \\exp(x) - \\exp(-2x), \\ \\quad -10 < x < 10.\n",
    "$$\n",
    "\n",
    "**Hint**: Write a Python program to check if there is a root between any of these intervals [-10,-9], [-9,-8], [-8,-7], $\\cdots$ [8,9], [9,10]. Your program should `identify the intervals` that have at least one root. Use a  root finding method your learnt in class.\n",
    "\n",
    "Example: If there is a root between an interval [9,10], your program should state the following:\n",
    "\n",
    "`There is a root between 9 and 10.`\n",
    "\n",
    "Note: Print the statement for all intervals for which there is a root."
   ]
  },
  {
   "cell_type": "code",
   "execution_count": null,
   "metadata": {},
   "outputs": [],
   "source": []
  },
  {
   "cell_type": "markdown",
   "metadata": {},
   "source": [
    "**Problem 2** : (15 pts)\n",
    "\n",
    "The normal probability distribution is defined as:\n",
    "\n",
    "$$\n",
    "p(x) = \\frac{1}{\\sigma \\sqrt{2\\pi}} e^{-(x-\\mu)^2/2\\sigma^2}\n",
    "$$\n",
    "\n",
    "where $\\mu$ is the mean, or average and $\\sigma$ is the variance. This is the famous bell-shaped curve that one hears so much about; the mean gives the center of the bell and the variance gives the width of it. If $x$ is distributed in this fashion, then the probability that $a \\le x \\le b$ is given by the integral\n",
    "\n",
    "$$P(a \\le x \\le b) = \\int_a^b p(x) \\ dx $$\n",
    "\n",
    "(a) Use the change of variable $z = ( x − \\mu )/\\sigma$ to show that $$P(-m\\sigma \\le x \\le m\\sigma) =  \\frac{1}{\\sqrt{2\\pi}} \\int_{-m}^m e^{-z^2/2} \\ dz $$\n",
    "\n",
    "\n",
    "(b) Compute values of $P(-m\\sigma \\le x \\le m\\sigma)$ for $m = 1 , 2 , 3 ,$ using Simpson’s rule.\n"
   ]
  },
  {
   "cell_type": "code",
   "execution_count": null,
   "metadata": {},
   "outputs": [],
   "source": []
  },
  {
   "cell_type": "markdown",
   "metadata": {},
   "source": [
    "**Problem 3** : (15 pts) \n",
    "\n",
    "The equation\n",
    "$$\n",
    "f(x) = \\int_{0}^{x}\\frac{1}{\\sqrt{2\\pi}}e^{-t^{2}/2} dt = .45, \n",
    "$$\n",
    "can be solved via Newton's Method.  Using the Fundamental Theorem of Calculus, we readily get that \n",
    "$$\n",
    "f'(x) = \\frac{1}{\\sqrt{2\\pi}}e^{-x^{2}/2}.\n",
    "$$\n",
    "Then we just need a way of approximating the integral in order to evaluate \n",
    "$$\n",
    "f(x) - .45.  \n",
    "$$\n",
    "Use the Trapezoid Method to find the integral and thus the function $f(x)$.  Starting from an initial guess $x_{0} = .5$, what is an approximation to the root $x_{\\ast}$ such that $f(x_{\\ast})=.45$?  How does your approximation to the root change as you change mesh size of the Trapezoid Method?  "
   ]
  },
  {
   "cell_type": "code",
   "execution_count": null,
   "metadata": {},
   "outputs": [],
   "source": []
  },
  {
   "cell_type": "markdown",
   "metadata": {},
   "source": [
    "**Problem 4**: (7pts) \n",
    "\n",
    "Write a program to generate the first 40 terms of a sequence defined by\n",
    "\n",
    "3a) 5pts\n",
    "\n",
    "$$\n",
    "a_{n+1} = \\left\\{\n",
    "\\begin{array}{rl}\n",
    "\\frac{1}{2} a_{n} & \\text{if} ~ a_{n} ~ \\text{is an even number} \\\\\n",
    "3a_{n} + 1 & \\text{if} ~ a_{n} ~ \\text{is an odd number}\n",
    "\\end{array}\n",
    "\\right.\n",
    "$$\n",
    "\n",
    "and $a_1 = 11$"
   ]
  },
  {
   "cell_type": "markdown",
   "metadata": {},
   "source": [
    "3b) 2pts\n",
    "\n",
    "Do the same for $a_1 = 25$. Make a conjecture about this type of sequence."
   ]
  },
  {
   "cell_type": "code",
   "execution_count": null,
   "metadata": {},
   "outputs": [],
   "source": []
  },
  {
   "cell_type": "markdown",
   "metadata": {},
   "source": [
    "**Problem 5** : (10pts): \n",
    "    \n",
    "5a) 3pts - Write a program to find the number $n$ that satisfies\n",
    "$$\n",
    " \\sum_{i=1}^{n} i = 78\n",
    "$$ \n",
    "   \n",
    "\n",
    "5b) 5pts - Write a program to find the limit as $n\\rightarrow \\infty$ of the function $f(n)$ where  \n",
    "\n",
    "$$\n",
    "f(n) = \\sum_{j=1}^{n} \\frac{3}{n} \\left[ \\left(1 + \\frac{3j}{n}\\right)^{3} - 2\\left(1 + \\frac{3j}{n}\\right) \\right]\n",
    "$$\n",
    "\n",
    "5c) (2pts) Plot $f(n)$ versus $n$.  Compare your graph to the result you obtained in (4b).\n",
    "\n"
   ]
  },
  {
   "cell_type": "code",
   "execution_count": null,
   "metadata": {},
   "outputs": [],
   "source": []
  },
  {
   "cell_type": "markdown",
   "metadata": {},
   "source": [
    "**Problem 6**: (7pts )\n",
    "\n",
    "Given the following sum\n",
    "\n",
    "\n",
    "$$\n",
    "y(N) =  \\sum_{n=0}^{N} \\frac{(-1)^{n}\\pi^{2n+1}}{4^{2n+1}(2n+1)!}\n",
    "$$\n",
    "\n",
    "5a) 2pts - Determine a recurrence relation between the coefficients.\n",
    "\n",
    "5b) 5pts - In Python, develop a tolerance based, recursive, vectorized implementation of this sum and find the limit as $N\\rightarrow \\infty$ of the function $y(N)$. Provide a plot to support your answer (for tolerance $10^{-4}$ and $10^{-8}$). \n",
    " "
   ]
  },
  {
   "cell_type": "code",
   "execution_count": null,
   "metadata": {},
   "outputs": [],
   "source": []
  },
  {
   "cell_type": "markdown",
   "metadata": {},
   "source": [
    "**Problem 7**: (10pts )\n",
    "\n",
    "A bullet of $M=2gm$ has been shot vertically into the air and is descending at its terminal speed. The terminal speed is determined by $gM= D_{drag}$ where $g$ is gravity and $M$ is mass, and may be written after evaluating the constants as \n",
    "\n",
    "$$\n",
    "    \\frac{(2)(9.81)}{1000} = 1.4 \\times 10^{-5}v^{1.5} + 1.15 \\times 10^{-5} v^2\n",
    "$$\n",
    "\n",
    " where $v$ is the terminal velocity, $m/sec$. The first term on the right side represents the friction drag, and the second term represents the pressure drag. \n",
    " \n",
    " Determine the terminal velocity by the bisection method with a tolerance of 0.01."
   ]
  },
  {
   "cell_type": "code",
   "execution_count": null,
   "metadata": {},
   "outputs": [],
   "source": []
  },
  {
   "cell_type": "markdown",
   "metadata": {},
   "source": [
    "**Problem 8**: (14pts )\n",
    "\n",
    "The natural logarithm is defined as an integral,\n",
    "\n",
    "$$\n",
    "\\ln(x) = \\int_1^x \\frac{1}{t} \\ dt\n",
    "$$\n",
    "\n",
    "(a) Using the trapezoid rule, write a program to  find approximations to $\\ln(x)$.\n",
    "\n",
    "(b) Show that using the trapezoid rule on the integral  for  $\\ln(x)$ results in the following series approximation (for $x \\in$ [1,2])\n",
    "$$\n",
    "\\ln(x) \\approx  \\frac{x^2-1}{2nx} + \\sum_{k=1}^{n-1} \\frac{x-1}{n+k(x-1)}\n",
    "$$\n",
    "\n",
    "(c) Using the following series approximation for $\\ln(x)$, write a program to find approximations to $\\ln(x)$.\n",
    "$$\n",
    "\\ln(x) \\approx  \\frac{x^2-1}{2nx} + \\sum_{k=1}^{n-1} \\frac{x-1}{n+k(x-1)}\n",
    "$$\n",
    "\n",
    "(d) Using your program in 8(a) and 8(c) find the value of $\\ln(2)$."
   ]
  },
  {
   "cell_type": "code",
   "execution_count": null,
   "metadata": {},
   "outputs": [],
   "source": []
  },
  {
   "cell_type": "markdown",
   "metadata": {},
   "source": [
    "**Problem 9**: (5 pts) \n",
    "    \n",
    "i) [8 points] Write a python program to find the **cubic root** of a number based on Newton method.\n",
    "\n",
    "ii) [2 points] Using your program in i), compute the root of $a=155$"
   ]
  },
  {
   "cell_type": "code",
   "execution_count": null,
   "metadata": {},
   "outputs": [],
   "source": []
  }
 ],
 "metadata": {
  "kernelspec": {
   "display_name": "Python 3",
   "language": "python",
   "name": "python3"
  },
  "language_info": {
   "codemirror_mode": {
    "name": "ipython",
    "version": 3
   },
   "file_extension": ".py",
   "mimetype": "text/x-python",
   "name": "python",
   "nbconvert_exporter": "python",
   "pygments_lexer": "ipython3",
   "version": "3.7.4"
  }
 },
 "nbformat": 4,
 "nbformat_minor": 2
}
