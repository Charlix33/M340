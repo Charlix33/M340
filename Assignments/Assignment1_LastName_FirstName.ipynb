{
 "cells": [
  {
   "cell_type": "markdown",
   "metadata": {},
   "source": [
    "# # Assignment1_LastName_FirstName"
   ]
  },
  {
   "cell_type": "markdown",
   "metadata": {},
   "source": [
    "Using Jupyter Notebook, create a new file and save the file as `Assignment1_LastName_FirstName.ipynb`. Type the notes in `Lecture 1 Introduction to Python and Jupyter Notebook.ipynb` into your file `Assignment1_LastName_FirstName.ipynb`. Run all the cells (one cell at a time) in the file to display the output. Save the file and hand it in to the HW folder. \n",
    "\n",
    "**Study each cell and learn how math equations, text and Python codes are displayed.**"
   ]
  },
  {
   "cell_type": "code",
   "execution_count": null,
   "metadata": {},
   "outputs": [],
   "source": []
  }
 ],
 "metadata": {
  "kernelspec": {
   "display_name": "Python 2",
   "language": "python",
   "name": "python2"
  },
  "language_info": {
   "codemirror_mode": {
    "name": "ipython",
    "version": 2
   },
   "file_extension": ".py",
   "mimetype": "text/x-python",
   "name": "python",
   "nbconvert_exporter": "python",
   "pygments_lexer": "ipython2",
   "version": "2.7.15"
  }
 },
 "nbformat": 4,
 "nbformat_minor": 2
}
