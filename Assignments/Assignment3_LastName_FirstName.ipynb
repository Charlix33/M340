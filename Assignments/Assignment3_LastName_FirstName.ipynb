{
 "cells": [
  {
   "cell_type": "code",
   "execution_count": null,
   "metadata": {},
   "outputs": [],
   "source": [
    "import numpy as np"
   ]
  },
  {
   "cell_type": "markdown",
   "metadata": {},
   "source": [
    "## Assignment3_LastName_FirstName \n",
    "## Due date: Wednesday, February 12\n",
    "\n",
    "###  Use the following format for homework filename:  \n",
    "\n",
    "`Assignment3_LastName_FirstName.ipynb`"
   ]
  },
  {
   "cell_type": "markdown",
   "metadata": {},
   "source": [
    "\n",
    "**Problem 1** - 3 pts each:  Write the solution to the following indefinite integrals using LaTeX.  No credit will be awarded for work turned in any other format.  Follow the model below.\n",
    "$$\n",
    "\\int \\sin(x) dx = -\\cos(x) + C\n",
    "$$\n",
    "\n",
    "1.1:   $$\n",
    "        \\int \\cos^{2}\\left( 3x \\right) ~dx\n",
    "        $$\n",
    "\n",
    "    \n",
    "1.2:\n",
    "    $$\n",
    "    \\int \\left( \\frac{1}{x^2} - \\frac{4}{x^3}\\right) dx\n",
    "    $$\n",
    "    \n",
    "1.3:\n",
    "    $$\n",
    "    \\int \\frac{x}{\\sqrt{1-4x^2}} ~dx\n",
    "    $$"
   ]
  },
  {
   "cell_type": "markdown",
   "metadata": {},
   "source": [
    "_Answers to Problem 1_: Write your answers in the lines below using LaTeX.\n",
    "\n",
    "1.1: \n",
    "\n",
    "1.2:\n",
    "\n",
    "1.3:"
   ]
  },
  {
   "cell_type": "markdown",
   "metadata": {},
   "source": [
    "**Problem 2** - 8 pts: If the grading scale for a test is such that A=90-100, B = 80-90, C = 70-79, and any number below 70 is F. Write a __function__ called __Lettergrade__ that takes one scalar input representing the grade of a student. Your function should determine the letter grade of the student based on the input. Example, if you run your program with grade = 85.6, the program should return the following: __Your scored 85.6 on the test, your letter grade is B__.\n",
    "\n",
    "Test your program with the following grades: 95.5, 34.9, 78.4, 87.5 and present your output."
   ]
  },
  {
   "cell_type": "code",
   "execution_count": null,
   "metadata": {},
   "outputs": [],
   "source": [
    "# Insert your code here. "
   ]
  },
  {
   "cell_type": "code",
   "execution_count": null,
   "metadata": {},
   "outputs": [],
   "source": []
  },
  {
   "cell_type": "code",
   "execution_count": null,
   "metadata": {},
   "outputs": [],
   "source": []
  },
  {
   "cell_type": "code",
   "execution_count": null,
   "metadata": {},
   "outputs": [],
   "source": []
  },
  {
   "cell_type": "code",
   "execution_count": null,
   "metadata": {},
   "outputs": [],
   "source": []
  },
  {
   "cell_type": "markdown",
   "metadata": {},
   "source": [
    "**Problem 3** - 3 pts: Using the classic result for a geometric series that \n",
    "\n",
    "$$\n",
    "\\sum_{n=0}^{\\infty}x^{n} = \\frac{1}{1-x}, ~ \\left|x\\right|<1,\n",
    "$$\n",
    "\n",
    "find the following sums.  Use the above statement of the sum of a geometric series as a model.  Again, use LaTeX to write your answers.  No credit will be given otherwise. \n",
    "\n",
    "<ol>\n",
    "\n",
    "\n",
    "3.1: \n",
    "$$\n",
    "\\sum_{j=0}^{\\infty} 3^{j/2}x^{2j}, ~ |x|<\\frac{1}{3^{1/4}}.\n",
    "$$\n",
    "\n",
    "\n",
    "\n",
    "3.2:\n",
    "$$\n",
    "\\sum_{j=0}^{\\infty} \\cos^{5j}(x), ~ 0 < x < \\pi.\n",
    "$$"
   ]
  },
  {
   "cell_type": "markdown",
   "metadata": {},
   "source": [
    "_ Answers to Problem 3 _: Write your answers below using LaTeX.  Again, use the beginning of the problem statement of Problem 3 as a model for your answers. (Problem 3.1 has been complete for you, attempt Problem 3.2 in the space provided below.) \n",
    "\n",
    "3.1: \n",
    "$$\n",
    "\\sum_{j=0}^{\\infty} 3^{j/2}x^{2j} = \\sum_{j=0}^{\\infty} \\left(3^{1/2}x^{2}\\right)^{j} = \\frac{1}{1-3^{1/2}x^{2}}, ~ |x|<\\frac{1}{3^{1/4}}.\n",
    "$$\n",
    "\n",
    "3.2:\n",
    "\n"
   ]
  }
 ],
 "metadata": {
  "kernelspec": {
   "display_name": "Python 2",
   "language": "python",
   "name": "python2"
  },
  "language_info": {
   "codemirror_mode": {
    "name": "ipython",
    "version": 2
   },
   "file_extension": ".py",
   "mimetype": "text/x-python",
   "name": "python",
   "nbconvert_exporter": "python",
   "pygments_lexer": "ipython2",
   "version": "2.7.15"
  }
 },
 "nbformat": 4,
 "nbformat_minor": 2
}
