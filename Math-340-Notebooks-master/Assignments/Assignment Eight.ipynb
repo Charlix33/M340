{
 "cells": [
  {
   "cell_type": "markdown",
   "metadata": {},
   "source": [
    "# Assignment Eight\n",
    "\n",
    "### Due Wednesday April 17th"
   ]
  },
  {
   "cell_type": "code",
   "execution_count": 1,
   "metadata": {},
   "outputs": [],
   "source": [
    "import numpy as np\n",
    "import matplotlib.pyplot as plt\n",
    "%matplotlib inline"
   ]
  },
  {
   "cell_type": "markdown",
   "metadata": {},
   "source": [
    "**Problem 1**: 10 pts - For the function\n",
    "\n",
    "$$\n",
    "f(x) = \\frac{8x}{x^{2} + 4}, ~ -1 \\leq x \\leq 1\n",
    "$$\n",
    "\n",
    "a) (2pts) Using an equispaced set of $6$ nodes, generate the Lagrange interpolating polynomial to $f(x)$.  Generate a plot which shows how the error in your approximation varies over the interval.  \n",
    "\n",
    "b) (2pts) Using an equispaced set of $18$ nodes, generate the Lagrange interpolating polynomial to $f(x)$.  Generate a plot which shows how the error in your approximation varies over the interval.  \n",
    "\n",
    "c) (2pts) At what number of equispaced nodes does your Lagrange interpolation approximation break down?  "
   ]
  },
  {
   "cell_type": "code",
   "execution_count": null,
   "metadata": {},
   "outputs": [],
   "source": []
  },
  {
   "cell_type": "markdown",
   "metadata": {},
   "source": [
    "**Problem 2**: 10 pts - Here is a cubic polynomial with three closely spaced real roots:\n",
    "\n",
    "$$\n",
    "p(x) = 580x^4 - 2320x^3 -1160x^2 + 6960x -1740\n",
    "$$\n",
    "\n",
    "* What are the exact roots of p?\n",
    "* Plot $p(x)$ for $-2\\leq x \\leq 4$.  And plot the location of the four roots on the graph.  \n",
    "* Starting with $x_{0}=2$, what does Newton's method do?\n",
    "* Starting with $x_{0}=0.3$ and $x_{1}=0.9$, what does the secant method do?\n",
    "* Starting with the interval $[0.5,2.9]$, what does bisection do?"
   ]
  },
  {
   "cell_type": "code",
   "execution_count": null,
   "metadata": {},
   "outputs": [],
   "source": []
  },
  {
   "cell_type": "markdown",
   "metadata": {},
   "source": [
    "**Problem 3** (10 pts): In class, we used the following program to convert an positive integer to a binary number"
   ]
  },
  {
   "cell_type": "code",
   "execution_count": 4,
   "metadata": {},
   "outputs": [],
   "source": [
    "def bin_exp(d):\n",
    "    bstr = ''\n",
    "    \n",
    "    while d > 0: \n",
    "        b0 = d%2\n",
    "        d = (d-b0)/2\n",
    "        if b0 == 0:\n",
    "            bstr += '0'\n",
    "        else:\n",
    "            bstr += '1'\n",
    "        \n",
    "    return bstr[::-1]"
   ]
  },
  {
   "cell_type": "markdown",
   "metadata": {},
   "source": [
    "We also used the following program to convert a decimal number $d$ where $0<d<1$ to binary."
   ]
  },
  {
   "cell_type": "code",
   "execution_count": 5,
   "metadata": {},
   "outputs": [],
   "source": [
    "def bin_exp_dec(d):\n",
    "    bstr=''\n",
    "    cnt = 0\n",
    "    while cnt <= 53:\n",
    "        d *= 2.\n",
    "        if d >= 1.:\n",
    "            b1 = 1.\n",
    "            bstr += '1'\n",
    "        else:\n",
    "            b1 = 0.\n",
    "            bstr += '0'\n",
    "        d -= b1    \n",
    "        cnt += 1\n",
    "        \n",
    "    return bstr   "
   ]
  },
  {
   "cell_type": "markdown",
   "metadata": {},
   "source": [
    "a) By modifying the two codes above, create a program that can convert any  positive real number to binary.\n",
    "\n",
    "b) Test your program by converting the positive real number $12.875$ to binary"
   ]
  },
  {
   "cell_type": "code",
   "execution_count": null,
   "metadata": {},
   "outputs": [],
   "source": []
  },
  {
   "cell_type": "markdown",
   "metadata": {},
   "source": [
    "**Problem 4**: 10 pts - Find seven positive values of $x$ such that $0.04x^2 = 20\\sin(x)$.  Explain your choice of root finding method for doing this, and explain how you are certain that you have found seven positive values.  "
   ]
  },
  {
   "cell_type": "code",
   "execution_count": null,
   "metadata": {},
   "outputs": [],
   "source": []
  },
  {
   "cell_type": "code",
   "execution_count": null,
   "metadata": {},
   "outputs": [],
   "source": []
  }
 ],
 "metadata": {
  "kernelspec": {
   "display_name": "Python 2",
   "language": "python",
   "name": "python2"
  },
  "language_info": {
   "codemirror_mode": {
    "name": "ipython",
    "version": 2
   },
   "file_extension": ".py",
   "mimetype": "text/x-python",
   "name": "python",
   "nbconvert_exporter": "python",
   "pygments_lexer": "ipython2",
   "version": "2.7.15"
  }
 },
 "nbformat": 4,
 "nbformat_minor": 2
}
