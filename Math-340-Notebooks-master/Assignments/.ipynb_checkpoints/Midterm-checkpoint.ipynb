{
 "cells": [
  {
   "cell_type": "markdown",
   "metadata": {},
   "source": [
    "# Midterm Exam\n",
    "## Due Thursday, March 21st"
   ]
  },
  {
   "cell_type": "code",
   "execution_count": 1,
   "metadata": {},
   "outputs": [],
   "source": [
    "import numpy as np\n",
    "import matplotlib.pyplot as plt\n",
    "%matplotlib inline"
   ]
  },
  {
   "cell_type": "markdown",
   "metadata": {},
   "source": [
    "** Problem 1 **: 15pts - Given the function\n",
    "\n",
    "$$\n",
    "y(x) = \\sin^{3}(x),\n",
    "$$\n",
    "\n",
    "1a) 6pts - Use \n",
    "\n",
    "$$\n",
    "\\sin^{2}(x) = \\frac{1 - \\cos(2x)}{2},\n",
    "$$ \n",
    "\n",
    "since $\\sin^{3}(x) = \\sin(x)\\sin^{2}(x)$, and \n",
    "\n",
    "$$\n",
    "\\sin(x)\\cos(2x) = \\frac{1}{2}\\left(\\sin(3x) - \\sin(x)\\right)\n",
    "$$\n",
    "\n",
    "to find a Taylor series around $x_{0}=0$ of $\\sin^{3}(x)$.  \n",
    "\n",
    "1b) 6pts - In Python, develop a tolerance based, recursive, vectorized implementation of this function.  \n",
    "\n",
    "1c) 3pts - Plot this function on the interval $[0,\\pi]$.  Provide log plots of the error in your approximation for tolerance values $10^{-2}$, $10^{-4}$, and $10^{-8}$.  Comment on the behavior of your approximations for increasing values of $x$ and for decreasing tolerances.  Note graphs should be well labeled, with legends, and well sized.  "
   ]
  },
  {
   "cell_type": "markdown",
   "metadata": {},
   "source": [
    "_ Answer to Problem 1 _"
   ]
  },
  {
   "cell_type": "markdown",
   "metadata": {},
   "source": [
    "** Problem 2 **: 8pts - Find the first 40 terms of a sequence defined by\n",
    "\n",
    "2a) 6pts\n",
    "\n",
    "$$\n",
    "a_{n+1} = \\left\\{\n",
    "\\begin{array}{rl}\n",
    "\\frac{1}{2} a_{n} & \\text{if} ~ a_{n} ~ \\text{is an even number} \\\\\n",
    "3a_{n} + 1 & \\text{if} ~ a_{n} ~ \\text{is an odd number}\n",
    "\\end{array}\n",
    "\\right.\n",
    "$$\n",
    "\n",
    "and $a_1 = 11$"
   ]
  },
  {
   "cell_type": "markdown",
   "metadata": {},
   "source": [
    "2b) 2pts\n",
    "\n",
    "Do the same for $a_1 = 25$. Make a conjecture about this type of sequence."
   ]
  },
  {
   "cell_type": "markdown",
   "metadata": {},
   "source": [
    "_ Answer to Problem 2 _"
   ]
  },
  {
   "cell_type": "markdown",
   "metadata": {},
   "source": [
    "** Problem 3 **: 12pts - Given the following sum\n",
    "\n",
    "\n",
    "$$\n",
    "y(n) =  \\sum_{n=0}^{\\infty} \\frac{(-1)^{n}\\pi^{2n+1}}{4^{2n+1}(2n+1)!}\n",
    "$$\n",
    "\n",
    "3a) 3pts - Determine a recurrence relation between the coefficients.\n",
    "\n",
    "3b) 5pts - In Python, develop a tolerance based, recursive, vectorized implementation of this sum and find the limit as $n\\rightarrow \\infty$ of the function $y(n)$. Provide a plot to support your answer (for tolerance $10^{-4}$ and $10^{-8}$). \n",
    " \n",
    "\n",
    "3d) 4pts -  For the recurrence relation\n",
    "\n",
    "$$\n",
    "p_{n} = 3p_{n-1} + p_{n-2}, ~ n\\geq 2, \n",
    "$$\n",
    "\n",
    "where \n",
    "\n",
    "$$\n",
    "p_{0}= 0, ~ p_{1}=1, \n",
    "$$\n",
    "\n",
    "plot $p_{n}$ for $0\\leq n \\leq 15$?"
   ]
  },
  {
   "cell_type": "markdown",
   "metadata": {},
   "source": [
    "\n",
    "_ Answer to Problem 3 _"
   ]
  },
  {
   "cell_type": "markdown",
   "metadata": {},
   "source": [
    "** Problem 4** 9pts: \n",
    "    \n",
    "4a) 4pts - Write a Python program to find the number $n$ that satisfies\n",
    "$$\n",
    " \\sum_{i=1}^{n} i = 78\n",
    "$$ \n",
    "   \n",
    "\n",
    "4b) 5pts - Using a **non-vectorization**, find the limit as $n\\rightarrow \\infty$ of the function $f(n)$ where  \n",
    "\n",
    "$$\n",
    "f(n) = \\sum_{j=1}^{n} \\frac{3}{n} \\left[ \\left(1 + \\frac{3j}{n}\\right)^{3} - 2\\left(1 + \\frac{3j}{n}\\right) \\right]\n",
    "$$\n",
    "\n",
    "Provide a plot to support your answer.  \n",
    "\n"
   ]
  },
  {
   "cell_type": "markdown",
   "metadata": {},
   "source": [
    "** Problem 5** 6pts: We can generate a 3n+1 sequence as follows\n",
    "\n",
    "- Start with a positive integer n.\n",
    "\n",
    "- If n = 1, stop.\n",
    "\n",
    "- If n is even, replace it with n/2.\n",
    "\n",
    "- If n is odd, replace it with 3n+1.\n",
    "\n",
    "So if we started with $n=3$, then we would generate the sequence\n",
    "\n",
    "$$\n",
    "3, 10, 5, 16, 8, 4, 2, 1\n",
    "$$\n",
    "\n",
    "it is unknown whether there are any starting values $n$ which generate a sequence which goes on for forever.  Thus, an interesting associated quantity we would want to know is how many terms a given value of $n$ generates via the $3n+1$ sequence.  We call this number $L(n)$.  For example then, using our example of $n=3$ above, we have that \n",
    "\n",
    "$$\n",
    "L(3)  = 8\n",
    "$$\n",
    "\n",
    "Write a code to figure out how to find $L(n)$ and then generate a plot of $L(n)$ for $1\\leq n \\leq 1000$.  Discuss any trends you observe.  \n",
    "\n",
    "\n"
   ]
  },
  {
   "cell_type": "code",
   "execution_count": null,
   "metadata": {},
   "outputs": [],
   "source": []
  }
 ],
 "metadata": {
  "kernelspec": {
   "display_name": "Python 2",
   "language": "python",
   "name": "python2"
  },
  "language_info": {
   "codemirror_mode": {
    "name": "ipython",
    "version": 2
   },
   "file_extension": ".py",
   "mimetype": "text/x-python",
   "name": "python",
   "nbconvert_exporter": "python",
   "pygments_lexer": "ipython2",
   "version": "2.7.15"
  }
 },
 "nbformat": 4,
 "nbformat_minor": 2
}
