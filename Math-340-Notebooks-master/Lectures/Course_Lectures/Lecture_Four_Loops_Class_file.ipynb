{
 "cells": [
  {
   "cell_type": "code",
   "execution_count": 1,
   "metadata": {},
   "outputs": [],
   "source": [
    "import numpy as np\n",
    "import matplotlib.pyplot as plt\n",
    "\n",
    "import scipy.special  as sfactorial\n",
    "%matplotlib inline"
   ]
  },
  {
   "cell_type": "code",
   "execution_count": 2,
   "metadata": {},
   "outputs": [
    {
     "name": "stdout",
     "output_type": "stream",
     "text": [
      "6.0\n"
     ]
    }
   ],
   "source": [
    "print sfactorial.factorial(3)"
   ]
  },
  {
   "cell_type": "markdown",
   "metadata": {},
   "source": [
    "# Part 2.5 - Lists vs Numpy Arrays\n",
    "\n",
    "Okay, within Python, we have different data types.  For example "
   ]
  },
  {
   "cell_type": "code",
   "execution_count": 3,
   "metadata": {},
   "outputs": [],
   "source": [
    "x = 1\n",
    "y = 1.\n",
    "z = \"Hi\""
   ]
  },
  {
   "cell_type": "code",
   "execution_count": 4,
   "metadata": {},
   "outputs": [
    {
     "name": "stdout",
     "output_type": "stream",
     "text": [
      "<type 'int'>\n",
      "<type 'float'>\n",
      "<type 'str'>\n"
     ]
    }
   ],
   "source": [
    "print type(x)\n",
    "print type(y)\n",
    "print type(z)"
   ]
  },
  {
   "cell_type": "code",
   "execution_count": 5,
   "metadata": {},
   "outputs": [
    {
     "name": "stdout",
     "output_type": "stream",
     "text": [
      "<type 'list'>\n",
      "<type 'list'>\n",
      "<type 'list'>\n",
      "\n",
      "<type 'int'>\n",
      "<type 'float'>\n",
      "<type 'str'>\n"
     ]
    }
   ],
   "source": [
    "xlist = [1,2,3]\n",
    "ylist = [1.,2.,3.]\n",
    "zlist = [\"Hi\",\"Howdy\",\"Hello\"]\n",
    "\n",
    "\n",
    "print type(xlist)\n",
    "print type(ylist)\n",
    "print type(zlist)\n",
    "print\n",
    "print type(xlist[0])\n",
    "print type(ylist[0])\n",
    "print type(zlist[0])"
   ]
  },
  {
   "cell_type": "markdown",
   "metadata": {},
   "source": [
    "But since this is a scientific computation class, we have another type.  It is the NumPy Array.  You have seen this before with the command `np.linspace`.  In more detail, when we write the assignment statement\n",
    "`\n",
    "xvals = np.linspace(a,b,n)\n",
    "`\n",
    "\n",
    "we create an array of points `xvals[j]` such that \n",
    "\n",
    "`\n",
    "xvals[j] = a + (b-a)*j/(n-1), j=0,...,n-1.\n",
    "`\n",
    "\n",
    "Now, this part is important.  Note that "
   ]
  },
  {
   "cell_type": "code",
   "execution_count": 6,
   "metadata": {},
   "outputs": [
    {
     "name": "stdout",
     "output_type": "stream",
     "text": [
      "<type 'numpy.ndarray'>\n"
     ]
    }
   ],
   "source": [
    "xvals = np.linspace(-2.,2.,int(1e1)+1)\n",
    "\n",
    "print type(xvals)"
   ]
  },
  {
   "cell_type": "markdown",
   "metadata": {},
   "source": [
    "So a NumPy array really is not just a Python list.  And the difference is huge.  In NumPy, I can do arithmetic on arrays.  I cannot do arithmetic on Python lists.  Let me show you what I mean."
   ]
  },
  {
   "cell_type": "code",
   "execution_count": 7,
   "metadata": {},
   "outputs": [
    {
     "name": "stdout",
     "output_type": "stream",
     "text": [
      "<type 'numpy.ndarray'>\n",
      "<type 'list'>\n",
      "<type 'numpy.ndarray'>\n"
     ]
    },
    {
     "ename": "TypeError",
     "evalue": "unsupported operand type(s) for -: 'list' and 'list'",
     "output_type": "error",
     "traceback": [
      "\u001b[0;31m---------------------------------------------------------------------------\u001b[0m",
      "\u001b[0;31mTypeError\u001b[0m                                 Traceback (most recent call last)",
      "\u001b[0;32m<ipython-input-7-fc46da2e5ec0>\u001b[0m in \u001b[0;36m<module>\u001b[0;34m()\u001b[0m\n\u001b[1;32m      2\u001b[0m \u001b[0;32mprint\u001b[0m \u001b[0mtype\u001b[0m\u001b[0;34m(\u001b[0m\u001b[0mlist\u001b[0m\u001b[0;34m(\u001b[0m\u001b[0mxvals\u001b[0m\u001b[0;34m)\u001b[0m\u001b[0;34m)\u001b[0m\u001b[0;34m\u001b[0m\u001b[0m\n\u001b[1;32m      3\u001b[0m \u001b[0;32mprint\u001b[0m \u001b[0mtype\u001b[0m\u001b[0;34m(\u001b[0m\u001b[0mnp\u001b[0m\u001b[0;34m.\u001b[0m\u001b[0marray\u001b[0m\u001b[0;34m(\u001b[0m\u001b[0mlist\u001b[0m\u001b[0;34m(\u001b[0m\u001b[0mxvals\u001b[0m\u001b[0;34m)\u001b[0m\u001b[0;34m)\u001b[0m\u001b[0;34m)\u001b[0m\u001b[0;34m\u001b[0m\u001b[0m\n\u001b[0;32m----> 4\u001b[0;31m \u001b[0;32mprint\u001b[0m \u001b[0mtype\u001b[0m\u001b[0;34m(\u001b[0m\u001b[0mlist\u001b[0m\u001b[0;34m(\u001b[0m\u001b[0mxvals\u001b[0m\u001b[0;34m)\u001b[0m\u001b[0;34m-\u001b[0m\u001b[0mlist\u001b[0m\u001b[0;34m(\u001b[0m\u001b[0mxvals\u001b[0m\u001b[0;34m)\u001b[0m\u001b[0;34m)\u001b[0m\u001b[0;34m\u001b[0m\u001b[0m\n\u001b[0m",
      "\u001b[0;31mTypeError\u001b[0m: unsupported operand type(s) for -: 'list' and 'list'"
     ]
    }
   ],
   "source": [
    "print type(xvals-xvals)\n",
    "print type(list(xvals))\n",
    "print type(np.array(list(xvals)))\n",
    "print type(list(xvals)-list(xvals))"
   ]
  },
  {
   "cell_type": "markdown",
   "metadata": {},
   "source": [
    "# Part 3 - Loops and Iteration \n",
    "\n",
    "## While Loops and Log Plots\n",
    "\n",
    "Refer to Chapters 12 and 19 of the textbook for help and further examples. \n",
    "\n",
    "So, now that we have put some math under our proverbial belts, lets think about how to use Python to implement much of what we have been studying.  To do this we need to make use of what are called while and for loops.  We have already seen these, but let's now think about them in more detail.  Roughly speaking, the difference is that while loops go until something is no longer true.  For example "
   ]
  },
  {
   "cell_type": "code",
   "execution_count": 8,
   "metadata": {},
   "outputs": [
    {
     "name": "stdout",
     "output_type": "stream",
     "text": [
      "Hello World\n",
      "Hello World\n",
      "Hello World\n",
      "Hello World\n",
      "Hello World\n"
     ]
    }
   ],
   "source": [
    "count = 1\n",
    "while count<=5: \n",
    "    print \"Hello World\"\n",
    "    count = count + 1"
   ]
  },
  {
   "cell_type": "markdown",
   "metadata": {},
   "source": [
    "Statements like \n",
    "\n",
    "`count = count + 1`\n",
    "\n",
    "are usually shortened to \n",
    "\n",
    "`count+=1`\n",
    "\n",
    "so "
   ]
  },
  {
   "cell_type": "code",
   "execution_count": 9,
   "metadata": {},
   "outputs": [
    {
     "name": "stdout",
     "output_type": "stream",
     "text": [
      "Hello World\n",
      "Hello World\n",
      "Hello World\n",
      "Hello World\n",
      "Hello World\n"
     ]
    }
   ],
   "source": [
    "count = 1\n",
    "while count<=5: \n",
    "    print \"Hello World\"\n",
    "    count+=1"
   ]
  },
  {
   "cell_type": "markdown",
   "metadata": {},
   "source": [
    "Example: Write a `while` loop to sum the integers begining from 1 to 7. "
   ]
  },
  {
   "cell_type": "code",
   "execution_count": 10,
   "metadata": {},
   "outputs": [
    {
     "name": "stdout",
     "output_type": "stream",
     "text": [
      "when j=1, sum = 1\n",
      "when j=2, sum = 3\n",
      "when j=3, sum = 6\n",
      "when j=4, sum = 10\n",
      "when j=5, sum = 15\n",
      "when j=6, sum = 21\n",
      "when j=7, sum = 28\n",
      "\n",
      "The sum of integers begining from 1 to 7 is 28\n",
      "\n"
     ]
    }
   ],
   "source": [
    "#Enter your code here\n",
    "j = 0\n",
    "sum=0\n",
    "while j < 7: # do you know why we use less than 7 here, look at the output to clarify.\n",
    "    j+=1\n",
    "    sum+=j\n",
    "    print 'when j=%d, sum = %d' %(j,sum)\n",
    "print    \n",
    "print   'The sum of integers begining from 1 to 7 is %d' % sum\n",
    "print"
   ]
  },
  {
   "cell_type": "markdown",
   "metadata": {},
   "source": [
    "So, let's say we wanted to compute the Taylor series around $x_{0}=0$ of $e^{x}$, which is given by \n",
    "\n",
    "$$\n",
    "e^{x} = \\sum_{j=0}^{\\infty} \\frac{x^{j}}{j!}.\n",
    "$$\n",
    "\n",
    "The idea here is to keep adding terms until a term, say $x^{j}/j!$ is, in magnitude, smaller than some specified tolerance, say `tol`.  In otherwords\n",
    "\n",
    "`while np.abs(aj) >= tol: keep doing stuff`\n",
    "\n",
    "Here the variable `aj` stands for $x^{j}/j!$.  The variable `tol` is the value we use to determine whether a given term is too small in order to keep iterating. \n",
    "\n",
    "To keep going, we note that if we write \n",
    "\n",
    "$$\n",
    "e^{x} = \\sum_{j=0}^{\\infty}a_{j}(x),\n",
    "$$\n",
    "\n",
    "then we see that \n",
    "\n",
    "$$\n",
    "\\frac{a_{j}(x)}{a_{j-1}(x)} = \\frac{x}{j},\n",
    "$$\n",
    "\n",
    "or \n",
    "\n",
    "$$\n",
    "a_{j}(x) = \\left\\{\n",
    "\\begin{array}{rl}\n",
    "\\frac{x}{j} a_{j-1}(x) & j\\geq 1\\\\\n",
    "1 & j=0\n",
    "\\end{array}\n",
    "\\right.\n",
    "$$\n",
    "\n",
    "So, if put this all together, to make this work in Python, we write "
   ]
  },
  {
   "cell_type": "code",
   "execution_count": 11,
   "metadata": {},
   "outputs": [],
   "source": [
    "def exp_func(x,tol):\n",
    "    tot = 1. # for the total you wish to return \n",
    "    aj = 1. # the terms you need to update\n",
    "    j = 1 # your counter\n",
    "    while np.abs(aj)>=tol:\n",
    "        aj *= x/j\n",
    "        tot += aj\n",
    "        j+=1 \n",
    "        # what would you put here in order to update your term, total, and counter?\n",
    "    return tot # what would you put here?"
   ]
  },
  {
   "cell_type": "markdown",
   "metadata": {},
   "source": [
    "But how accurate is it?  Well let's compare our function to $e^{x}$ over $-2\\leq x \\leq 2$ for the tolerance values \n",
    "\n",
    "`\n",
    "tol = 1e-5, 1e-6, 1e-7\n",
    "`"
   ]
  },
  {
   "cell_type": "code",
   "execution_count": 12,
   "metadata": {},
   "outputs": [
    {
     "data": {
      "text/plain": [
       "Text(0,0.5,'$e^{x}$')"
      ]
     },
     "execution_count": 12,
     "metadata": {},
     "output_type": "execute_result"
    },
    {
     "data": {
      "image/png": "[encoded data removed]",
      "text/plain": [
       "<Figure size 432x288 with 1 Axes>"
      ]
     },
     "metadata": {
      "needs_background": "light"
     },
     "output_type": "display_data"
    }
   ],
   "source": [
    "xvals = np.linspace(-2.,2.,int(1e3))\n",
    "yvalst = np.exp(xvals)\n",
    "yvals1 = [exp_func(xval,1e-5) for xval in xvals]\n",
    "yvals2 = [exp_func(xval,1e-6) for xval in xvals]\n",
    "yvals3 = [exp_func(xval,1e-7) for xval in xvals]\n",
    "\n",
    "#plt.plot(xvals,yvalst,color='k')\n",
    "plt.plot(xvals,np.abs(yvalst-yvals1),color='r',ls='--')\n",
    "plt.plot(xvals,np.abs(yvalst-yvals2),color='b',ls='--')\n",
    "plt.plot(xvals,np.abs(yvalst-yvals3),color='g',ls='--')\n",
    "\n",
    "plt.xlabel('$x$')\n",
    "plt.ylabel('$e^{x}$')"
   ]
  },
  {
   "cell_type": "markdown",
   "metadata": {},
   "source": [
    "Okay, that kind of helps us see a trend in behavior, but we can do better.  If you remember, \n",
    "\n",
    "$$\n",
    "\\log_{10}10^{-m} = -m\n",
    "$$\n",
    "\n",
    "then, if we are trying to plot errors on the order of $10^{-5},10^{-6},10^{-7}$, if we plotted \n",
    "\n",
    "`\n",
    "e1 = np.log10(np.abs(yvalst - yvals1))\n",
    "`\n",
    "\n",
    "then we get "
   ]
  },
  {
   "cell_type": "code",
   "execution_count": 13,
   "metadata": {},
   "outputs": [],
   "source": [
    "e1 = np.log10(np.abs(yvalst - yvals1))\n",
    "e2 = np.log10(np.abs(yvalst - yvals2))\n",
    "e3 = np.log10(np.abs(yvalst - yvals3))\n",
    "#Redo your error plots as semi-log plots.\n",
    "# add code here \n",
    "\n"
   ]
  },
  {
   "cell_type": "markdown",
   "metadata": {},
   "source": [
    "## For Loops\n",
    "\n",
    "In contrast, a `for` loop starts at a point, and goes until another one.  So for example, if we create a list of words"
   ]
  },
  {
   "cell_type": "code",
   "execution_count": 14,
   "metadata": {},
   "outputs": [],
   "source": [
    "hal = [\"Hello\",\"Dave,\",\"would\",\"you\",\"like\",\"to\",\"play\",\"a\",\"game\",\"of\",\"chess?\"]"
   ]
  },
  {
   "cell_type": "markdown",
   "metadata": {},
   "source": [
    "How would we write a code to print out each word.  Well, we could do it index by index.  What I mean by this is we could write "
   ]
  },
  {
   "cell_type": "code",
   "execution_count": 15,
   "metadata": {},
   "outputs": [
    {
     "name": "stdout",
     "output_type": "stream",
     "text": [
      "Hello\n",
      "Dave,\n",
      "chess?\n"
     ]
    }
   ],
   "source": [
    "print hal[0]\n",
    "print hal[1]\n",
    "print hal[len(hal)-1]"
   ]
  },
  {
   "cell_type": "markdown",
   "metadata": {},
   "source": [
    "There are some important things to note here.  One, when we iterate over a list, we always start counting from `0`, thus why the _ first _ entry of the list `hal` is given by \n",
    "\n",
    "`hal[0]`\n",
    "\n",
    "Now, this means that when we want to get to the last entry of the list, though the length of the list `hal` is given by \n",
    "\n",
    "`len(hal)`\n",
    "\n",
    "the last entry is at an index that is one less than the total length.   \n",
    "\n",
    "`hal[len(hal)-1]`\n",
    "\n",
    "Now, if we want to print out the entries of `hal` we can use a for loop such as "
   ]
  },
  {
   "cell_type": "code",
   "execution_count": 16,
   "metadata": {},
   "outputs": [
    {
     "name": "stdout",
     "output_type": "stream",
     "text": [
      "Hello\n",
      "Dave,\n",
      "would\n",
      "you\n",
      "like\n",
      "to\n",
      "play\n",
      "a\n",
      "game\n",
      "of\n",
      "chess?\n"
     ]
    }
   ],
   "source": [
    "for jj in xrange(0,len(hal)):\n",
    "    print hal[jj]"
   ]
  },
  {
   "cell_type": "markdown",
   "metadata": {},
   "source": [
    "Ask yourself, does the index `jj` ever equal `len(hal)`?  Run the command "
   ]
  },
  {
   "cell_type": "code",
   "execution_count": 17,
   "metadata": {},
   "outputs": [
    {
     "name": "stdout",
     "output_type": "stream",
     "text": [
      "[0, 1, 2, 3, 4, 5, 6, 7, 8, 9, 10]\n"
     ]
    }
   ],
   "source": [
    "print range(0,len(hal))"
   ]
  },
  {
   "cell_type": "markdown",
   "metadata": {},
   "source": [
    "and from this determine what `len(hal)` is."
   ]
  },
  {
   "cell_type": "markdown",
   "metadata": {},
   "source": [
    "In Python, we can alternatively iterate over values as opposed to indices of lists.  What I mean by this is we can write "
   ]
  },
  {
   "cell_type": "code",
   "execution_count": 18,
   "metadata": {},
   "outputs": [
    {
     "name": "stdout",
     "output_type": "stream",
     "text": [
      "Hello\n",
      "Dave,\n",
      "would\n",
      "you\n",
      "like\n",
      "to\n",
      "play\n",
      "a\n",
      "game\n",
      "of\n",
      "chess?\n"
     ]
    }
   ],
   "source": [
    "for word in hal: # Note, the variable 'word' is defined within the statement of the for loop. \n",
    "    print word"
   ]
  },
  {
   "cell_type": "markdown",
   "metadata": {},
   "source": [
    "In the above, you may use a different variable name (instead of word); as shown below"
   ]
  },
  {
   "cell_type": "code",
   "execution_count": 19,
   "metadata": {},
   "outputs": [
    {
     "name": "stdout",
     "output_type": "stream",
     "text": [
      "Hello\n",
      "Dave,\n",
      "would\n",
      "you\n",
      "like\n",
      "to\n",
      "play\n",
      "a\n",
      "game\n",
      "of\n",
      "chess?\n"
     ]
    }
   ],
   "source": [
    "for jj in hal: # Note, the variable 'word' is defined within the statement of the for loop. \n",
    "    print jj"
   ]
  },
  {
   "cell_type": "markdown",
   "metadata": {},
   "source": [
    "Example: Write a **For loop** to compute the square of numbers beginning from 1 to 10 "
   ]
  },
  {
   "cell_type": "code",
   "execution_count": 20,
   "metadata": {},
   "outputs": [],
   "source": [
    "# write your code here \n",
    "\n"
   ]
  },
  {
   "cell_type": "code",
   "execution_count": 21,
   "metadata": {},
   "outputs": [
    {
     "name": "stdout",
     "output_type": "stream",
     "text": [
      "1.0\n",
      "1.0\n",
      "\n",
      "2.0\n",
      "4.0\n",
      "\n",
      "3.0\n",
      "9.0\n",
      "\n",
      "4.0\n",
      "16.0\n",
      "\n",
      "5.0\n",
      "25.0\n",
      "\n",
      "6.0\n",
      "36.0\n",
      "\n",
      "7.0\n",
      "49.0\n",
      "\n",
      "8.0\n",
      "64.0\n",
      "\n",
      "9.0\n",
      "81.0\n",
      "\n",
      "10.0\n",
      "100.0\n",
      "\n"
     ]
    }
   ],
   "source": [
    "# An alternative code to compute the square of numbers beginning from 1 to 10\n",
    "xvals = np.linspace(1,10,int(10))\n",
    "yvals = np.ones(10)\n",
    "for kk in xrange(0,len(xvals)):\n",
    "    yvals[kk] = xvals[kk]**2\n",
    "    print xvals[kk]\n",
    "    print yvals[kk]\n",
    "    print\n",
    "    "
   ]
  },
  {
   "cell_type": "markdown",
   "metadata": {},
   "source": [
    "Another example: Write a **For loop** to compute the **sum** of squares of numbers beginning from 1 to 10. (i.e compute $1^2 +2^2 +3^2 +\\cdots +10^2$ )"
   ]
  },
  {
   "cell_type": "code",
   "execution_count": 22,
   "metadata": {},
   "outputs": [],
   "source": [
    "# write your code here"
   ]
  },
  {
   "cell_type": "markdown",
   "metadata": {},
   "source": [
    "This iteration by value is very convenient, and makes some things in Python really, really easy.  For example, what if we wanted to plot the step function $H(x)$ where \n",
    "\n",
    "$$\n",
    "H(x) = \\left\\{\n",
    "\\begin{array}{rl}\n",
    "1 & x\\geq0 \\\\\n",
    "-1 & x<0\n",
    "\\end{array}\n",
    "\\right.\n",
    "$$\n",
    "\n",
    "Below we plot the following function in python:\n",
    "$$\n",
    "H(x) = \\left\\{\n",
    "\\begin{array}{rl}\n",
    "5.4 & x\\geq5 \\\\\n",
    "3.13 & 2 \\le x < 5 \\\\\n",
    "-4.2 & 1 \\le x < 2 \\\\\n",
    "3.13 & -3 \\le x < 1 \\\\\n",
    "-10 & x < -3 \n",
    "\\end{array}\n",
    "\\right.\n",
    "$$"
   ]
  },
  {
   "cell_type": "code",
   "execution_count": 23,
   "metadata": {},
   "outputs": [],
   "source": [
    "def step_func(x):\n",
    "    if x>=5.:\n",
    "        return 5.4\n",
    "    elif x>=2.:\n",
    "        return 3.13\n",
    "    elif x>=1.:\n",
    "        return -4.2\n",
    "    elif x>=-3.:\n",
    "        return -3.7\n",
    "    else:\n",
    "        return -10."
   ]
  },
  {
   "cell_type": "code",
   "execution_count": 24,
   "metadata": {},
   "outputs": [
    {
     "data": {
      "text/plain": [
       "[<matplotlib.lines.Line2D at 0x812b69f50>]"
      ]
     },
     "execution_count": 24,
     "metadata": {},
     "output_type": "execute_result"
    },
    {
     "data": {
      "image/png": "[encoded data removed]",
      "text/plain": [
       "<Figure size 432x288 with 1 Axes>"
      ]
     },
     "metadata": {
      "needs_background": "light"
     },
     "output_type": "display_data"
    }
   ],
   "source": [
    "xvals = np.linspace(-7.,8.,int(1e4))\n",
    "yvals = [step_func(ii) for ii in xvals] # Note use of list comprehension to generate range of function.\n",
    "\n",
    "plt.plot(xvals,yvals)"
   ]
  },
  {
   "cell_type": "markdown",
   "metadata": {},
   "source": [
    "## Vectorization in NumPy\n",
    "\n",
    "We are now going to explore a key feature of NumPy which is _vectorization_.  This is a feature whereby instead of explicitly calling a loop, NumPy just knows to iterate over every entry of a NumPy array in some reasonable manner.  "
   ]
  },
  {
   "cell_type": "code",
   "execution_count": 25,
   "metadata": {},
   "outputs": [
    {
     "name": "stdout",
     "output_type": "stream",
     "text": [
      "[2. 3. 8. 9.]\n"
     ]
    }
   ],
   "source": [
    "# An illustration of vectorization in NumPy\n",
    "kvals = [4, 9, 64, 81]\n",
    "print np.sqrt(kvals) #it prints the square root \n",
    "                     #of all the elements in kvals"
   ]
  },
  {
   "cell_type": "markdown",
   "metadata": {},
   "source": [
    "To get more feel for this, let's revisit our approximation for $\\pi$ from the homework, where we used the code "
   ]
  },
  {
   "cell_type": "code",
   "execution_count": 26,
   "metadata": {},
   "outputs": [],
   "source": [
    "def pi_approx(n):\n",
    "    tot = 0.\n",
    "    nsq = n**2.\n",
    "    for kk in xrange(0,int(n)+1):\n",
    "        tot += np.sqrt(nsq-kk**2.)\n",
    "    return 4.*tot/nsq"
   ]
  },
  {
   "cell_type": "markdown",
   "metadata": {},
   "source": [
    "to represent the formula \n",
    "\n",
    "$$\n",
    "\\pi = \\lim_{n\\rightarrow\\infty} \\frac{4}{n^{2}}\\sum_{k=0}^{n}\\sqrt{n^{2}-k^{2}}\n",
    "$$\n",
    "\n",
    "And we know that works, but again note the explicit `for` loop.  To get far better performance, we make use of NumPy arrays to generate each What we see here is that if we could first generate all the entries in the sum and then sum along that array of entries, we could probably spare ourselves some grief.  This is exactly how vectorization in NumPy works.  To wit then, we use the following code "
   ]
  },
  {
   "cell_type": "code",
   "execution_count": 27,
   "metadata": {},
   "outputs": [],
   "source": [
    "def pi_approx_vec(n):\n",
    "    kvals = np.linspace(0,n,int(n)+1)\n",
    "    nsq = n**2.\n",
    "    tot = np.sum(np.sqrt(nsq*np.ones(int(n)+1) - kvals**2.))\n",
    "    return 4.*tot/nsq"
   ]
  },
  {
   "cell_type": "markdown",
   "metadata": {},
   "source": [
    "So note the appearance of the NumPy array `kvals` and the use of the `np.sum()` function, which adds up entries along an array.  Thus, we have written a version of the code that never calls a `for` explicitly.  What do we then get for our efforts? "
   ]
  },
  {
   "cell_type": "code",
   "execution_count": 28,
   "metadata": {},
   "outputs": [],
   "source": [
    "from copy import copy\n",
    "from time import time"
   ]
  },
  {
   "cell_type": "code",
   "execution_count": 29,
   "metadata": {},
   "outputs": [
    {
     "name": "stdout",
     "output_type": "stream",
     "text": [
      "9.6208178997\n",
      "0.1748919487\n"
     ]
    }
   ],
   "source": [
    "start = time()\n",
    "pi_approx(1e7)\n",
    "end=time()\n",
    "print end - start\n",
    "\n",
    "start = time()\n",
    "pi_approx_vec(1e7)\n",
    "end=time()\n",
    "print end - start"
   ]
  },
  {
   "cell_type": "markdown",
   "metadata": {},
   "source": [
    "So, now let's think about how we can vectorize our function `exp_func` so that we can just pass one NumPy array `x`.  To make this work, we need to initialize our loops with  \n",
    "\n",
    "`\n",
    "tot = np.ones(x.size)\n",
    "aj = np.ones(x.size)\n",
    "`\n",
    "\n",
    "which builds two NumPy arrays that are as long as `x`, and have entries equal to one.  Then, when we call \n",
    "\n",
    "`\n",
    "aj *= x/j\n",
    "`\n",
    "\n",
    "which is equivalent to \n",
    "\n",
    "`\n",
    "aj = aj*x/j\n",
    "`\n",
    "\n",
    "what is happening is that we multiply each entry of `aj` by each entry of the array `x/j`.  In other words, the above statement is equivalent to\n",
    "\n",
    "`\n",
    "for ll in xrange(0:x.size):\n",
    "    aj[ll] *= x[ll]/j\n",
    "`\n",
    "\n",
    "but with vectorization, we do not explicitly call the `for` loop since NumPy understands to use it implicitly.  But then, how do we adjust our logic in our while loop so that we can work over an entire array of new terms `aj`?  This is where we need to make use of \n",
    "\n",
    "`while np.max(np.abs(aj))>=tol:`\n",
    "\n",
    "but why?"
   ]
  },
  {
   "cell_type": "code",
   "execution_count": 42,
   "metadata": {},
   "outputs": [],
   "source": [
    "def exp_func_vec(x,tol):\n",
    "    tot = np.ones(x.size) # for the total you wish to return \n",
    "    aj = np.ones(x.size) # the terms you need to update\n",
    "    j = 1 # your counter\n",
    "    while np.max(np.abs(aj))>=tol:\n",
    "        aj *= x/j\n",
    "        tot += aj\n",
    "        j += 1\n",
    "        # what would you put here in order to update your term, total, and counter?\n",
    "    return tot # what would you put here?"
   ]
  },
  {
   "cell_type": "code",
   "execution_count": 44,
   "metadata": {},
   "outputs": [
    {
     "name": "stdout",
     "output_type": "stream",
     "text": [
      "Time to run vectorized code was: 0.001152992248535\n"
     ]
    }
   ],
   "source": [
    "# You insert code which allows you to compare the performance of exp_func to exp_func_vec.  \n",
    "# As a means of generating a test, use the array of x-values \n",
    "\n",
    "xvals = np.linspace(-2.,2.,int(1e3))\n",
    "\n",
    "start = time()\n",
    "evalsv = exp_func_vec(xvals,1e-9)\n",
    "end = time()\n",
    "tvec = end - start\n",
    "print \"Time to run vectorized code was: %1.15f\" %tvec\n",
    "\n",
    "# insert code here for \"non-vectorized code\""
   ]
  },
  {
   "cell_type": "markdown",
   "metadata": {},
   "source": [
    "So let's do something properly difficult to see how much we've learned.  If you dig in the depts of math, you will come up with a class of functions know as Bessel functions, denoted by $J_{n}(x)$.  These are usually _defined_ via a series where \n",
    "\n",
    "$$\n",
    "J_{n}(x) = \\sum_{j=0}^{\\infty} \\frac{(-1)^{j}}{j!(n+j)!}\\left(\\frac{x}{2}\\right)^{n+2j}\n",
    "$$\n",
    "\n",
    "Given this definition, generate both non and vectorized, recursive code which allows you to compute $J_{n}(x)$ for any positive integer $n$ and any value of $x$.  Examine plots of your function to infer the behavior of the Bessel functions.  "
   ]
  },
  {
   "cell_type": "code",
   "execution_count": 32,
   "metadata": {},
   "outputs": [],
   "source": [
    " # add code here "
   ]
  },
  {
   "cell_type": "code",
   "execution_count": 33,
   "metadata": {},
   "outputs": [],
   "source": [
    "# add code here "
   ]
  },
  {
   "cell_type": "code",
   "execution_count": null,
   "metadata": {
    "scrolled": true
   },
   "outputs": [],
   "source": []
  },
  {
   "cell_type": "code",
   "execution_count": null,
   "metadata": {},
   "outputs": [],
   "source": []
  }
 ],
 "metadata": {
  "kernelspec": {
   "display_name": "Python 2",
   "language": "python",
   "name": "python2"
  },
  "language_info": {
   "codemirror_mode": {
    "name": "ipython",
    "version": 2
   },
   "file_extension": ".py",
   "mimetype": "text/x-python",
   "name": "python",
   "nbconvert_exporter": "python",
   "pygments_lexer": "ipython2",
   "version": "2.7.15"
  }
 },
 "nbformat": 4,
 "nbformat_minor": 2
}
