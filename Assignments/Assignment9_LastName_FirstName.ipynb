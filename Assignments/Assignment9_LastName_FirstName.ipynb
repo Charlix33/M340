{
 "cells": [
  {
   "cell_type": "markdown",
   "metadata": {},
   "source": [
    "## Assignment9_LastName_FirstName \n",
    "## Due date: Wednesday, April 15 at 5:30pm\n",
    "\n",
    "###  Use the following format for homework filename:  \n",
    "\n",
    "`Assignment9_LastName_FirstName.ipynb`"
   ]
  },
  {
   "cell_type": "code",
   "execution_count": 1,
   "metadata": {},
   "outputs": [],
   "source": [
    "import numpy as np\n",
    "import matplotlib.pyplot as plt\n",
    "%matplotlib inline"
   ]
  },
  {
   "cell_type": "markdown",
   "metadata": {},
   "source": [
    "**Problem 1** (10pts)\n",
    "\n",
    "Since the area of the unit circle is $A = \\pi$ , it follows that\n",
    "$$\n",
    "\\frac{\\pi}{2} = \\int_{-1}^1 \\sqrt{1-x^2} dx.\n",
    "$$\n",
    "\n",
    "Therefore we can approximate $\\pi$ by approximating this integral.\n",
    "\n",
    "Write a program that uses Simpson’s rule to compute approximate values of $\\pi$ in this way. Show results for $\\Delta x$ = 1, 1/2, 1/4 and 1/8 and  comment on your results.\n",
    "\n"
   ]
  },
  {
   "cell_type": "code",
   "execution_count": null,
   "metadata": {},
   "outputs": [],
   "source": []
  },
  {
   "cell_type": "markdown",
   "metadata": {},
   "source": [
    "**Problem 2** (10pts)\n",
    "\n",
    "(2a) (5 points) Write a code to graph the following function in the interval [-1,4]\n",
    "\n",
    "$$\n",
    "y(x) = \\left\\{\n",
    "\\begin{array}{rl}\n",
    "0 & \\quad \\text{for} \\quad x < 0 \\\\\n",
    "x & \\quad \\text{for} \\quad 0\\leq x \\leq 1 \\\\\n",
    "2-x & \\quad \\text{for} \\quad 1 < x \\leq 2 \\\\\n",
    "0 & \\quad \\text{for} \\quad x > 2 \n",
    "\\end{array}\n",
    "\\right.\n",
    "$$\n",
    "\n"
   ]
  },
  {
   "cell_type": "markdown",
   "metadata": {},
   "source": [
    "(2b)  (1 point) Create 11 points from -1 to 4 and assign it to x. Using this x value, plot y(x)"
   ]
  },
  {
   "cell_type": "markdown",
   "metadata": {},
   "source": [
    "(2c) (1 point)  Create 1e1 points from -1 to 4 and assign it to x. Using this x value, plot y(x)"
   ]
  },
  {
   "cell_type": "markdown",
   "metadata": {},
   "source": [
    "(2d) (1 point)  Create 1e5 points from -1 to 4 and assign it to x. Using this x value, plot y(x)"
   ]
  },
  {
   "cell_type": "markdown",
   "metadata": {},
   "source": [
    "(2e) (2 point) Compare your plots for 2(b), (c) and (d). Discuss your observations. "
   ]
  },
  {
   "cell_type": "code",
   "execution_count": null,
   "metadata": {},
   "outputs": [],
   "source": []
  },
  {
   "cell_type": "markdown",
   "metadata": {},
   "source": [
    "**Problem 3**  (10pts)\n",
    "\n",
    "Write a program that uses the bisection method to solve the nonlinear equation $$ x = e^{-x}. $$ Choose your own initial interval."
   ]
  },
  {
   "cell_type": "code",
   "execution_count": null,
   "metadata": {},
   "outputs": [],
   "source": []
  },
  {
   "cell_type": "markdown",
   "metadata": {},
   "source": [
    "**Problem 4** (15 pts) Given that  \n",
    "\n",
    "$$\n",
    "F = \\frac{A}{\\int_0^{T_1} c(t)~dt + \\int_{T_1}^{T_2} m(t) ~ dt},\n",
    "$$\n",
    "\n",
    "where $A = 5$, $T_1=\\pi/4$, $T_2=\\pi/2$, \n",
    "\n",
    "$$ c(t) = \\cos(t) - sin(t) \\quad \\text{and}  \\quad m(t) = \\sin(t) - cos(t).$$\n",
    "\n",
    "- Use Trapezoid Method to compute the denominator of the above formula and then compute $F$\n",
    "\n",
    "- Use Simpson Method to compute the denominator of the above formula and then compute $F$"
   ]
  },
  {
   "cell_type": "code",
   "execution_count": null,
   "metadata": {},
   "outputs": [],
   "source": []
  },
  {
   "cell_type": "markdown",
   "metadata": {},
   "source": [
    "**Problem 5** (10 pts) The Hermite polynomials $H_{n}(x)$ are such that $H_{0}(x)=1$, $H_{1}(x)=2x$, and for $n\\geq2$, $H_{n}(x)$ satisfies the recurrence relationship\n",
    "\n",
    "$$\n",
    "H_{n}(x) = 2xH_{n-1}(x) -2(n-1)H_{n-2}(x), ~ n\\geq 2. \n",
    "$$\n",
    "\n",
    "* (6 pts) Write a recursive program to find any Hermite polynomial $H_{n}(x)$.\n",
    "* (4 pts) Generate a plot of the first six Hermite polyonmials on the interval $-2\\leq x \\leq 2$.  Your figure should be labeled, have a legend, and different colors should be used to distinguish the different Hermite polynmials in the plot. "
   ]
  },
  {
   "cell_type": "code",
   "execution_count": null,
   "metadata": {},
   "outputs": [],
   "source": []
  },
  {
   "cell_type": "markdown",
   "metadata": {},
   "source": [
    "**Problem 6** (5 pt) Compute a root of the function $$f(x) = x^2 - 2$$ \n",
    "- using the _secant method_ with initial guess $x_0 = 1.5$ and $x_1=1$.\n",
    "- Choose a different initial guess and compute another root of the function $f(x)$."
   ]
  },
  {
   "cell_type": "code",
   "execution_count": null,
   "metadata": {},
   "outputs": [],
   "source": []
  },
  {
   "cell_type": "markdown",
   "metadata": {},
   "source": [
    "**Problem 7**: 10 pts - Here is a cubic polynomial with three closely spaced real roots:\n",
    "\n",
    "$$\n",
    "p(x) = 580x^4 - 2320x^3 -1160x^2 + 6960x -1740\n",
    "$$\n",
    "\n",
    "* What are the exact roots of p?\n",
    "* Plot $p(x)$ for $-2\\leq x \\leq 4$.  And plot the location of the four roots on the graph.  \n",
    "* Starting with $x_{0}=2$, what does Newton's method do?\n",
    "* Starting with $x_{0}=0.3$ and $x_{1}=0.9$, what does the secant method do?\n",
    "* Starting with the interval $[0.5,2.9]$, what does bisection do?"
   ]
  },
  {
   "cell_type": "code",
   "execution_count": null,
   "metadata": {},
   "outputs": [],
   "source": []
  }
 ],
 "metadata": {
  "kernelspec": {
   "display_name": "Python 3",
   "language": "python",
   "name": "python3"
  },
  "language_info": {
   "codemirror_mode": {
    "name": "ipython",
    "version": 3
   },
   "file_extension": ".py",
   "mimetype": "text/x-python",
   "name": "python",
   "nbconvert_exporter": "python",
   "pygments_lexer": "ipython3",
   "version": "3.7.4"
  }
 },
 "nbformat": 4,
 "nbformat_minor": 2
}
