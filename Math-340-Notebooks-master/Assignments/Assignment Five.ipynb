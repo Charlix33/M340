{
 "cells": [
  {
   "cell_type": "code",
   "execution_count": 1,
   "metadata": {},
   "outputs": [],
   "source": [
    "import numpy as np\n",
    "import matplotlib.pyplot as plt\n",
    "from time import time\n",
    "%matplotlib inline"
   ]
  },
  {
   "cell_type": "markdown",
   "metadata": {},
   "source": [
    "**Problem 1**  \n",
    "[a] (3 points) Write a code which computes the following sum\n",
    "$$\n",
    "\\sum_{j=0}^\\infty e^{-j}\n",
    "$$ \n",
    "\n",
    "using recursion and a tolerance based while loop approach.\n",
    "\n",
    "[b] (2 points) Run your code in Problem 1[a] for tolerance 1e-2, 1e-4, 1e-6 and 1e-8."
   ]
  },
  {
   "cell_type": "markdown",
   "metadata": {},
   "source": [
    "[c] (3 points) Observe that sum in Problem 1[a] is a geometric series. Using the formula for the sum of a geometric progression, compute \n",
    "$$\n",
    "\\sum_{j=0}^\\infty e^{-j}\n",
    "$$\n",
    "\n",
    "to 9 significant figures."
   ]
  },
  {
   "cell_type": "markdown",
   "metadata": {},
   "source": [
    "[d] (2 points) Compare your result from Problem 1[b] and [c] and discuss your observation.  "
   ]
  },
  {
   "cell_type": "markdown",
   "metadata": {},
   "source": [
    "_Answer to Problem 1_"
   ]
  },
  {
   "cell_type": "code",
   "execution_count": null,
   "metadata": {},
   "outputs": [],
   "source": []
  },
  {
   "cell_type": "markdown",
   "metadata": {},
   "source": [
    "**Problem 2**"
   ]
  },
  {
   "cell_type": "markdown",
   "metadata": {},
   "source": [
    "[2a] (5 points) Write a code to graph the following function in the interval [-1,4]\n",
    "\n",
    "$$\n",
    "y(x) = \\left\\{\n",
    "\\begin{array}{rl}\n",
    "0 & \\quad \\text{for} \\quad x < 0 \\\\\n",
    "x & \\quad \\text{for} \\quad 0\\leq x \\leq 1 \\\\\n",
    "2-x & \\quad \\text{for} \\quad 1 < x \\leq 2 \\\\\n",
    "0 & \\quad \\text{for} \\quad x > 2 \n",
    "\\end{array}\n",
    "\\right.\n",
    "$$\n"
   ]
  },
  {
   "cell_type": "markdown",
   "metadata": {},
   "source": [
    "[2b]  (1 point) Create 11 points from -1 to 4 and assign it to x. Using this x value, plot y(x)"
   ]
  },
  {
   "cell_type": "markdown",
   "metadata": {},
   "source": [
    "[2c] (1 point)  Create 1e1 points from -1 to 4 and assign it to x. Using this x value, plot y(x)"
   ]
  },
  {
   "cell_type": "markdown",
   "metadata": {},
   "source": [
    "[2d] (1 point)  Create 1e5 points from -1 to 4 and assign it to x. Using this x value, plot y(x)"
   ]
  },
  {
   "cell_type": "markdown",
   "metadata": {},
   "source": [
    "[2e] (2 point) Compare your plots for 2[b], [c] and [d]. Discuss your observations. "
   ]
  },
  {
   "cell_type": "markdown",
   "metadata": {},
   "source": [
    "_Answer to Problem 2_"
   ]
  },
  {
   "cell_type": "code",
   "execution_count": null,
   "metadata": {},
   "outputs": [],
   "source": []
  },
  {
   "cell_type": "markdown",
   "metadata": {},
   "source": []
  },
  {
   "cell_type": "markdown",
   "metadata": {},
   "source": [
    "**Problem 3**:  Given that\n",
    "\n",
    "$$\n",
    "\\cos(x) = \\sum_{j=0}^{\\infty}\\frac{(-1)^{j}}{(2j)!}x^{2j}, ~ \\sin(x) = \\sum_{j=0}^{\\infty}\\frac{(-1)^{j}}{(2j+1)!}x^{2j+1}\n",
    "$$\n",
    "\n",
    "and \n",
    "\n",
    "$$\n",
    "\\cos(a-b) = \\cos(a)\\cos(b) + \\sin(a)\\sin(b)\n",
    "$$\n",
    "\n",
    "[a] (4 points) Derive a Taylor series for $$\\cos(2x^4)\\cos(x^4) + \\sin(2x^4)\\sin(x^4)$$ around $x=0$.  \n",
    "\n",
    "[b] (4 points) Using your answer from Problem 3[a], write a code which computes the Taylor series of $$\\cos(2x^4)\\cos(x^4) + \\sin(2x^4)\\sin(x^4)$$ using recursion, vectorization, and a tolerance based while loop approach.\n",
    "\n",
    "[c] (2 pts)  On the interval $[0,\\pi]$, plot the semi-log error in your approximation for tolerance values $10^{-4}$, $10^{-6}$, and $10^{-8}$. Label axes and provide a legend for your graph.  \n",
    "\n",
    "[d] (2pts) Describe your graphs and comment on any trends you observe."
   ]
  },
  {
   "cell_type": "markdown",
   "metadata": {},
   "source": [
    "_Answer to Problem 3_"
   ]
  },
  {
   "cell_type": "code",
   "execution_count": null,
   "metadata": {},
   "outputs": [],
   "source": []
  },
  {
   "cell_type": "markdown",
   "metadata": {},
   "source": [
    "**Problem 4**: \n",
    "\n",
    "[a] (6 points) - Another very important class of special functions are called the _Laguerre Polynomials_, say $L_{n}(x)$, which are defined for non-negative integer $n$ via the series\n",
    "\n",
    "$$\n",
    "L_{n}(x) = \\sum_{k=0}^{n}\\frac{n!}{k!(n-k)!}\\frac{(-1)^k}{k!} x^{k}, ~ -2\\leq x \\leq 2.\n",
    "$$\n",
    "\n",
    "Using a `for`-loop, vectorized, recursive approach, write a function which computes the Laguerre functions for any non-negative integer $n$ \n",
    "\n",
    "[b] (3 points).  Make a plot showing $L_{n}(x)$ for $n=0,1,2,3,4$ on the same graph, using different colors for each different $n$.  \n",
    "\n",
    "[c] (2 points) The plot should have a legend as well as appropriately labeled axes.   "
   ]
  },
  {
   "cell_type": "markdown",
   "metadata": {},
   "source": [
    "[d] (3 points) Write down the expression for $L_{0}(x)$ and $L_{1}(x)$ by replacing $n$ with $0$ and $1$ respectively in the equation for $L_{n}(x)$ above. Compare your expression for $L_{0}(x)$ and $L_{1}(x)$ with the graph in Problem 4[b]. Discuss your observations."
   ]
  },
  {
   "cell_type": "markdown",
   "metadata": {},
   "source": [
    "_Answer to Problem 4_"
   ]
  },
  {
   "cell_type": "code",
   "execution_count": null,
   "metadata": {},
   "outputs": [],
   "source": []
  },
  {
   "cell_type": "markdown",
   "metadata": {},
   "source": [
    "**Problem 5**: 4 pts- Using a vectorized approach, which means no explicit for loops, write a program which finds \n",
    "\n",
    "$$\n",
    "f(n) = \\frac{1}{n}\\sum_{j=1}^{n} \\left(\\left(\\frac{j}{n}\\right)^{5} + 6\\left(\\frac{j}{n}\\right)^{3} \\right)\n",
    "$$\n",
    "\n",
    "\n",
    "for any positive integer n.  "
   ]
  },
  {
   "cell_type": "markdown",
   "metadata": {},
   "source": [
    "_Answer to Problem 5_"
   ]
  },
  {
   "cell_type": "code",
   "execution_count": null,
   "metadata": {},
   "outputs": [],
   "source": []
  },
  {
   "cell_type": "code",
   "execution_count": null,
   "metadata": {},
   "outputs": [],
   "source": []
  }
 ],
 "metadata": {
  "kernelspec": {
   "display_name": "Python 2",
   "language": "python",
   "name": "python2"
  },
  "language_info": {
   "codemirror_mode": {
    "name": "ipython",
    "version": 2
   },
   "file_extension": ".py",
   "mimetype": "text/x-python",
   "name": "python",
   "nbconvert_exporter": "python",
   "pygments_lexer": "ipython2",
   "version": "2.7.15"
  }
 },
 "nbformat": 4,
 "nbformat_minor": 2
}
