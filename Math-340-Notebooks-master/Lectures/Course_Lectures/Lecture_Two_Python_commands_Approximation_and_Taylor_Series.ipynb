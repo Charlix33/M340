{
 "cells": [
  {
   "cell_type": "markdown",
   "metadata": {},
   "source": [
    "# Python commands\n",
    "\n",
    "We study some python commands that are important for doing approximations and Taylor series."
   ]
  },
  {
   "cell_type": "markdown",
   "metadata": {},
   "source": [
    "#### __Variable Assignment Statements__ \n",
    "We use the equal sign (=) to assign a value to a variable. Example to assign the value 10 to $x$ and the value 8 to Nguyen we do the following"
   ]
  },
  {
   "cell_type": "code",
   "execution_count": 1,
   "metadata": {},
   "outputs": [],
   "source": [
    "x = 10\n",
    "Nguyen = 8"
   ]
  },
  {
   "cell_type": "markdown",
   "metadata": {},
   "source": [
    "The print command is used to print the output (i.e. display the result) of a program. \n",
    "Note: print should be written in lower case letters.  See below for examples. "
   ]
  },
  {
   "cell_type": "code",
   "execution_count": 2,
   "metadata": {},
   "outputs": [],
   "source": [
    "print Nguyen\n"
   ]
  },
  {
   "cell_type": "code",
   "execution_count": 3,
   "metadata": {},
   "outputs": [],
   "source": [
    "print x"
   ]
  },
  {
   "cell_type": "markdown",
   "metadata": {},
   "source": [
    "Just typing \"Nguyen\" would also display it's value. The question is why use print? As you will see later in this lecture, the print command allows you to display your result in any format you want."
   ]
  },
  {
   "cell_type": "code",
   "execution_count": 4,
   "metadata": {},
   "outputs": [
    {
     "data": {
      "text/plain": [
       "8"
      ]
     },
     "execution_count": 4,
     "metadata": {},
     "output_type": "execute_result"
    }
   ],
   "source": [
    "Nguyen"
   ]
  },
  {
   "cell_type": "markdown",
   "metadata": {},
   "source": [
    "#### __Rules for Variable Names__\n",
    "1. Variables names must start with a letter or an underscore\n",
    "\n",
    "2. The remainder of your variable name may consist of letters, numbers and underscores.\n",
    "\n",
    "3. Variable names are case sentitive\n",
    "_Example: NGUYEN, NGuyen, nguyen are each a different variable._\n",
    "\n",
    "4. Descriptive names are very useful. If you are writing a program that sums the number of apples and grapes, then use apples and grapes as variable names.\n",
    "\n",
    "5. Example of valid variable names: \n",
    "_val, val_2, _number, NUMBERS, Kristen, Fabio etc._"
   ]
  },
  {
   "cell_type": "markdown",
   "metadata": {},
   "source": [
    "You can't use Python keywords as variable names. Example _print_ is a Python keyword, thus you can't use _print_ as a variable name. You get an error message if you try to do this. The error will state that the syntax is invalid. "
   ]
  },
  {
   "cell_type": "markdown",
   "metadata": {},
   "source": [
    "There is a Python module called keyword. It has a function called kwlist (i.e. a list of keywords). Importing keyword and calling kwlist will return a list of Python’s keywords. See below for an example."
   ]
  },
  {
   "cell_type": "code",
   "execution_count": 5,
   "metadata": {},
   "outputs": [
    {
     "data": {
      "text/plain": [
       "['and',\n",
       " 'as',\n",
       " 'assert',\n",
       " 'break',\n",
       " 'class',\n",
       " 'continue',\n",
       " 'def',\n",
       " 'del',\n",
       " 'elif',\n",
       " 'else',\n",
       " 'except',\n",
       " 'exec',\n",
       " 'finally',\n",
       " 'for',\n",
       " 'from',\n",
       " 'global',\n",
       " 'if',\n",
       " 'import',\n",
       " 'in',\n",
       " 'is',\n",
       " 'lambda',\n",
       " 'not',\n",
       " 'or',\n",
       " 'pass',\n",
       " 'print',\n",
       " 'raise',\n",
       " 'return',\n",
       " 'try',\n",
       " 'while',\n",
       " 'with',\n",
       " 'yield']"
      ]
     },
     "execution_count": 5,
     "metadata": {},
     "output_type": "execute_result"
    }
   ],
   "source": [
    "import keyword\n",
    ">>> keyword.kwlist"
   ]
  },
  {
   "cell_type": "markdown",
   "metadata": {},
   "source": [
    "You should learn the Python keywords and avoid using them as variable names."
   ]
  },
  {
   "cell_type": "markdown",
   "metadata": {},
   "source": [
    "#### Basic operations\n",
    "\"+\" is used for addition, \"-\" for subtraction, \"*\" for multiplication, \"/\" for division, \"%\" for remainder and \"**\" for exponent.\n",
    "\n",
    "If both inputs are integers, the division operator \"/\" works as an integer division. Example 8/5 returns 1. If you desire an answer that is not a whole number, you must input a floating point number with decimal points. Example 8./5 or 8/5.  returns the value 1.6. This is demonstrated below.\n"
   ]
  },
  {
   "cell_type": "code",
   "execution_count": 6,
   "metadata": {},
   "outputs": [
    {
     "name": "stdout",
     "output_type": "stream",
     "text": [
      "1\n"
     ]
    }
   ],
   "source": [
    "val_div =8/5\n",
    "print val_div"
   ]
  },
  {
   "cell_type": "code",
   "execution_count": 7,
   "metadata": {},
   "outputs": [
    {
     "name": "stdout",
     "output_type": "stream",
     "text": [
      "1.6\n"
     ]
    }
   ],
   "source": [
    "val_div =8./5\n",
    "print val_div"
   ]
  },
  {
   "cell_type": "markdown",
   "metadata": {},
   "source": [
    "Given that val_div has been assigned twice. What is the current value of val_div? Note that it takes the recent value assigned during the last execution of the program. It may not necessarily follow the order it appears in the program. "
   ]
  },
  {
   "cell_type": "code",
   "execution_count": 8,
   "metadata": {},
   "outputs": [
    {
     "name": "stdout",
     "output_type": "stream",
     "text": [
      "1.6\n"
     ]
    }
   ],
   "source": [
    "print val_div"
   ]
  },
  {
   "cell_type": "markdown",
   "metadata": {},
   "source": [
    "To increment the value of a variable, type the variable followed by \"+=\" and then the amount you wish to add.  Example x += 2 assigns 12 to x, since \"x\" was previously assigned the value 10. "
   ]
  },
  {
   "cell_type": "code",
   "execution_count": 9,
   "metadata": {},
   "outputs": [],
   "source": [
    "x += 2"
   ]
  },
  {
   "cell_type": "code",
   "execution_count": 10,
   "metadata": {},
   "outputs": [
    {
     "name": "stdout",
     "output_type": "stream",
     "text": [
      "12\n"
     ]
    }
   ],
   "source": [
    "print x"
   ]
  },
  {
   "cell_type": "markdown",
   "metadata": {},
   "source": [
    "Note that every time you run the cell with x += 2 it increments the value of x by 2. Be sure to restart the current kernel and re-execute the whole notebook if you get results other than what you were expecting."
   ]
  },
  {
   "cell_type": "markdown",
   "metadata": {},
   "source": [
    "In the last lecture, we imported and used the \"matplotlib.pyplot\" and \"numpy\" module. Another module is \"math\". The dir() command shows the built-in functions available in a module. First, import the module and see what functions are available in it using dir(). An example is shown below."
   ]
  },
  {
   "cell_type": "code",
   "execution_count": 11,
   "metadata": {},
   "outputs": [],
   "source": [
    "import math"
   ]
  },
  {
   "cell_type": "code",
   "execution_count": 12,
   "metadata": {},
   "outputs": [
    {
     "data": {
      "text/plain": [
       "['__doc__',\n",
       " '__file__',\n",
       " '__name__',\n",
       " '__package__',\n",
       " 'acos',\n",
       " 'acosh',\n",
       " 'asin',\n",
       " 'asinh',\n",
       " 'atan',\n",
       " 'atan2',\n",
       " 'atanh',\n",
       " 'ceil',\n",
       " 'copysign',\n",
       " 'cos',\n",
       " 'cosh',\n",
       " 'degrees',\n",
       " 'e',\n",
       " 'erf',\n",
       " 'erfc',\n",
       " 'exp',\n",
       " 'expm1',\n",
       " 'fabs',\n",
       " 'factorial',\n",
       " 'floor',\n",
       " 'fmod',\n",
       " 'frexp',\n",
       " 'fsum',\n",
       " 'gamma',\n",
       " 'hypot',\n",
       " 'isinf',\n",
       " 'isnan',\n",
       " 'ldexp',\n",
       " 'lgamma',\n",
       " 'log',\n",
       " 'log10',\n",
       " 'log1p',\n",
       " 'modf',\n",
       " 'pi',\n",
       " 'pow',\n",
       " 'radians',\n",
       " 'sin',\n",
       " 'sinh',\n",
       " 'sqrt',\n",
       " 'tan',\n",
       " 'tanh',\n",
       " 'trunc']"
      ]
     },
     "execution_count": 12,
     "metadata": {},
     "output_type": "execute_result"
    }
   ],
   "source": [
    "dir(math)"
   ]
  },
  {
   "cell_type": "code",
   "execution_count": 13,
   "metadata": {},
   "outputs": [],
   "source": [
    "import numpy as np"
   ]
  },
  {
   "cell_type": "code",
   "execution_count": 14,
   "metadata": {},
   "outputs": [
    {
     "data": {
      "text/plain": [
       "['ALLOW_THREADS',\n",
       " 'AxisError',\n",
       " 'BUFSIZE',\n",
       " 'CLIP',\n",
       " 'ComplexWarning',\n",
       " 'DataSource',\n",
       " 'ERR_CALL',\n",
       " 'ERR_DEFAULT',\n",
       " 'ERR_IGNORE',\n",
       " 'ERR_LOG',\n",
       " 'ERR_PRINT',\n",
       " 'ERR_RAISE',\n",
       " 'ERR_WARN',\n",
       " 'FLOATING_POINT_SUPPORT',\n",
       " 'FPE_DIVIDEBYZERO',\n",
       " 'FPE_INVALID',\n",
       " 'FPE_OVERFLOW',\n",
       " 'FPE_UNDERFLOW',\n",
       " 'False_',\n",
       " 'Inf',\n",
       " 'Infinity',\n",
       " 'MAXDIMS',\n",
       " 'MAY_SHARE_BOUNDS',\n",
       " 'MAY_SHARE_EXACT',\n",
       " 'MachAr',\n",
       " 'ModuleDeprecationWarning',\n",
       " 'NAN',\n",
       " 'NINF',\n",
       " 'NZERO',\n",
       " 'NaN',\n",
       " 'PINF',\n",
       " 'PZERO',\n",
       " 'PackageLoader',\n",
       " 'RAISE',\n",
       " 'RankWarning',\n",
       " 'SHIFT_DIVIDEBYZERO',\n",
       " 'SHIFT_INVALID',\n",
       " 'SHIFT_OVERFLOW',\n",
       " 'SHIFT_UNDERFLOW',\n",
       " 'ScalarType',\n",
       " 'Tester',\n",
       " 'TooHardError',\n",
       " 'True_',\n",
       " 'UFUNC_BUFSIZE_DEFAULT',\n",
       " 'UFUNC_PYVALS_NAME',\n",
       " 'VisibleDeprecationWarning',\n",
       " 'WRAP',\n",
       " '_NoValue',\n",
       " '__NUMPY_SETUP__',\n",
       " '__all__',\n",
       " '__builtins__',\n",
       " '__config__',\n",
       " '__doc__',\n",
       " '__file__',\n",
       " '__git_revision__',\n",
       " '__mkl_version__',\n",
       " '__name__',\n",
       " '__package__',\n",
       " '__path__',\n",
       " '__version__',\n",
       " '_distributor_init',\n",
       " '_globals',\n",
       " '_import_tools',\n",
       " '_mat',\n",
       " '_mklinit',\n",
       " 'abs',\n",
       " 'absolute',\n",
       " 'absolute_import',\n",
       " 'add',\n",
       " 'add_docstring',\n",
       " 'add_newdoc',\n",
       " 'add_newdoc_ufunc',\n",
       " 'add_newdocs',\n",
       " 'alen',\n",
       " 'all',\n",
       " 'allclose',\n",
       " 'alltrue',\n",
       " 'amax',\n",
       " 'amin',\n",
       " 'angle',\n",
       " 'any',\n",
       " 'append',\n",
       " 'apply_along_axis',\n",
       " 'apply_over_axes',\n",
       " 'arange',\n",
       " 'arccos',\n",
       " 'arccosh',\n",
       " 'arcsin',\n",
       " 'arcsinh',\n",
       " 'arctan',\n",
       " 'arctan2',\n",
       " 'arctanh',\n",
       " 'argmax',\n",
       " 'argmin',\n",
       " 'argpartition',\n",
       " 'argsort',\n",
       " 'argwhere',\n",
       " 'around',\n",
       " 'array',\n",
       " 'array2string',\n",
       " 'array_equal',\n",
       " 'array_equiv',\n",
       " 'array_repr',\n",
       " 'array_split',\n",
       " 'array_str',\n",
       " 'asanyarray',\n",
       " 'asarray',\n",
       " 'asarray_chkfinite',\n",
       " 'ascontiguousarray',\n",
       " 'asfarray',\n",
       " 'asfortranarray',\n",
       " 'asmatrix',\n",
       " 'asscalar',\n",
       " 'atleast_1d',\n",
       " 'atleast_2d',\n",
       " 'atleast_3d',\n",
       " 'average',\n",
       " 'bartlett',\n",
       " 'base_repr',\n",
       " 'binary_repr',\n",
       " 'bincount',\n",
       " 'bitwise_and',\n",
       " 'bitwise_not',\n",
       " 'bitwise_or',\n",
       " 'bitwise_xor',\n",
       " 'blackman',\n",
       " 'block',\n",
       " 'bmat',\n",
       " 'bool',\n",
       " 'bool8',\n",
       " 'bool_',\n",
       " 'broadcast',\n",
       " 'broadcast_arrays',\n",
       " 'broadcast_to',\n",
       " 'busday_count',\n",
       " 'busday_offset',\n",
       " 'busdaycalendar',\n",
       " 'byte',\n",
       " 'byte_bounds',\n",
       " 'bytes_',\n",
       " 'c_',\n",
       " 'can_cast',\n",
       " 'cast',\n",
       " 'cbrt',\n",
       " 'cdouble',\n",
       " 'ceil',\n",
       " 'cfloat',\n",
       " 'char',\n",
       " 'character',\n",
       " 'chararray',\n",
       " 'choose',\n",
       " 'clip',\n",
       " 'clongdouble',\n",
       " 'clongfloat',\n",
       " 'column_stack',\n",
       " 'common_type',\n",
       " 'compare_chararrays',\n",
       " 'compat',\n",
       " 'complex',\n",
       " 'complex128',\n",
       " 'complex256',\n",
       " 'complex64',\n",
       " 'complex_',\n",
       " 'complexfloating',\n",
       " 'compress',\n",
       " 'concatenate',\n",
       " 'conj',\n",
       " 'conjugate',\n",
       " 'convolve',\n",
       " 'copy',\n",
       " 'copysign',\n",
       " 'copyto',\n",
       " 'core',\n",
       " 'corrcoef',\n",
       " 'correlate',\n",
       " 'cos',\n",
       " 'cosh',\n",
       " 'count_nonzero',\n",
       " 'cov',\n",
       " 'cross',\n",
       " 'csingle',\n",
       " 'ctypeslib',\n",
       " 'cumprod',\n",
       " 'cumproduct',\n",
       " 'cumsum',\n",
       " 'datetime64',\n",
       " 'datetime_as_string',\n",
       " 'datetime_data',\n",
       " 'deg2rad',\n",
       " 'degrees',\n",
       " 'delete',\n",
       " 'deprecate',\n",
       " 'deprecate_with_doc',\n",
       " 'diag',\n",
       " 'diag_indices',\n",
       " 'diag_indices_from',\n",
       " 'diagflat',\n",
       " 'diagonal',\n",
       " 'diff',\n",
       " 'digitize',\n",
       " 'disp',\n",
       " 'divide',\n",
       " 'division',\n",
       " 'divmod',\n",
       " 'dot',\n",
       " 'double',\n",
       " 'dsplit',\n",
       " 'dstack',\n",
       " 'dtype',\n",
       " 'e',\n",
       " 'ediff1d',\n",
       " 'einsum',\n",
       " 'einsum_path',\n",
       " 'emath',\n",
       " 'empty',\n",
       " 'empty_like',\n",
       " 'equal',\n",
       " 'erf',\n",
       " 'errstate',\n",
       " 'euler_gamma',\n",
       " 'exp',\n",
       " 'exp2',\n",
       " 'expand_dims',\n",
       " 'expm1',\n",
       " 'extract',\n",
       " 'eye',\n",
       " 'fabs',\n",
       " 'fastCopyAndTranspose',\n",
       " 'fft',\n",
       " 'fill_diagonal',\n",
       " 'find_common_type',\n",
       " 'finfo',\n",
       " 'fix',\n",
       " 'flatiter',\n",
       " 'flatnonzero',\n",
       " 'flexible',\n",
       " 'flip',\n",
       " 'fliplr',\n",
       " 'flipud',\n",
       " 'float',\n",
       " 'float128',\n",
       " 'float16',\n",
       " 'float32',\n",
       " 'float64',\n",
       " 'float_',\n",
       " 'float_power',\n",
       " 'floating',\n",
       " 'floor',\n",
       " 'floor_divide',\n",
       " 'fmax',\n",
       " 'fmin',\n",
       " 'fmod',\n",
       " 'format_float_positional',\n",
       " 'format_float_scientific',\n",
       " 'format_parser',\n",
       " 'frexp',\n",
       " 'frombuffer',\n",
       " 'fromfile',\n",
       " 'fromfunction',\n",
       " 'fromiter',\n",
       " 'frompyfunc',\n",
       " 'fromregex',\n",
       " 'fromstring',\n",
       " 'full',\n",
       " 'full_like',\n",
       " 'fv',\n",
       " 'gcd',\n",
       " 'generic',\n",
       " 'genfromtxt',\n",
       " 'geomspace',\n",
       " 'get_array_wrap',\n",
       " 'get_include',\n",
       " 'get_printoptions',\n",
       " 'getbuffer',\n",
       " 'getbufsize',\n",
       " 'geterr',\n",
       " 'geterrcall',\n",
       " 'geterrobj',\n",
       " 'gradient',\n",
       " 'greater',\n",
       " 'greater_equal',\n",
       " 'half',\n",
       " 'hamming',\n",
       " 'hanning',\n",
       " 'heaviside',\n",
       " 'histogram',\n",
       " 'histogram2d',\n",
       " 'histogram_bin_edges',\n",
       " 'histogramdd',\n",
       " 'hsplit',\n",
       " 'hstack',\n",
       " 'hypot',\n",
       " 'i0',\n",
       " 'identity',\n",
       " 'iinfo',\n",
       " 'imag',\n",
       " 'in1d',\n",
       " 'index_exp',\n",
       " 'indices',\n",
       " 'inexact',\n",
       " 'inf',\n",
       " 'info',\n",
       " 'infty',\n",
       " 'inner',\n",
       " 'insert',\n",
       " 'int',\n",
       " 'int0',\n",
       " 'int16',\n",
       " 'int32',\n",
       " 'int64',\n",
       " 'int8',\n",
       " 'int_',\n",
       " 'int_asbuffer',\n",
       " 'intc',\n",
       " 'integer',\n",
       " 'interp',\n",
       " 'intersect1d',\n",
       " 'intp',\n",
       " 'invert',\n",
       " 'ipmt',\n",
       " 'irr',\n",
       " 'is_busday',\n",
       " 'isclose',\n",
       " 'iscomplex',\n",
       " 'iscomplexobj',\n",
       " 'isfinite',\n",
       " 'isfortran',\n",
       " 'isin',\n",
       " 'isinf',\n",
       " 'isnan',\n",
       " 'isnat',\n",
       " 'isneginf',\n",
       " 'isposinf',\n",
       " 'isreal',\n",
       " 'isrealobj',\n",
       " 'isscalar',\n",
       " 'issctype',\n",
       " 'issubclass_',\n",
       " 'issubdtype',\n",
       " 'issubsctype',\n",
       " 'iterable',\n",
       " 'ix_',\n",
       " 'kaiser',\n",
       " 'kron',\n",
       " 'lcm',\n",
       " 'ldexp',\n",
       " 'left_shift',\n",
       " 'less',\n",
       " 'less_equal',\n",
       " 'lexsort',\n",
       " 'lib',\n",
       " 'linalg',\n",
       " 'linspace',\n",
       " 'little_endian',\n",
       " 'load',\n",
       " 'loads',\n",
       " 'loadtxt',\n",
       " 'log',\n",
       " 'log10',\n",
       " 'log1p',\n",
       " 'log2',\n",
       " 'logaddexp',\n",
       " 'logaddexp2',\n",
       " 'logical_and',\n",
       " 'logical_not',\n",
       " 'logical_or',\n",
       " 'logical_xor',\n",
       " 'logspace',\n",
       " 'long',\n",
       " 'longcomplex',\n",
       " 'longdouble',\n",
       " 'longfloat',\n",
       " 'longlong',\n",
       " 'lookfor',\n",
       " 'ma',\n",
       " 'mafromtxt',\n",
       " 'mask_indices',\n",
       " 'mat',\n",
       " 'math',\n",
       " 'matmul',\n",
       " 'matrix',\n",
       " 'matrixlib',\n",
       " 'max',\n",
       " 'maximum',\n",
       " 'maximum_sctype',\n",
       " 'may_share_memory',\n",
       " 'mean',\n",
       " 'median',\n",
       " 'memmap',\n",
       " 'meshgrid',\n",
       " 'mgrid',\n",
       " 'min',\n",
       " 'min_scalar_type',\n",
       " 'minimum',\n",
       " 'mintypecode',\n",
       " 'mirr',\n",
       " 'mod',\n",
       " 'modf',\n",
       " 'moveaxis',\n",
       " 'msort',\n",
       " 'multiply',\n",
       " 'nan',\n",
       " 'nan_to_num',\n",
       " 'nanargmax',\n",
       " 'nanargmin',\n",
       " 'nancumprod',\n",
       " 'nancumsum',\n",
       " 'nanmax',\n",
       " 'nanmean',\n",
       " 'nanmedian',\n",
       " 'nanmin',\n",
       " 'nanpercentile',\n",
       " 'nanprod',\n",
       " 'nanquantile',\n",
       " 'nanstd',\n",
       " 'nansum',\n",
       " 'nanvar',\n",
       " 'nbytes',\n",
       " 'ndarray',\n",
       " 'ndenumerate',\n",
       " 'ndfromtxt',\n",
       " 'ndim',\n",
       " 'ndindex',\n",
       " 'nditer',\n",
       " 'negative',\n",
       " 'nested_iters',\n",
       " 'newaxis',\n",
       " 'newbuffer',\n",
       " 'nextafter',\n",
       " 'nonzero',\n",
       " 'not_equal',\n",
       " 'nper',\n",
       " 'npv',\n",
       " 'numarray',\n",
       " 'number',\n",
       " 'obj2sctype',\n",
       " 'object',\n",
       " 'object0',\n",
       " 'object_',\n",
       " 'ogrid',\n",
       " 'oldnumeric',\n",
       " 'ones',\n",
       " 'ones_like',\n",
       " 'outer',\n",
       " 'packbits',\n",
       " 'pad',\n",
       " 'partition',\n",
       " 'percentile',\n",
       " 'pi',\n",
       " 'piecewise',\n",
       " 'pkgload',\n",
       " 'place',\n",
       " 'pmt',\n",
       " 'poly',\n",
       " 'poly1d',\n",
       " 'polyadd',\n",
       " 'polyder',\n",
       " 'polydiv',\n",
       " 'polyfit',\n",
       " 'polyint',\n",
       " 'polymul',\n",
       " 'polynomial',\n",
       " 'polysub',\n",
       " 'polyval',\n",
       " 'positive',\n",
       " 'power',\n",
       " 'ppmt',\n",
       " 'print_function',\n",
       " 'printoptions',\n",
       " 'prod',\n",
       " 'product',\n",
       " 'promote_types',\n",
       " 'ptp',\n",
       " 'put',\n",
       " 'put_along_axis',\n",
       " 'putmask',\n",
       " 'pv',\n",
       " 'quantile',\n",
       " 'r_',\n",
       " 'rad2deg',\n",
       " 'radians',\n",
       " 'random',\n",
       " 'rank',\n",
       " 'rate',\n",
       " 'ravel',\n",
       " 'ravel_multi_index',\n",
       " 'real',\n",
       " 'real_if_close',\n",
       " 'rec',\n",
       " 'recarray',\n",
       " 'recfromcsv',\n",
       " 'recfromtxt',\n",
       " 'reciprocal',\n",
       " 'record',\n",
       " 'remainder',\n",
       " 'repeat',\n",
       " 'require',\n",
       " 'reshape',\n",
       " 'resize',\n",
       " 'result_type',\n",
       " 'right_shift',\n",
       " 'rint',\n",
       " 'roll',\n",
       " 'rollaxis',\n",
       " 'roots',\n",
       " 'rot90',\n",
       " 'round',\n",
       " 'round_',\n",
       " 'row_stack',\n",
       " 's_',\n",
       " 'safe_eval',\n",
       " 'save',\n",
       " 'savetxt',\n",
       " 'savez',\n",
       " 'savez_compressed',\n",
       " 'sctype2char',\n",
       " 'sctypeDict',\n",
       " 'sctypeNA',\n",
       " 'sctypes',\n",
       " 'searchsorted',\n",
       " 'select',\n",
       " 'set_numeric_ops',\n",
       " 'set_printoptions',\n",
       " 'set_string_function',\n",
       " 'setbufsize',\n",
       " 'setdiff1d',\n",
       " 'seterr',\n",
       " 'seterrcall',\n",
       " 'seterrobj',\n",
       " 'setxor1d',\n",
       " 'shape',\n",
       " 'shares_memory',\n",
       " 'short',\n",
       " 'show_config',\n",
       " 'sign',\n",
       " 'signbit',\n",
       " 'signedinteger',\n",
       " 'sin',\n",
       " 'sinc',\n",
       " 'single',\n",
       " 'singlecomplex',\n",
       " 'sinh',\n",
       " 'size',\n",
       " 'sometrue',\n",
       " 'sort',\n",
       " 'sort_complex',\n",
       " 'source',\n",
       " 'spacing',\n",
       " 'split',\n",
       " 'sqrt',\n",
       " 'square',\n",
       " 'squeeze',\n",
       " 'stack',\n",
       " 'std',\n",
       " 'str',\n",
       " 'str_',\n",
       " 'string0',\n",
       " 'string_',\n",
       " 'subtract',\n",
       " 'sum',\n",
       " 'swapaxes',\n",
       " 'sys',\n",
       " 'take',\n",
       " 'take_along_axis',\n",
       " 'tan',\n",
       " 'tanh',\n",
       " 'tensordot',\n",
       " 'test',\n",
       " 'testing',\n",
       " 'tile',\n",
       " 'timedelta64',\n",
       " 'trace',\n",
       " 'tracemalloc_domain',\n",
       " 'transpose',\n",
       " 'trapz',\n",
       " 'tri',\n",
       " 'tril',\n",
       " 'tril_indices',\n",
       " 'tril_indices_from',\n",
       " 'trim_zeros',\n",
       " 'triu',\n",
       " 'triu_indices',\n",
       " 'triu_indices_from',\n",
       " 'true_divide',\n",
       " 'trunc',\n",
       " 'typeDict',\n",
       " 'typeNA',\n",
       " 'typecodes',\n",
       " 'typename',\n",
       " 'ubyte',\n",
       " 'ufunc',\n",
       " 'uint',\n",
       " 'uint0',\n",
       " 'uint16',\n",
       " 'uint32',\n",
       " 'uint64',\n",
       " 'uint8',\n",
       " 'uintc',\n",
       " 'uintp',\n",
       " 'ulonglong',\n",
       " 'unicode',\n",
       " 'unicode0',\n",
       " 'unicode_',\n",
       " 'union1d',\n",
       " 'unique',\n",
       " 'unpackbits',\n",
       " 'unravel_index',\n",
       " 'unsignedinteger',\n",
       " 'unwrap',\n",
       " 'ushort',\n",
       " 'vander',\n",
       " 'var',\n",
       " 'vdot',\n",
       " 'vectorize',\n",
       " 'version',\n",
       " 'void',\n",
       " 'void0',\n",
       " 'vsplit',\n",
       " 'vstack',\n",
       " 'warnings',\n",
       " 'where',\n",
       " 'who',\n",
       " 'zeros',\n",
       " 'zeros_like']"
      ]
     },
     "execution_count": 14,
     "metadata": {},
     "output_type": "execute_result"
    }
   ],
   "source": [
    "dir(np)"
   ]
  },
  {
   "cell_type": "markdown",
   "metadata": {},
   "source": [
    "#### Functions\n",
    "\n",
    "Here we will learn how to write a Python function. Python functions are defined using the \"def\" keyword. The \"def\" command is followed by the function name and parentheses. \n",
    "\n",
    "Any input parameters or arguments should be placed within these parentheses. \n",
    "\n",
    "The code block within every function starts with a colon (:) and is indented.\n",
    "\n",
    "To indicate a block of code in Python, you must indent each line of the block by the same amount.\n",
    "\n",
    "An example is shown below."
   ]
  },
  {
   "cell_type": "code",
   "execution_count": 15,
   "metadata": {},
   "outputs": [],
   "source": [
    "def squared(t):\n",
    "    num_squared = t**2\n",
    "    return num_squared"
   ]
  },
  {
   "cell_type": "markdown",
   "metadata": {},
   "source": [
    "The function in the cell above is call \"squared\". It takes a number called \"t\" and returns its square. Here is an example of a code that uses \"squared\" to compute the square of the number 10. \n",
    "\n",
    "The statement \"return num_squared\" exits the function, and passes back the value of num_squared to the caller. A return statement with no arguments is the same as return None."
   ]
  },
  {
   "cell_type": "code",
   "execution_count": 16,
   "metadata": {},
   "outputs": [
    {
     "data": {
      "text/plain": [
       "100"
      ]
     },
     "execution_count": 16,
     "metadata": {},
     "output_type": "execute_result"
    }
   ],
   "source": [
    "squared(10)"
   ]
  },
  {
   "cell_type": "markdown",
   "metadata": {},
   "source": [
    "Here is another example showing a Python function that uses the if-elif-else statement. "
   ]
  },
  {
   "cell_type": "markdown",
   "metadata": {},
   "source": [
    "After Python gets age from the user, it enters the if-elif-else statement and checks each condition one after the other in the order they are given. So first it checks if age is less than 2, and if so, it indicates that the ticket is free and jumps out of the elif-else condition. If age is not less than 2, then it checks the next elif-condition to see if age is between 2 and 13. If so, it prints the appropriate message and jumps out of the if/elif-else statement. If neither the if-condition nor the elif-condition is True, then it executes the code in the else-block."
   ]
  },
  {
   "cell_type": "code",
   "execution_count": 17,
   "metadata": {},
   "outputs": [],
   "source": [
    "def checking(age):\n",
    "    if age <= 2: \n",
    "        return 'your ticket is free'\n",
    "    elif 2 < age < 13:\n",
    "        return 'Ticket price: child fare is $20 '\n",
    "    else:\n",
    "        return 'Ticket price: adult fare is $50'"
   ]
  },
  {
   "cell_type": "markdown",
   "metadata": {},
   "source": [
    "The following code executes the function checking() with the input argument age=45."
   ]
  },
  {
   "cell_type": "code",
   "execution_count": 18,
   "metadata": {},
   "outputs": [
    {
     "data": {
      "text/plain": [
       "'Ticket price: adult fare is $50'"
      ]
     },
     "execution_count": 18,
     "metadata": {},
     "output_type": "execute_result"
    }
   ],
   "source": [
    "checking(45)"
   ]
  },
  {
   "cell_type": "markdown",
   "metadata": {},
   "source": [
    "#### Additional examples: \"print\" command:\n",
    "\n"
   ]
  },
  {
   "cell_type": "code",
   "execution_count": 19,
   "metadata": {},
   "outputs": [
    {
     "name": "stdout",
     "output_type": "stream",
     "text": [
      "myval=1.23457\n"
     ]
    }
   ],
   "source": [
    "myval = 1.23456789\n",
    "print \"myval=%1.5f\" %myval"
   ]
  },
  {
   "cell_type": "code",
   "execution_count": 20,
   "metadata": {},
   "outputs": [
    {
     "name": "stdout",
     "output_type": "stream",
     "text": [
      "myval=   1.23457\n"
     ]
    }
   ],
   "source": [
    "myval = 1.23456789\n",
    "print \"myval=%10.5f\" %myval"
   ]
  },
  {
   "cell_type": "markdown",
   "metadata": {},
   "source": [
    "# Approximation \n",
    "\n",
    "Computing in mathematics is first and foremost about _approximation_.  In this class, this word always means\n",
    "\n",
    "> **Approximation**: Solving one hard problem by turning it into a sequence of simpler problems.  \n",
    "\n",
    "An example of this idea is encapsulated by the statement\n",
    "\n",
    "$$\n",
    "\\lim_{n\\rightarrow\\infty} \\left(1 + \\frac{1}{n}\\right)^{n} = e.\n",
    "$$\n",
    "\n",
    "Now $e$ is an irrational number which to an absurd number of digits given by\n",
    "\n",
    "$$\n",
    "e = 2.71828182845904523536028747135266249775724709369995\n",
    "$$\n",
    "\n",
    "Thus, finding $e$ exactly is difficult.  However, we have a limit statement which says that the numbers $a_{n}$ where\n",
    "\n",
    "$$\n",
    "a_{n} = \\left(1 + \\frac{1}{n}\\right)^{n}\n",
    "$$\n",
    "\n",
    "get _close to_, or _approximate_, $e$ for very, very large values of $n$.  And as you can see, you can readily use a calculator to determine $a_{n}$ for a given value of $n$.  So while knowing $e$ is difficult, using $a_{n}$ as an approximation allows us to get close.  Let's see this in action by using Python.  "
   ]
  },
  {
   "cell_type": "code",
   "execution_count": 21,
   "metadata": {},
   "outputs": [],
   "source": [
    "import numpy as np"
   ]
  },
  {
   "cell_type": "code",
   "execution_count": 22,
   "metadata": {},
   "outputs": [],
   "source": [
    "def exp_approx(n):\n",
    "    return (1. + 1./n)**(n)"
   ]
  },
  {
   "cell_type": "code",
   "execution_count": 23,
   "metadata": {},
   "outputs": [
    {
     "name": "stdout",
     "output_type": "stream",
     "text": [
      "e=2.593742460100002\n",
      "e=2.704813829421528\n",
      "e=2.716923932235594\n",
      "e=2.718145926824926\n",
      "e=2.718268237192297\n",
      "e=2.718280469095753\n",
      "e=2.718281694132082\n"
     ]
    }
   ],
   "source": [
    "print \"e=%1.15f\" %exp_approx(1e1) \n",
    "print \"e=%1.15f\" %exp_approx(1e2)\n",
    "print \"e=%1.15f\" %exp_approx(1e3)\n",
    "print \"e=%1.15f\" %exp_approx(1e4)\n",
    "print \"e=%1.15f\" %exp_approx(1e5)\n",
    "print \"e=%1.15f\" %exp_approx(1e6)\n",
    "print \"e=%1.15f\" %exp_approx(1e7)"
   ]
  },
  {
   "cell_type": "markdown",
   "metadata": {},
   "source": [
    "_Problem_: Using the function and printing techniques above, find the 6th digit of $e$.  Said another way, don't just count on the screen.  That isn't really using a computer to its full potential."
   ]
  },
  {
   "cell_type": "code",
   "execution_count": 24,
   "metadata": {},
   "outputs": [],
   "source": [
    "# You put in code here \n"
   ]
  },
  {
   "cell_type": "markdown",
   "metadata": {},
   "source": [
    "\n",
    "So we see that, affiliated with an approximation, there is also a notion of _ error _ . Throughout the remainder of this course, by this word we mean \n",
    "\n",
    "> **Error**: The difference betweeen a true value or solution and an approximation to it.  "
   ]
  },
  {
   "cell_type": "markdown",
   "metadata": {},
   "source": [
    "So, if we take as the \"true\" value of $e$ its 16-digit value\n",
    "\n",
    "$$\n",
    "e = 2.718281828459045 \n",
    "$$\n",
    "\n",
    "and we use our approximation to $e$ for $n=10^{7}$, then we can find the error between these two things.  "
   ]
  },
  {
   "cell_type": "code",
   "execution_count": 25,
   "metadata": {},
   "outputs": [
    {
     "name": "stdout",
     "output_type": "stream",
     "text": [
      "The error in floating point notation is: 0.000000134326963\n",
      "The error in scientific notation is: 1.34326963e-07\n"
     ]
    }
   ],
   "source": [
    "error = np.abs(2.718281828459045 - exp_approx(1e7))\n",
    "print \"The error in floating point notation is: %1.15f\" %error\n",
    "print \"The error in scientific notation is: %1.8e\" %error"
   ]
  },
  {
   "cell_type": "markdown",
   "metadata": {},
   "source": [
    "Thus we see that using $n=10^{7}$ gives us \n",
    "\n",
    "$$\n",
    "\\left|e - a_{10^{7}} \\right| = 1.34326963 \\times 10^{-7}\n",
    "$$\n",
    "\n",
    "or by using $n=10^{7}$, we get about 6 digits of accuracy after the decimal point.  Note, we have just computed the _absolute error_.  We can also compute the relative error, which in this case would be given by the quantity\n",
    "\n",
    "$$\n",
    "\\frac{\\left|e - a_{10^{7}} \\right|}{e}. \n",
    "$$"
   ]
  },
  {
   "cell_type": "markdown",
   "metadata": {},
   "source": [
    "_ Problem _: Compute the relative error of using $a_{10^{7}}$ as an approximation to $e$.  Do this both for floating point and scientific notations.  "
   ]
  },
  {
   "cell_type": "code",
   "execution_count": 26,
   "metadata": {},
   "outputs": [],
   "source": [
    "# Your turn.  Type your answer in here. \n"
   ]
  },
  {
   "cell_type": "markdown",
   "metadata": {},
   "source": [
    "Unfortunately, not all approximations are created equally.  Said another way, sometimes things do not work as well as we would like.  We see that if we keep trying to use our current approximation for larger values of $n$ we get "
   ]
  },
  {
   "cell_type": "code",
   "execution_count": 27,
   "metadata": {},
   "outputs": [
    {
     "name": "stdout",
     "output_type": "stream",
     "text": [
      "e=2.718281694132082\n",
      "e=2.718281798347358\n",
      "e=2.718282052011560\n",
      "e=2.718282053234788\n",
      "e=2.718282053357110\n",
      "e=2.718523496037238\n",
      "e=2.716110034086901\n",
      "e=2.716110034087023\n"
     ]
    }
   ],
   "source": [
    "values = [1e7, 1e8, 1e9, 1e10, 1e11, 1e12, 1e13, 1e14] # Build a list of different values of n.\n",
    "\n",
    "for value in values: # Iterate over the list nvals value by value.\n",
    "    print \"e=%1.15f\" %exp_approx(value) # Find the approxmation to e using nval for n."
   ]
  },
  {
   "cell_type": "markdown",
   "metadata": {},
   "source": [
    "So, let's think about what we just did here.  First, I just introduced a `for` loop on you like whoa!  So what is this doing?  The easiest way to think about it is to realize that all it is doing is sparing us having to cut and paste more since it is exactly equivalent to having used the code\n",
    "\n",
    "`\n",
    "print \"e=%1.15f\" %exp_approx(1e7)\n",
    "print \"e=%1.15f\" %exp_approx(1e8)\n",
    "print \"e=%1.15f\" %exp_approx(1e9)\n",
    "print \"e=%1.15f\" %exp_approx(1e10)\n",
    "print \"e=%1.15f\" %exp_approx(1e11)\n",
    "print \"e=%1.15f\" %exp_approx(1e12)\n",
    "print \"e=%1.15f\" %exp_approx(1e13)\n",
    "print \"e=%1.15f\" %exp_approx(1e14)\n",
    "`\n",
    "\n",
    "So instead of writing this out over and over again as we did above, we create what is called a _ list _ in Python, containing all the values of n we want to use.  This explains the line of code\n",
    "\n",
    "`values = [1e7, 1e8, 1e9, 1e10, 1e11, 1e12, 1e13, 1e14]`\n",
    "\n",
    "Then, the `for` statement iterates over the values within the list by assigning the variable `value` to be a value within `values`, executing the `print` statement.  After this is done, `value` is assigned to the next value of `values`, the `print` statement is executed, and so forth.  This is done until one reaches the end of the list `values`."
   ]
  },
  {
   "cell_type": "markdown",
   "metadata": {},
   "source": [
    "So, is the limit statement wrong?  No, it is not.  What we are seeing is the limitations of trying to do math on a computer where every number has a finite amount of precision.  We will talk about this issue in far greater detail later in the course.  Suffice to say though, if we want more digits of $e$, we need a better approximation scheme.  And we get one via our very dear friend, the Taylor Series representation of $e^{x}$, which is given by\n",
    "\n",
    "$$\n",
    "e^{x} = \\sum_{j=0}^{\\infty} \\frac{x^{j}}{j!} = 1 + x + \\frac{x^{2}}{2!} + \\frac{x^{3}}{3!} + \\cdots\n",
    "$$\n",
    "\n",
    "Note, by $j!$ we mean\n",
    "\n",
    "$$\n",
    "j! = j(j-1)(j-2)\\cdots(2)(1)(0!), ~ 0! = 1.\n",
    "$$\n",
    "\n",
    "So, in essence then, we have a new way to approximate $e$.  We get this by using the Taylor series so that \n",
    "\n",
    "$$\n",
    "e = \\sum_{j=0}^{\\infty}\\frac{1}{j!} = \\lim_{n\\rightarrow\\infty}T_{n}, ~~~~ T_{n}=\\sum_{j=0}^{n}\\frac{1}{j!}.\n",
    "$$\n",
    "So what this says is that we can approxime $e$ using the truncated Taylor series $T_{n}$.  But to do this, we have to take a sum of an arbitrary number of terms in which we have to keep computing ever longer products at every term.  Clearly, a computer should come in handy here.  \n",
    "\n",
    "The first thing we need to see is that $j!$ is what is called _ recursive _.  What is meant by that is that in order to compute $j!$, we have to compute $(j-1)!$ and then modify this result.  This in words summarizes the identity\n",
    "\n",
    "$$\n",
    "j! = j(j-1)!\n",
    "$$"
   ]
  },
  {
   "cell_type": "markdown",
   "metadata": {},
   "source": [
    "_ Problem _: Suppose we define the terms $a_{j} = \\frac{1}{j!}$.  Show, for $j\\geq 0$ that \n",
    "\n",
    "$$\n",
    "a_{j} = \\frac{a_{j-1}}{j}.\n",
    "$$"
   ]
  },
  {
   "cell_type": "markdown",
   "metadata": {},
   "source": [
    "Now, why fuss about this?  Well, as we are about to see, how we write the math and how we write the code can look very different.  They are always related, but frankly, they are different languages, and so in effect we are obliged to translate.  Let me show you what I mean.  Below is the code I would use to compute the partial sums above."
   ]
  },
  {
   "cell_type": "code",
   "execution_count": 28,
   "metadata": {},
   "outputs": [],
   "source": [
    "def exp_sum(tol): # A user inputs a specified tolerance given by the variable tol.\n",
    "    Tj = 1. # We initialize the sum.\n",
    "    aj = 1. # We initialize the term.\n",
    "    j = 1 # We initialize the term number we are computing.  \n",
    "    while np.abs(aj)>=tol: # Keep updating and adding terms until a term is smaller than the tolerance tol.\n",
    "        aj *= 1./j # Updates the terms of the sum.\n",
    "        Tj += aj # Adds the next term to the sum.\n",
    "        j += 1 # Updates which term we are computing.\n",
    "    return Tj"
   ]
  },
  {
   "cell_type": "markdown",
   "metadata": {},
   "source": [
    "We will dissect this code in a couple of lectures.  But we can see what results we get from it.  And, yup, you guessed it, I'm going to give you more code to wrap your head around.  "
   ]
  },
  {
   "cell_type": "code",
   "execution_count": 29,
   "metadata": {},
   "outputs": [
    {
     "name": "stdout",
     "output_type": "stream",
     "text": [
      "e=2.708333333333333\n",
      "e=2.716666666666666\n",
      "e=2.718253968253968\n",
      "e=2.718278769841270\n",
      "e=2.718281525573192\n",
      "e=2.718281801146385\n",
      "e=2.718281826198493\n"
     ]
    }
   ],
   "source": [
    "tolvals = [1e-1, 1e-2, 1e-3, 1e-4, 1e-5, 1e-6, 1e-7] # Decide on the tolerance values we want to test.\n",
    "\n",
    "for tolval in tolvals: # Iterate over the values within the list tolvals value by value\n",
    "    print \"e=%1.15f\" %exp_sum(tolval) # Find an approximation to e for the given tolerance value tol"
   ]
  },
  {
   "cell_type": "markdown",
   "metadata": {},
   "source": [
    "Let's see what the corresponding error looks like.  "
   ]
  },
  {
   "cell_type": "code",
   "execution_count": 30,
   "metadata": {},
   "outputs": [
    {
     "name": "stdout",
     "output_type": "stream",
     "text": [
      "The absolute error using a tolerance of 1e-01 is: 9.94850e-03\n",
      "The absolute error using a tolerance of 1e-02 is: 1.61516e-03\n",
      "The absolute error using a tolerance of 1e-03 is: 2.78602e-05\n",
      "The absolute error using a tolerance of 1e-04 is: 3.05862e-06\n",
      "The absolute error using a tolerance of 1e-05 is: 3.02886e-07\n",
      "The absolute error using a tolerance of 1e-06 is: 2.73127e-08\n",
      "The absolute error using a tolerance of 1e-07 is: 2.26055e-09\n",
      "The absolute error using a tolerance of 1e-08 is: 1.72876e-10\n",
      "The absolute error using a tolerance of 1e-09 is: 1.22857e-11\n",
      "The absolute error using a tolerance of 1e-10 is: 8.14904e-13\n",
      "The absolute error using a tolerance of 1e-11 is: 5.01821e-14\n"
     ]
    }
   ],
   "source": [
    "etrue = 2.718281828459045\n",
    "tolvals = [1e-1, 1e-2, 1e-3, 1e-4, 1e-5, 1e-6, 1e-7,1e-8,1e-9,1e-10,1e-11] # Decide on the tolerance values we want to test.\n",
    "\n",
    "for tolval in tolvals:\n",
    "    print \"The absolute error using a tolerance of %1.0e is: %1.5e\" %(tolval,np.abs(etrue - exp_sum(tolval))) "
   ]
  },
  {
   "cell_type": "markdown",
   "metadata": {},
   "source": [
    "So as we can see, we have a vastly superior method for computing $e$ by using the truncated Taylor series approach.  With that being said, let's now spend some time dwelling on Taylor Series in greater detail.  "
   ]
  },
  {
   "cell_type": "code",
   "execution_count": null,
   "metadata": {},
   "outputs": [],
   "source": []
  }
 ],
 "metadata": {
  "kernelspec": {
   "display_name": "Python 2",
   "language": "python",
   "name": "python2"
  },
  "language_info": {
   "codemirror_mode": {
    "name": "ipython",
    "version": 2
   },
   "file_extension": ".py",
   "mimetype": "text/x-python",
   "name": "python",
   "nbconvert_exporter": "python",
   "pygments_lexer": "ipython2",
   "version": "2.7.15"
  }
 },
 "nbformat": 4,
 "nbformat_minor": 1
}
