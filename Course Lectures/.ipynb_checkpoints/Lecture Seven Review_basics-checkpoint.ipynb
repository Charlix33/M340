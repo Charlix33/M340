{
 "cells": [
  {
   "cell_type": "markdown",
   "metadata": {},
   "source": [
    "# Lecture Six: Review"
   ]
  },
  {
   "cell_type": "code",
   "execution_count": 1,
   "metadata": {},
   "outputs": [],
   "source": [
    "import numpy as np\n",
    "\n",
    "import matplotlib.pyplot as plt\n"
   ]
  },
  {
   "cell_type": "markdown",
   "metadata": {},
   "source": [
    "- Create the matrix following matrix in Python  and assign it to $x3$\n",
    "\n",
    "\n",
    " \\begin{bmatrix}\n",
    "    1 & 2 & 3 & 4 & 5 \\\\\n",
    "    3 & 4 & 5 & 6 & 7\n",
    "  \\end{bmatrix}\n",
    "\n"
   ]
  },
  {
   "cell_type": "code",
   "execution_count": 25,
   "metadata": {},
   "outputs": [],
   "source": [
    "#enter your code here\n",
    "x3 =  [[1, 2, 3, 4, 5], [6, 7, 8, 9, 10]]"
   ]
  },
  {
   "cell_type": "markdown",
   "metadata": {},
   "source": [
    "- Determine the size of $x3$"
   ]
  },
  {
   "cell_type": "code",
   "execution_count": 3,
   "metadata": {},
   "outputs": [
    {
     "data": {
      "text/plain": [
       "(2, 5)"
      ]
     },
     "execution_count": 3,
     "metadata": {},
     "output_type": "execute_result"
    }
   ],
   "source": [
    "np.shape(x3)"
   ]
  },
  {
   "cell_type": "markdown",
   "metadata": {},
   "source": [
    "- If we use `np.size(x3)` what result would we obtain?"
   ]
  },
  {
   "cell_type": "code",
   "execution_count": 26,
   "metadata": {},
   "outputs": [
    {
     "data": {
      "text/plain": [
       "10"
      ]
     },
     "execution_count": 26,
     "metadata": {},
     "output_type": "execute_result"
    }
   ],
   "source": [
    "#enter your code here\n",
    "np.size(x3)"
   ]
  },
  {
   "cell_type": "markdown",
   "metadata": {},
   "source": [
    "_Problem_: Here is something different I want you to think about.  If I run the following code it generates a vector **xvals**,\n",
    "\n",
    "`xvals = np.linspace(1,6,6)`\n",
    "\n",
    "- How many elements are in _xvals_.\n",
    "- Write a code to access the first element in _xvals_.\n",
    "- Write a code to access the last element in _xvals_."
   ]
  },
  {
   "cell_type": "code",
   "execution_count": 5,
   "metadata": {},
   "outputs": [
    {
     "name": "stdout",
     "output_type": "stream",
     "text": [
      "[1. 2. 3. 4. 5. 6.]\n"
     ]
    }
   ],
   "source": [
    "x1 = np.linspace(1,6,6)\n",
    "print x1"
   ]
  },
  {
   "cell_type": "markdown",
   "metadata": {},
   "source": [
    "- How many elements are in _xvals_?"
   ]
  },
  {
   "cell_type": "code",
   "execution_count": 6,
   "metadata": {},
   "outputs": [
    {
     "name": "stdout",
     "output_type": "stream",
     "text": [
      "6\n"
     ]
    }
   ],
   "source": [
    "print len(x1)"
   ]
  },
  {
   "cell_type": "code",
   "execution_count": 7,
   "metadata": {},
   "outputs": [
    {
     "name": "stdout",
     "output_type": "stream",
     "text": [
      "6\n"
     ]
    }
   ],
   "source": [
    "print np.size(x1)"
   ]
  },
  {
   "cell_type": "markdown",
   "metadata": {},
   "source": [
    "\n",
    "- Write a code to access the first element in _xvals_.\n"
   ]
  },
  {
   "cell_type": "code",
   "execution_count": 8,
   "metadata": {},
   "outputs": [
    {
     "name": "stdout",
     "output_type": "stream",
     "text": [
      "1.0\n"
     ]
    }
   ],
   "source": [
    "print x1[0]"
   ]
  },
  {
   "cell_type": "markdown",
   "metadata": {},
   "source": [
    "- Write a code to access the last element in _xvals_."
   ]
  },
  {
   "cell_type": "code",
   "execution_count": 9,
   "metadata": {},
   "outputs": [
    {
     "data": {
      "text/plain": [
       "6.0"
      ]
     },
     "execution_count": 9,
     "metadata": {},
     "output_type": "execute_result"
    }
   ],
   "source": [
    "x1[5]"
   ]
  },
  {
   "cell_type": "markdown",
   "metadata": {},
   "source": [
    "- Given the following vector $x$, extract the numbers that satisfy the condition $2\\leq x \\leq 9$"
   ]
  },
  {
   "cell_type": "code",
   "execution_count": 10,
   "metadata": {},
   "outputs": [
    {
     "name": "stdout",
     "output_type": "stream",
     "text": [
      "[ 0.  1.  2.  3.  4.  5.  6.  7.  8.  9. 10.]\n"
     ]
    }
   ],
   "source": [
    "x = np.linspace(0,10,11)\n",
    "print  x"
   ]
  },
  {
   "cell_type": "code",
   "execution_count": 11,
   "metadata": {},
   "outputs": [
    {
     "data": {
      "text/plain": [
       "array([2., 3., 4., 5., 6., 7., 8., 9.])"
      ]
     },
     "execution_count": 11,
     "metadata": {},
     "output_type": "execute_result"
    }
   ],
   "source": [
    "x[2:10]"
   ]
  },
  {
   "cell_type": "markdown",
   "metadata": {},
   "source": [
    "For the above code, \n",
    "- 2 states that we start at second element in the list, don't forget  that the slicing index starts at 0\n",
    "- 10 states that we end at the 10th element in the list, but not include it. \n",
    "- The colon in the middle states that we want to use slicing to get objects in the list"
   ]
  },
  {
   "cell_type": "code",
   "execution_count": 12,
   "metadata": {},
   "outputs": [
    {
     "data": {
      "text/plain": [
       "array([ 2.,  3.,  4.,  5.,  6.,  7.,  8.,  9., 10.])"
      ]
     },
     "execution_count": 12,
     "metadata": {},
     "output_type": "execute_result"
    }
   ],
   "source": [
    "#How about the following code?\n",
    "x[2:11]"
   ]
  },
  {
   "cell_type": "code",
   "execution_count": 13,
   "metadata": {},
   "outputs": [
    {
     "data": {
      "text/plain": [
       "array([1., 3., 5., 7., 9.])"
      ]
     },
     "execution_count": 13,
     "metadata": {},
     "output_type": "execute_result"
    }
   ],
   "source": [
    "#How about the following code?\n",
    "x[1:11:2]"
   ]
  },
  {
   "cell_type": "code",
   "execution_count": 14,
   "metadata": {},
   "outputs": [
    {
     "data": {
      "text/plain": [
       "array([10.,  9.,  8.,  7.,  6.,  5.,  4.,  3.,  2.,  1.,  0.])"
      ]
     },
     "execution_count": 14,
     "metadata": {},
     "output_type": "execute_result"
    }
   ],
   "source": [
    "#How about the following code?\n",
    "x[::-1]"
   ]
  },
  {
   "cell_type": "markdown",
   "metadata": {},
   "source": [
    "Note that in the above\n",
    "- Since there is no value before the first colon, it will start at the beginning index of the list. \n",
    "\n",
    "- Since there is no value after the first colon, it will go all the way to the end of the list.\n",
    "\n",
    "- $-1$ makes the index to increment every time by -1, causing it to traverse the list by going backwards. "
   ]
  },
  {
   "cell_type": "markdown",
   "metadata": {},
   "source": [
    "Given that `xnew = [1, 2, 3, 4]`, write a code to sum the numbers in `xnew`."
   ]
  },
  {
   "cell_type": "code",
   "execution_count": 15,
   "metadata": {},
   "outputs": [
    {
     "name": "stdout",
     "output_type": "stream",
     "text": [
      "10\n"
     ]
    }
   ],
   "source": [
    "xnew = [1, 2, 3, 4]\n",
    "sum1 = np.sum(xnew)\n",
    "print sum1 "
   ]
  },
  {
   "cell_type": "code",
   "execution_count": 16,
   "metadata": {},
   "outputs": [
    {
     "name": "stdout",
     "output_type": "stream",
     "text": [
      "10\n"
     ]
    }
   ],
   "source": [
    "#you can also use the following code to sum\n",
    "sum2 = sum(xnew)\n",
    "print sum2"
   ]
  },
  {
   "cell_type": "markdown",
   "metadata": {},
   "source": [
    "#### Example: Finding the slope of a line. \n",
    "Given the equation  $y = 5x$, plot the graph for $0 \\leq x \\leq 10$ and write a code to determine the slope."
   ]
  },
  {
   "cell_type": "code",
   "execution_count": 17,
   "metadata": {},
   "outputs": [
    {
     "name": "stdout",
     "output_type": "stream",
     "text": [
      "5.0\n"
     ]
    }
   ],
   "source": [
    "#Enter your code here\n",
    "xval = np.linspace(0,10,11)\n",
    "yval = 5*xval\n",
    "\n",
    "slope = (yval[1]-yval[0])/(xval[1]-xval[0])\n",
    "print slope"
   ]
  },
  {
   "cell_type": "code",
   "execution_count": 18,
   "metadata": {},
   "outputs": [
    {
     "name": "stdout",
     "output_type": "stream",
     "text": [
      "5.0\n",
      "5.0\n",
      "5.0\n",
      "[5. 5. 5. 5. 5. 5. 5. 5. 5. 5.]\n"
     ]
    }
   ],
   "source": [
    "#Here is an alternative code for finding the slope \n",
    "xval = np.linspace(0,10,11)\n",
    "yval = 5*xval\n",
    "\n",
    "nvals = xval.size \n",
    "\n",
    "slopes = (yval[1:nvals] - yval[0:nvals-1])/ (xval[1:nvals] - xval[0:nvals-1])\n",
    "\n",
    "print np.min(slopes)\n",
    "print np.max(slopes)\n",
    "print np.mean(slopes)\n",
    "\n",
    "print slopes"
   ]
  },
  {
   "cell_type": "markdown",
   "metadata": {},
   "source": [
    "# Trapezoid method"
   ]
  },
  {
   "cell_type": "markdown",
   "metadata": {},
   "source": [
    "As discussed in the last class, the trapezoid method for a function $f$ is:\n",
    "\n",
    "$$\n",
    "\\int_{a}^{b}f(x) dx \\approx \\frac{\\delta x}{2}\\left(f(a) + f(b) + 2\\sum_{j=1}^{N-1}f(x_{j})\\right),\n",
    "$$\n",
    "where $N$ is the number of subintervals in the mesh.\n",
    "\n",
    "_ Problem _: Write a program to implement the trapezoid method for a function $f$.  \n"
   ]
  },
  {
   "cell_type": "code",
   "execution_count": 19,
   "metadata": {},
   "outputs": [],
   "source": [
    "def trapezoid_method(a,b,N,f):\n",
    "    Nint = int(N) #converts N to an integer incase someone enters a real number\n",
    "    xvals = np.linspace(a,b,Nint+1)# here we need the number of points so we add 1 to Nint\n",
    "    fvals = f(xvals) #evaluates the function f at different timepoints\n",
    "    dx = (b-a)/N\n",
    "    return dx/2.*(fvals[0] + fvals[Nint] + 2.*np.sum(fvals[1:Nint])) "
   ]
  },
  {
   "cell_type": "code",
   "execution_count": 20,
   "metadata": {},
   "outputs": [],
   "source": [
    "def f(xvals):\n",
    "    fvals = (np.cos(xvals))**2.\n",
    "    return fvals"
   ]
  },
  {
   "cell_type": "markdown",
   "metadata": {},
   "source": [
    "_Test your program for the trapezoid method with a = 0, b= 2$\\pi$, N=100, and $f = \\cos^2(x)$, i.e. the function defined in the cell above_"
   ]
  },
  {
   "cell_type": "code",
   "execution_count": 21,
   "metadata": {},
   "outputs": [
    {
     "name": "stdout",
     "output_type": "stream",
     "text": [
      "3.1415926535897936\n"
     ]
    }
   ],
   "source": [
    "#enter your code here\n",
    "print trapezoid_method(0.,2.*np.pi,100,f)"
   ]
  },
  {
   "cell_type": "markdown",
   "metadata": {},
   "source": [
    "### Error Analysis for the Trapezoid Method\n",
    "\n",
    "If we denote the approximation to $T_{[a,b]}(f)$ via the Trapezoid Method as $A_{N}(f)$, we want to figure out how the difference between these two things behaves as a function of $N$, or equivalently, $\\delta x$.  We suppose that \n",
    "\n",
    "$$\n",
    "T_{[a,b]}(f) = A_{N}(f) + C\\left(\\delta x\\right)^{p}, ~ \\delta x = \\frac{b-a}{N}.\n",
    "$$\n",
    "\n",
    "So how can we find $p$?  Well, our friend the logarithm returns since we see that \n",
    "\n",
    "$$\n",
    "\\log_{10}\\left|T_{[a,b]}(f) - A_{N}(f) \\right| = \\log_{10}C + p\\left(\\log_{10}(b-a) - \\log_{10} N \\right)\n",
    "$$\n",
    "\n",
    "Thus, if we compare the log of the error to the log of the number of intervals in our mesh, then the slope of that line should be the rate of decay, or how the error decreases as we increase the number of points in the mesh. \n",
    "\n",
    "_Problem_: Write code to find $p$.  This means you need to think of a test case for which you know the answer and then generate a series of comparisons which allow you to infer a trend.  \n",
    "For example:\n",
    "$$\n",
    "\\begin{align}\n",
    "T_{[a,b]} &= \\int_{a}^{b}\\cos^2(x) dx \\\\\n",
    "&= \\left[\\frac{1}{2} x ~ + ~ \\frac{1}{4} \\sin(2x)\\right]_a^b\n",
    "\\end{align}\n",
    "$$\n",
    "- Problem 1a Using the above expression for $T_{[a,b]}$ and the Trapezoid approximation write a code to compute the errors. Generate a plot of the log10 of the errors against the log10 of N, for $N = [1e1,1e2,1e3,1e4]$.\n",
    "\n",
    "\n"
   ]
  },
  {
   "cell_type": "code",
   "execution_count": 22,
   "metadata": {},
   "outputs": [],
   "source": [
    "def error_test(a,b,f):\n",
    "    tval = (b-a)/2. + (np.sin(2.*b)-np.sin(2.*a))/4. #exact solution for the definite integral\n",
    "    Nvals = np.array([1e1,1e2,1e3,1e4])\n",
    "    Evals = np.zeros(Nvals.size) \n",
    "    for jj in xrange(0,Nvals.size):\n",
    "        Evals[jj] = np.log10(np.abs(tval - trapezoid_method(a,b,Nvals[jj],f)))\n",
    "    xvals = np.log10(Nvals)\n",
    "    plt.plot(xvals,Evals)\n",
    "    novals = Evals.size\n",
    "    slopes = (Evals[1:novals]-Evals[0:novals-1])/(xvals[1:novals]-xvals[0:novals-1])\n",
    "    print np.min(slopes)\n",
    "    print np.max(slopes)\n",
    "    print np.mean(slopes)"
   ]
  },
  {
   "cell_type": "code",
   "execution_count": 23,
   "metadata": {},
   "outputs": [],
   "source": [
    "def csq(xvals):\n",
    "    return (np.cos(xvals))**2."
   ]
  },
  {
   "cell_type": "markdown",
   "metadata": {},
   "source": [
    "Use your code to determine the value of $p$ for $a=0$ and $b=1.54\\pi$"
   ]
  },
  {
   "cell_type": "code",
   "execution_count": 24,
   "metadata": {},
   "outputs": [
    {
     "name": "stdout",
     "output_type": "stream",
     "text": [
      "-2.0068091292290053\n",
      "-2.000000665169094\n",
      "-2.002292298636521\n"
     ]
    },
    {
     "data": {
      "image/png": "[encoded data removed]",
      "text/plain": [
       "<Figure size 432x288 with 1 Axes>"
      ]
     },
     "metadata": {
      "needs_background": "light"
     },
     "output_type": "display_data"
    }
   ],
   "source": [
    "error_test(0.,1.54*np.pi,csq)"
   ]
  },
  {
   "cell_type": "code",
   "execution_count": null,
   "metadata": {},
   "outputs": [],
   "source": []
  }
 ],
 "metadata": {
  "kernelspec": {
   "display_name": "Python 3",
   "language": "python",
   "name": "python3"
  },
  "language_info": {
   "codemirror_mode": {
    "name": "ipython",
    "version": 3
   },
   "file_extension": ".py",
   "mimetype": "text/x-python",
   "name": "python",
   "nbconvert_exporter": "python",
   "pygments_lexer": "ipython3",
   "version": "3.7.4"
  }
 },
 "nbformat": 4,
 "nbformat_minor": 2
}
