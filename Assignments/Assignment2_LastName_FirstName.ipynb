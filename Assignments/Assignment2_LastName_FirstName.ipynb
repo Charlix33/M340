{
 "cells": [
  {
   "cell_type": "markdown",
   "metadata": {},
   "source": [
    "## Assignment2_LastName_FirstName"
   ]
  },
  {
   "cell_type": "markdown",
   "metadata": {},
   "source": [
    "Using Jupyter Notebook, create a new file and save the file as `Assignment2_LastName_FirstName.ipynb`. \n",
    "\n",
    "Type the notes on page 551 and 557 of the article `Mathematical modelling and numerical simulations of actin dynamics in the eukaryotic cell` (available on the course webpage) into your file `Assignment2_LastName_FirstName.ipynb`. \n",
    "\n",
    "Run all the cells in the file to display the output. Save the file and upload it to your HW folder. \n",
    "\n",
    "Hint:\n",
    "1. List of LaTeX mathematical symbols is available at:\n",
    "http://tug.ctan.org/info/symbols/comprehensive/symbols-a4.pdf\n",
    "and https://www.caam.rice.edu/~heinken/latex/symbols.pdf\n",
    "\n",
    "2. Use `Markdown` when creating tables e.g.\n",
    "\n",
    "| Department | University | Class|\n",
    "| --- | --- | --- |\n",
    "| Mathematics | SDSU | MATH340 |"
   ]
  },
  {
   "cell_type": "code",
   "execution_count": null,
   "metadata": {},
   "outputs": [],
   "source": []
  },
  {
   "cell_type": "code",
   "execution_count": null,
   "metadata": {},
   "outputs": [],
   "source": []
  }
 ],
 "metadata": {
  "kernelspec": {
   "display_name": "Python 2",
   "language": "python",
   "name": "python2"
  },
  "language_info": {
   "codemirror_mode": {
    "name": "ipython",
    "version": 2
   },
   "file_extension": ".py",
   "mimetype": "text/x-python",
   "name": "python",
   "nbconvert_exporter": "python",
   "pygments_lexer": "ipython2",
   "version": "2.7.15"
  }
 },
 "nbformat": 4,
 "nbformat_minor": 2
}
