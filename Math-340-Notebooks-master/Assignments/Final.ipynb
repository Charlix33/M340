{
 "cells": [
  {
   "cell_type": "markdown",
   "metadata": {},
   "source": [
    "## Final Exam\n",
    "\n",
    "## Due Wednesday, May 15th"
   ]
  },
  {
   "cell_type": "code",
   "execution_count": 1,
   "metadata": {},
   "outputs": [],
   "source": [
    "import numpy as np\n",
    "import matplotlib.pyplot as plt\n",
    "%matplotlib inline"
   ]
  },
  {
   "cell_type": "markdown",
   "metadata": {},
   "source": [
    "**Problem 1** (20 pts) There are many methods for finding numerical solutions to differential equations of the form $y'=f(x,y)$, an example is the following formula:\n",
    "$$y_{n+1} = y_n + \\frac{1}{6}(k_1 +2k_2+2k_3+k_4)$$\n",
    "where \n",
    "\\begin{align}\n",
    "k_1 &= hf(x_n,y_n)\\\\\n",
    "k_2 &= hf(x_n+ 0.5h,y_n+0.5k_1)\\\\\n",
    "k_3 &=hf(x_n+0.5h,y_n+0.5k_2)\\\\\n",
    "k_4 &= hf(x_n+h,y_n+k_3)\n",
    "\\end{align}\n",
    "\n",
    "You are advised to look carefully at the formula; note that $k_2$ depends on $k_1$, $k_3$ depends on $k_2$, and $k_4$ depends on $k_3$. The program you implement in part (a) will use the formula above to compute the approximate solution of the differential equation $y'=2xy$.\n",
    "\n",
    "\n",
    "(a) The value of $x_n$ for $n=0 \\cdots 5$ is given in the table below:\n",
    "\n",
    "| $x_0$  |  $x_1$ |  $x_2$ |  $x_3$|  $x_4$  |  $x_5$ |\n",
    "| ------------- | ------------- | ------------- | ------------- | ------------- | ------------- |\n",
    " | 1 | 1.1 | 1.2| 1.3  | 1.4 | 1.5 |\n",
    " \n",
    "Suppose that $y_0=1$, $h=0.1$, $f(x,y) = 2xy$, write a program to compute the value of $y_n$ for $n=0 \\cdots 5$. Use the formula for $y_{n+1}$ above. Observe that the formula for $y_{n+1}$ is a recursive relation.\n",
    "\n",
    "\n",
    "(b) The global truncation error for the formula above is:\n",
    "\n",
    "$$ \\text{error} = Y^{(5)}(c)\\frac{h^5}{5!},$$\n",
    "where $Y(x) = e^{x^2-1}$  is the exact solution of the differential equation $y'=2xy$. \n",
    "\n",
    "Calculate the global truncation error for the method. Use $h=0.1$ and $c=1.5$. Note  that $Y^{(5)}$ represents the fifth derivative of $Y(x)$. You must show work to receive credit.\n",
    "\n",
    "(c) Compare the exact solution $Y(x) = e^{x^2-1}$ at $x=x_n$ for $n=0 \\cdots 5$ to your computed solution from part (a) by plotting both on the same graph. Describe your observation(s).   "
   ]
  },
  {
   "cell_type": "code",
   "execution_count": 2,
   "metadata": {},
   "outputs": [],
   "source": [
    "# present your code for part (a)"
   ]
  },
  {
   "cell_type": "code",
   "execution_count": 3,
   "metadata": {},
   "outputs": [],
   "source": [
    "# write down the value of $y_n$ for $n=0 \\cdots 5$ you obtained from your program "
   ]
  },
  {
   "cell_type": "code",
   "execution_count": 4,
   "metadata": {},
   "outputs": [],
   "source": [
    "# present your work for part (b)"
   ]
  },
  {
   "cell_type": "markdown",
   "metadata": {},
   "source": [
    "**Problem 2** (20 pts): \n",
    "\n",
    "Let $K$ be the maximum value of $\\left \\lvert f^{(4)}(x)\\right\\rvert$ on an interval $[a,b]$, then the error bound for Simpson method $E_S$ is: \n",
    "\n",
    "$$E_S = \\left\\lvert \\int_a^b f(x) \\ dx - S_n  \\right\\rvert \\leq \\frac{(b-a)^5 K }{180 \\ n^4}$$\n",
    "\n",
    "Let $f(x) = \\cos(x-x^2)$, \n",
    "\n",
    "(a) Write a program to compute the maximum value of $\\left \\lvert f^{(4)}(x)\\right\\rvert$ on an interval $[0,1]$. Note that $f^{(4)}(x)$ represents the fourth derivative of the function $f(x)$.\n",
    "\n",
    "(b) How large must the value of $n$ be in the approximation $S_n$ of $\\int_0^1 f(x) \\ dx$ by Simpson's rule to ensure that the absolute error is less than $10^{-4}$?\n",
    "\n",
    "(c) Write a program to compute the integral $\\int_0^1 f(x) \\ dx$  using Simpson's method with the value of $n$ obtained in part (b).\n",
    "\n",
    "(d) Write down the exact solution for $\\int_0^1 f(x) \\ dx$ (you don't need to show work for how you computed the exact integral).\n",
    "\n",
    "(e) Compare the exact solution from part (d) to the computed solution from part (c). Does it agree with you estimates in part (b)?\n",
    "\n",
    "\n"
   ]
  },
  {
   "cell_type": "code",
   "execution_count": 5,
   "metadata": {},
   "outputs": [],
   "source": [
    "#present your program for part 2(a)"
   ]
  },
  {
   "cell_type": "code",
   "execution_count": 6,
   "metadata": {},
   "outputs": [],
   "source": [
    "#present your work for part 2(b) "
   ]
  },
  {
   "cell_type": "code",
   "execution_count": 7,
   "metadata": {},
   "outputs": [],
   "source": [
    "#present your program for part 2(c) "
   ]
  },
  {
   "cell_type": "code",
   "execution_count": 8,
   "metadata": {},
   "outputs": [],
   "source": [
    "#present your answer from Simpson's method for part 2(c) "
   ]
  },
  {
   "cell_type": "code",
   "execution_count": 9,
   "metadata": {},
   "outputs": [],
   "source": [
    "#present your answer for part 2(d) "
   ]
  },
  {
   "cell_type": "code",
   "execution_count": 10,
   "metadata": {},
   "outputs": [],
   "source": [
    "#present your answer for part 2(e) "
   ]
  },
  {
   "cell_type": "markdown",
   "metadata": {},
   "source": [
    "**Problem 3** (15 pts): Using the Secant Method, for $A>0$, \n",
    "\n",
    "* (10 pts) Write a program which finds $A^{1/m}$ for any positive value $m$.  Note, you need to choose a function $f(x)$ for the Secant Method whose root is $A^{1/m}$.  \n",
    "\n",
    "* (5 pts) How does your choice of $m$ effect how many iterations your program takes to converge for a given tolerance choice?  Plots will help me to understand your thinking here.  "
   ]
  },
  {
   "cell_type": "code",
   "execution_count": 11,
   "metadata": {},
   "outputs": [],
   "source": [
    "#present your program for part 3(a) "
   ]
  },
  {
   "cell_type": "code",
   "execution_count": 12,
   "metadata": {},
   "outputs": [],
   "source": [
    "#present your answer for part 3(b) "
   ]
  },
  {
   "cell_type": "markdown",
   "metadata": {},
   "source": [
    "**Problem  4** (15 pts): So, associated with Chebyshev spacing or the Chebyshev nodes are Chebyshev polynomials, which for $-1\\leq x \\leq 1$ are defined to be $T_{n}(x)$ where\n",
    "\n",
    "$$\n",
    "T_{n}(x) = \\cos\\left(n \\cos^{-1}(x) \\right), ~ n=0, 1, ...\n",
    "$$\n",
    "\n",
    "We see that \n",
    "\n",
    "$$\n",
    "T_{0}(x) = 1, ~ T_{1}(x) = x\n",
    "$$\n",
    "\n",
    "Now:\n",
    "\n",
    "(a) (3 pts) Letting $\\theta = \\cos^{-1}(x)$, so that $T_{2}(x)=\\cos(2\\theta)$ and $T_{1}(x) = x = \\cos(\\theta)$, and using \n",
    "\n",
    "$$\n",
    "\\cos(2\\theta) = \\cos^{2}(\\theta) - \\sin^{2}(\\theta), \n",
    "$$\n",
    "\n",
    "and \n",
    "\n",
    "$$\n",
    "\\sin^{2}(\\theta) = 1 - \\cos^{2}(\\theta), \n",
    "$$\n",
    "\n",
    "show that \n",
    "\n",
    "$$\n",
    "T_{2}(x) = 2x^{2} - 1 \n",
    "$$\n",
    "(b) (3 pts) Letting $\\theta = \\cos^{-1}(x)$, so that $T_{n}(x)=\\cos(n\\theta)$, and using \n",
    "\n",
    "\\begin{align*}\n",
    "T_{n+1}(x) = \\cos((n+1)\\theta) = & \\cos(n\\theta)\\cos(\\theta) - \\sin(n\\theta)\\sin(\\theta)\\\\\n",
    "& \\\\\n",
    "\\sin(n\\theta) = & \\sin((n-1)\\theta)\\cos(\\theta) + \\cos((n-1)\\theta)\\sin(\\theta)\\\\\n",
    "& \\\\\n",
    "\\sin((n-1)\\theta)\\sin(\\theta) = & \\cos((n-1)\\theta)\\cos(\\theta) - \\cos(n\\theta) \n",
    "\\end{align*}\n",
    "\n",
    "show that \n",
    "\n",
    "$$\n",
    "T_{n+1}(x) = 2xT_{n}(x) - T_{n-1}(x)\n",
    "$$\n",
    "\n",
    "Using this and a brief induction argument, show that $T_{n}(x)$ is an $n^{th}$-order polynomial.\n",
    "\n",
    "(c) (2 pts) Show that the $n+1$ roots of $T_{n+1}(x)$ are given by the Chebyshev nodes \n",
    "\n",
    "$$\n",
    "x_{j} = \\cos\\left(\\pi\\frac{2j+1}{2n+2} \\right),  ~ j=0,\\cdots, n\n",
    "$$\n",
    "\n",
    "Thus, if we use the recurence relation above and the Fundamental Theorem of Algebra, we see that \n",
    "\n",
    "$$\n",
    "T_{n+1}(x) = 2^{n}\\prod_{j=0}^{n}\\left(x - x_{j}\\right).\n",
    "$$\n",
    "\n",
    "Therefore, when we write the Lagrange Interpolating Polynomial, $P_{n}(x)$, which interpolates the data $\\left\\{x_{j}, f_{j}\\right\\}_{j=0}^{n}$, we have that \n",
    "\n",
    "\\begin{align}\n",
    "P_{n}(x) = & \\sum_{j=0}^{n} f_{j}L_{j}(x)\\\\\n",
    "= & \\frac{1}{2^{n}}\\sum_{j=0}^{n}\\frac{f_{j}}{c_{j}}\\frac{T_{n+1}(x)}{x-x_{j}}, ~ c_{j} = \\prod_{l=0,l\\neq j}^{n}\\left(x_{j}-x_{l}\\right)\n",
    "\\end{align}\n",
    "\n",
    "From this then, we can build an approximation to differentiation using Chebyshev nodes by finding\n",
    "\n",
    "$$\n",
    "\\left.\\frac{dP_{n}}{dx}\\right|_{x=x_{k}} = \\frac{1}{2^{n}}\\sum_{j=0}^{n}\\frac{f_{j}}{c_{j}}\\left.\\frac{d}{dx}\\left(\\frac{T_{n+1}(x)}{x-x_{j}}\\right)\\right|_{x=x_{k}}\n",
    "$$\n",
    "\n",
    "Using some effort (which you do not need to recreate), we then have that \n",
    "\n",
    "$$\n",
    "\\left.\\frac{dP_{n}}{dx}\\right|_{x=x_{k}} = \\frac{(n+1)(-1)^{k}}{2^{n}\\tilde{x}_{k}}\\sum_{j=0}^{n}\\frac{d_{kj}}{c_{j}}f_{j}, \n",
    "$$\n",
    "\n",
    "where\n",
    "\n",
    "$$\n",
    "\\tilde{x}_{k} = \\sin\\left(\\pi \\frac{2k+1}{2n+2} \\right), ~ c_{j} = \\prod_{l=0,l\\neq j}^{n}\\left(x_{j}-x_{l}\\right).\n",
    "$$\n",
    "\n",
    "and \n",
    "\n",
    "$$\n",
    "d_{kj} = \\left\\{\\begin{array}{rl}\n",
    "\\frac{x_{k}}{2(1-x_{k}^{2})} & j = k \\\\\n",
    "\\frac{1}{x_{k}-x_{j}} & j\\neq k\n",
    "\\end{array}\n",
    "\\right.\n",
    "$$\n",
    "\n",
    "Now, for given data $\\left\\{x_{j}, f_{j} \\right\\}_{j=0}^{n}$\n",
    "\n",
    "(d) (4 pts) Write a program which implements the above approximation for $f'(x)$ over the Chebyshev nodes.  Note, you may want to try to store the necessary information in a matrix and then use matrix-vector multiplication to compute your result.  Otherwise, just use nested for loops.  \n",
    "\n",
    "(e) (3 pts) For the function $f(x)=1/(1+x^{2})$, determine the maximum error in your approximation of the derivative over the interval $-1\\leq x \\leq 1$ as you vary the number of interpolation points $n+1$.  Comment on the behavior of the error in contrast to how the error behaves using the centered-difference approximations from Homework 12.  "
   ]
  },
  {
   "cell_type": "code",
   "execution_count": 13,
   "metadata": {},
   "outputs": [],
   "source": [
    "#present your work for part 4(a) "
   ]
  },
  {
   "cell_type": "code",
   "execution_count": 14,
   "metadata": {},
   "outputs": [],
   "source": [
    "#present your work for part 4(b) "
   ]
  },
  {
   "cell_type": "code",
   "execution_count": 15,
   "metadata": {},
   "outputs": [],
   "source": [
    "#present your work for part 4(c) "
   ]
  },
  {
   "cell_type": "code",
   "execution_count": 16,
   "metadata": {},
   "outputs": [],
   "source": [
    "#present your work for part 4(d) "
   ]
  },
  {
   "cell_type": "code",
   "execution_count": 17,
   "metadata": {},
   "outputs": [],
   "source": [
    "#present your work for part 4(e) "
   ]
  },
  {
   "cell_type": "code",
   "execution_count": null,
   "metadata": {},
   "outputs": [],
   "source": []
  },
  {
   "cell_type": "code",
   "execution_count": null,
   "metadata": {},
   "outputs": [],
   "source": []
  }
 ],
 "metadata": {
  "kernelspec": {
   "display_name": "Python 2",
   "language": "python",
   "name": "python2"
  },
  "language_info": {
   "codemirror_mode": {
    "name": "ipython",
    "version": 2
   },
   "file_extension": ".py",
   "mimetype": "text/x-python",
   "name": "python",
   "nbconvert_exporter": "python",
   "pygments_lexer": "ipython2",
   "version": "2.7.15"
  }
 },
 "nbformat": 4,
 "nbformat_minor": 2
}
