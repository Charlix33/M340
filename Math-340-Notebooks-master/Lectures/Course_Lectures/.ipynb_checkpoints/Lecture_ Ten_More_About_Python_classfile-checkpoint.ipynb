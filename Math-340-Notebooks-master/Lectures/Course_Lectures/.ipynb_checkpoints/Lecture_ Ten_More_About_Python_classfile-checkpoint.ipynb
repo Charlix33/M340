{
 "cells": [
  {
   "cell_type": "code",
   "execution_count": 3,
   "metadata": {},
   "outputs": [],
   "source": [
    "import matplotlib.pyplot as plt\n",
    "%matplotlib inline\n",
    "import numpy as np\n",
    "import string\n"
   ]
  },
  {
   "cell_type": "markdown",
   "metadata": {},
   "source": [
    "# Example 1\n",
    "The university is organizing a workshop and students will be grouped based on their college. Students will register at the front desk to be able to attend the workshop. Once the college (COE, COS, CE, SPH) is identified, the student is directed to the room where a seminar is being conducted to discuss career opportunities in the college.  \n",
    "Those in COE will go to Room 100.\n",
    "Those in COS will go to Room 200.\n",
    "Those in CE will go to Room 300.\n",
    "Those in SPH will go to Room 400.\n",
    "\n",
    "Write a program to implement this"
   ]
  },
  {
   "cell_type": "code",
   "execution_count": 1,
   "metadata": {},
   "outputs": [
    {
     "name": "stdout",
     "output_type": "stream",
     "text": [
      "Enter 1 for COE, 2 for COS, 3 for CE or 4 or SPH or 5 for a different college:2\n",
      "\n",
      " Please go to Room 200\n",
      "\n"
     ]
    }
   ],
   "source": [
    "#enter your code here\n",
    "schoolcode = input('Enter 1 for COE, 2 for COS, 3 for CE or 4 or SPH or 5 for a different college:')\n",
    "\n",
    "if schoolcode == 1:\n",
    "    print('\\n Please go to Room 100\\n')\n",
    "elif schoolcode ==2:\n",
    "    print('\\n Please go to Room 200\\n')\n",
    "elif schoolcode ==3:\n",
    "    print('\\n Please go to Room 300\\n')\n",
    "elif schoolcode ==4:\n",
    "    print('\\n Please go to Room 400\\n')\n",
    "else:\n",
    "    print('\\n This event is for students in COE, COS, CE and SPH\\n')"
   ]
  },
  {
   "cell_type": "markdown",
   "metadata": {},
   "source": [
    "# Example 2\n",
    "Write a program to calculate the sum and average of integers in a vector that begins from $1$ to $n$. The value of $n$ will be specified by the user on the keyboard. \n",
    "\n",
    "The user will be asked to enter a value for $n$ and your program will determine the sum and average of the numbers. \n",
    "\n",
    "Test your code with n = 4 and n=1000000."
   ]
  },
  {
   "cell_type": "code",
   "execution_count": 4,
   "metadata": {
    "scrolled": true
   },
   "outputs": [
    {
     "name": "stdout",
     "output_type": "stream",
     "text": [
      "Enter a value for n: 4\n",
      "The sum of the first 4 integers is 10.0\n",
      "The mean of the first 4 integers is 2.5\n"
     ]
    }
   ],
   "source": [
    "#enter your code here\n",
    "n  = input('Enter a value for n: ')\n",
    "m = np.linspace(1,n,int(n))\n",
    "\n",
    "m_size =  len(m)\n",
    "\n",
    "my_sum = np.sum(m)\n",
    "ave = my_sum/m_size\n",
    "\n",
    "s1 = 'The sum of the first ' + repr(n) + ' integers is ' + repr(my_sum)\n",
    "print s1\n",
    "\n",
    "s2 = 'The mean of the first ' + repr(n) + ' integers is ' + repr(ave)\n",
    "print s2\n",
    "\n"
   ]
  },
  {
   "cell_type": "code",
   "execution_count": null,
   "metadata": {},
   "outputs": [],
   "source": []
  },
  {
   "cell_type": "markdown",
   "metadata": {},
   "source": [
    "# Manipulating Text and File I/O"
   ]
  },
  {
   "cell_type": "markdown",
   "metadata": {},
   "source": [
    "So a cool thing about this is that we can work with files in a very natural way.  For example, I can import text files such as 'beyonce.txt' and then print the lines by writing the following "
   ]
  },
  {
   "cell_type": "code",
   "execution_count": 2,
   "metadata": {},
   "outputs": [
    {
     "name": "stdout",
     "output_type": "stream",
     "text": [
      "The line number is 1.\n",
      "Nothing else seems to hurt like the smile on your face when it is only in my memory.  \r\n",
      "\n",
      "The line number is 2.\n",
      "I am the dragon breathing fire, beautiful mane, I'm the lion.\r\n",
      "\n",
      "The line number is 3.\n",
      "Our love was stronger than your pride. \r\n",
      "\n",
      "The line number is 4.\n",
      "You don't deserve my tears, I guess that's why they ain't there. \n"
     ]
    }
   ],
   "source": [
    "queen_bee = open('beyonce.txt')\n",
    "count = 0\n",
    "for line in queen_bee:\n",
    "    count += 1\n",
    "    print \"The line number is %d.\" % count\n",
    "    print line\n",
    "queen_bee.close()"
   ]
  },
  {
   "cell_type": "markdown",
   "metadata": {},
   "source": [
    "So we see that yes, the text file is treated as a series of lines. And in terms of reading the lines, that is also straightforward."
   ]
  },
  {
   "cell_type": "code",
   "execution_count": 3,
   "metadata": {},
   "outputs": [
    {
     "name": "stdout",
     "output_type": "stream",
     "text": [
      "['Nothing el', 'e ', 'eem', ' to hurt like the ', 'mile on your face when it i', ' only in my memory.']\n",
      "Nothing else seems to hurt like the smile on your face when it is only in my memory.\n",
      "\n",
      "[\"I am the dragon breathing fire, beautiful mane, I'm the lion.\"]\n",
      "I am the dragon breathing fire, beautiful mane, I'm the lion.\n",
      "\n",
      "['Our love wa', ' ', 'tronger than your pride.']\n",
      "Our love was stronger than your pride.\n",
      "\n",
      "[\"You don't de\", 'erve my tear', ', I gue', '', \" that'\", \" why they ain't there.\"]\n",
      "You don't deserve my tears, I guess that's why they ain't there.\n",
      "\n"
     ]
    }
   ],
   "source": [
    "queen_bee = open('beyonce.txt')\n",
    "for line in queen_bee:\n",
    "    line = line.rstrip() # Remove trailing white space\n",
    "    words = line.split('s') # Turns the line into a list of words\n",
    "    print words\n",
    "    print line\n",
    "    print\n",
    "queen_bee.close()"
   ]
  },
  {
   "cell_type": "markdown",
   "metadata": {
    "collapsed": true
   },
   "source": [
    "We can then readily start answering various questions.  Like, what if we want to print out only those lines that contain the word 'fire' in them.  Then what we do is the following"
   ]
  },
  {
   "cell_type": "code",
   "execution_count": 18,
   "metadata": {},
   "outputs": [
    {
     "name": "stdout",
     "output_type": "stream",
     "text": [
      "I am the dragon breathing fire, beautiful mane, I'm the lion.\n"
     ]
    }
   ],
   "source": [
    "queen_bee = open('beyonce.txt')\n",
    "for line in queen_bee:\n",
    "    line = line.rstrip() # Remove trailing white space\n",
    "    words = line.split('s') # Turns the line into a list of words by breaking line up across spaces.\n",
    "    if \"fire\" in words:\n",
    "        print line\n",
    "queen_bee.close()"
   ]
  },
  {
   "cell_type": "markdown",
   "metadata": {},
   "source": [
    "Okay, that didn't do anything.  Why not?  Write the code that will actually do something."
   ]
  },
  {
   "cell_type": "code",
   "execution_count": 4,
   "metadata": {},
   "outputs": [],
   "source": [
    "# modify the code to print out only those lines that contain the word 'fire' in them\n",
    "queen_bee = open('beyonce.txt')\n",
    "for line in queen_bee:\n",
    "    line = line.rstrip() # Remove trailing white space\n",
    "    words = line.split('s') # Turns the line into a list of words by breaking line up across spaces.\n",
    "    if \"fire,\" in words:\n",
    "        print line\n",
    "queen_bee.close()"
   ]
  },
  {
   "cell_type": "markdown",
   "metadata": {},
   "source": [
    "So maybe we also want to process each line not just into words, but remove punctuation marks. How would you do this for just commas?"
   ]
  },
  {
   "cell_type": "code",
   "execution_count": 13,
   "metadata": {},
   "outputs": [
    {
     "name": "stdout",
     "output_type": "stream",
     "text": [
      "I am the dragon breathing fire, beautiful mane, I'm the lion.\n"
     ]
    }
   ],
   "source": [
    "queen_bee = open('beyonce.txt')\n",
    "\n",
    "for line in queen_bee:\n",
    "    line = line.rstrip() # Remove trailing white space\n",
    "    words = line.split() # Turns the line into a list of words by breaking line up across spaces.\n",
    "    cnt = 0\n",
    "    for word in words:\n",
    "\n",
    "        if \",\" in word:\n",
    "            words[cnt] = word[0:len(word)-1] # Thus, we change the list element, not the word itself.\n",
    "        cnt+=1\n",
    "    if \"fire\" in words:\n",
    "        print line\n",
    "\n",
    "queen_bee.close()"
   ]
  },
  {
   "cell_type": "markdown",
   "metadata": {},
   "source": [
    "## More Text Processing"
   ]
  },
  {
   "cell_type": "markdown",
   "metadata": {},
   "source": [
    "Let us build a function whose job it is to provide a histogram of the letters in a given body of text.  Along the way, we need to build helper functions which the main function will call.  But let's get a template of an idea down first.  \n",
    "\n",
    "We want to pass in a filename, say \"juliet.txt\" or \"beyonce.txt\", and then get a plot of the frequency with which different letters appear.  We should return the distribution as a list.\n",
    "\n",
    "But okay, we want to do a frequency analysis of letters.  That means we want to get rid of punctuation.  So we need to develop a helper function which takes a list of words, strips the punctuation while keeping all the letters.  \n",
    "\n",
    "Now note, because we have Shakespeare to analyze, we have to allow that things like apostrophes can come at almost any point in the word.  So be careful.  Your helper function should return a list of words with no punctuation.  You will need to use the string helper function\n",
    "\n",
    "`word.isalnum()`\n",
    "\n",
    "which tests if a string consists only of alpha/numeric characters.  Also, don't forget about good stuff like \n",
    "\n",
    " `word.append(char)`"
   ]
  },
  {
   "cell_type": "code",
   "execution_count": 7,
   "metadata": {},
   "outputs": [],
   "source": [
    "def punc_remove(words):\n",
    "    ind = 0\n",
    "    for word in words:\n",
    "            # Here is where you need to start introducing code.\n",
    "            if word.isalnum() == False:\n",
    "                wordt = []\n",
    "                for char in word:\n",
    "                    if char.isalnum():\n",
    "                        wordt.append(char)\n",
    "                delimeter = \"\"\n",
    "                words[ind] = delimeter.join(wordt) # Note the absence of a return statement since we rely\n",
    "                                                   # on pass by reference to modify words both within\n",
    "                                                   # the function and then used afterwards in its \n",
    "                                                   # modified form.\n",
    "            ind+=1"
   ]
  },
  {
   "cell_type": "markdown",
   "metadata": {},
   "source": [
    "We then need to think about lower and upper case.  So, we would like a helper function which takes a list of words and converts everything to upper case.  Note, you will need to make use of the string helper function\n",
    "\n",
    "`word.upper()`\n",
    "\n",
    "which makes every character in a string uppercase. "
   ]
  },
  {
   "cell_type": "code",
   "execution_count": 8,
   "metadata": {},
   "outputs": [],
   "source": [
    "def make_upper(words):\n",
    "    ind = 0\n",
    "    for word in words:\n",
    "        words[ind] = word.upper()\n",
    "        ind += 1"
   ]
  },
  {
   "cell_type": "markdown",
   "metadata": {},
   "source": [
    "Okay, now the hard part.  We need to build a helper function which is able to take a given string or word, and a list which is keeping track of the frequency of occurences of each letter.  To do this, we need to make use of what are called _ dictionaries _.  A good way to see the use of them is to realize that if I give you a word, and you wanted to keep track of which letters appeared in it, you would probably think to write something like "
   ]
  },
  {
   "cell_type": "code",
   "execution_count": 9,
   "metadata": {},
   "outputs": [],
   "source": [
    "def letter_cnt(word,freq):\n",
    "    for let in word:\n",
    "        if let == 'A': freq[0]+=1\n",
    "        elif let == 'B': freq[1]+=1\n",
    "        elif let == 'C': freq[2]+=1\n",
    "        elif let == 'D': freq[3]+=1\n",
    "        elif let == 'E': freq[4]+=1\n",
    "        elif let == 'F': freq[5]+=1\n",
    "        elif let == 'G': freq[6]+=1\n",
    "        elif let == 'H': freq[7]+=1\n",
    "        elif let == 'I': freq[8]+=1\n",
    "        elif let == 'J': freq[9]+=1\n",
    "        elif let == 'K': freq[10]+=1\n",
    "        elif let == 'L': freq[11]+=1\n",
    "        elif let == 'M': freq[12]+=1\n",
    "        elif let == 'N': freq[13]+=1\n",
    "        elif let == 'O': freq[14]+=1\n",
    "        elif let == 'P': freq[15]+=1\n",
    "        elif let == 'Q': freq[16]+=1\n",
    "        elif let == 'R': freq[17]+=1\n",
    "        elif let == 'S': freq[18]+=1\n",
    "        elif let == 'T': freq[19]+=1\n",
    "        elif let == 'U': freq[20]+=1\n",
    "        elif let == 'V': freq[21]+=1   \n",
    "        elif let == 'W': freq[22]+=1\n",
    "        elif let == 'X': freq[23]+=1\n",
    "        elif let == 'Y': freq[24]+=1\n",
    "        elif let == 'Z': freq[25]+=1        "
   ]
  },
  {
   "cell_type": "markdown",
   "metadata": {},
   "source": [
    "So, um, just no.  This is not how anyone in the modern era should code.  Ever.  This is not good code.  To, radically, improve it, we use a dictionary.  The idea behind a dictionary is to generalize the notion of a list such that you no longer have integer valued indices to refer to elements.  Instead, you have *keys*.  So following the book, we can build a dictionary whose keys are universities, and whose *values* are mascot names.  We do this by writing "
   ]
  },
  {
   "cell_type": "code",
   "execution_count": 10,
   "metadata": {},
   "outputs": [],
   "source": [
    "mascots={'CSUN': 'Matty_Matador',\n",
    "         'Florida':'Gators',\n",
    "         'Irvine':'Anteater'}"
   ]
  },
  {
   "cell_type": "markdown",
   "metadata": {},
   "source": [
    "Thus, if we type "
   ]
  },
  {
   "cell_type": "code",
   "execution_count": 11,
   "metadata": {},
   "outputs": [
    {
     "name": "stdout",
     "output_type": "stream",
     "text": [
      "Matty_Matador\n",
      "Anteater\n"
     ]
    }
   ],
   "source": [
    "print mascots['CSUN']\n",
    "print mascots['Irvine']"
   ]
  },
  {
   "cell_type": "markdown",
   "metadata": {},
   "source": [
    "So why is this useful?  Well, let's suppose that we want to keep track of how many times each letter is used.  A good way to do this would be to build a dictionary with letters for keys and the count as values.  To do this, we do the following"
   ]
  },
  {
   "cell_type": "code",
   "execution_count": 12,
   "metadata": {},
   "outputs": [],
   "source": [
    "alpha = list(string.uppercase[:26])\n",
    "freq_d = dict()\n",
    "for let in alpha: freq_d[let] = 0"
   ]
  },
  {
   "cell_type": "code",
   "execution_count": 13,
   "metadata": {},
   "outputs": [
    {
     "name": "stdout",
     "output_type": "stream",
     "text": [
      "[0, 0, 0, 0, 0, 0, 0, 0, 0, 0, 0, 0, 0, 0, 0, 0, 0, 0, 0, 0, 0, 0, 0, 0, 0, 0]\n"
     ]
    }
   ],
   "source": [
    "print freq_d.values()"
   ]
  },
  {
   "cell_type": "markdown",
   "metadata": {},
   "source": [
    "So what does this do?  Well, first, we want a list of all possible upper case letters.  That we do with the list alpha, which being more explicit we see"
   ]
  },
  {
   "cell_type": "code",
   "execution_count": 14,
   "metadata": {},
   "outputs": [
    {
     "name": "stdout",
     "output_type": "stream",
     "text": [
      "['A', 'B', 'C', 'D', 'E', 'F', 'G', 'H', 'I', 'J', 'K', 'L', 'M', 'N', 'O', 'P', 'Q', 'R', 'S', 'T', 'U', 'V', 'W', 'X', 'Y', 'Z']\n"
     ]
    }
   ],
   "source": [
    "print list(string.uppercase[:26])"
   ]
  },
  {
   "cell_type": "code",
   "execution_count": 15,
   "metadata": {},
   "outputs": [],
   "source": [
    "def letter_cnt(word,freq_d):\n",
    "    for let in word: freq_d[let]+=1        "
   ]
  },
  {
   "cell_type": "code",
   "execution_count": 16,
   "metadata": {},
   "outputs": [],
   "source": [
    "def txt_cntr(file_name):\n",
    "    fname = open(file_name)\n",
    "    alpha = list(string.uppercase[:26])\n",
    "    freq_d = dict()\n",
    "    freq = np.zeros(26)\n",
    "    \n",
    "    for let in alpha: freq_d[let] = 0\n",
    "        \n",
    "    for line in fname:\n",
    "        line = line.rstrip()\n",
    "        words = line.split()\n",
    "        punc_remove(words)\n",
    "        make_upper(words)\n",
    "        for word in words:\n",
    "            letter_cnt(word,freq_d)\n",
    "    \n",
    "    ind = 0\n",
    "    for let in alpha:\n",
    "        freq[ind] = freq_d[let]\n",
    "        ind += 1\n",
    "    \n",
    "    fname.close()\n",
    "    \n",
    "    return freq"
   ]
  },
  {
   "cell_type": "code",
   "execution_count": 17,
   "metadata": {},
   "outputs": [
    {
     "data": {
      "text/plain": [
       "<BarContainer object of 26 artists>"
      ]
     },
     "execution_count": 17,
     "metadata": {},
     "output_type": "execute_result"
    },
    {
     "data": {
      "image/png": "[encoded data removed]",
      "text/plain": [
       "<Figure size 432x288 with 1 Axes>"
      ]
     },
     "metadata": {
      "needs_background": "light"
     },
     "output_type": "display_data"
    }
   ],
   "source": [
    "freq_cnt = txt_cntr('beyonce.txt')\n",
    "lvals = np.linspace(1,26,26)\n",
    "plt.bar(lvals,freq_cnt)"
   ]
  },
  {
   "cell_type": "code",
   "execution_count": null,
   "metadata": {},
   "outputs": [],
   "source": []
  },
  {
   "cell_type": "code",
   "execution_count": null,
   "metadata": {},
   "outputs": [],
   "source": []
  },
  {
   "cell_type": "code",
   "execution_count": null,
   "metadata": {},
   "outputs": [],
   "source": []
  }
 ],
 "metadata": {
  "anaconda-cloud": {},
  "kernelspec": {
   "display_name": "Python 2",
   "language": "python",
   "name": "python2"
  },
  "language_info": {
   "codemirror_mode": {
    "name": "ipython",
    "version": 2
   },
   "file_extension": ".py",
   "mimetype": "text/x-python",
   "name": "python",
   "nbconvert_exporter": "python",
   "pygments_lexer": "ipython2",
   "version": "2.7.15"
  }
 },
 "nbformat": 4,
 "nbformat_minor": 1
}
