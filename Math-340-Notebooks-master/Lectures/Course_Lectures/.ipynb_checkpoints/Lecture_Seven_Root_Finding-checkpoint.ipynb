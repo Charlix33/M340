{
 "cells": [
  {
   "cell_type": "code",
   "execution_count": 1,
   "metadata": {},
   "outputs": [],
   "source": [
    "import numpy as np\n",
    "import matplotlib.pyplot as plt\n",
    "%matplotlib inline"
   ]
  },
  {
   "cell_type": "markdown",
   "metadata": {},
   "source": [
    "### Example 1: Class exercise \n",
    "Given the vector `val = [1, 2, 3, 4, 5, 6, 7, 8, 9, 10],`\n",
    "\n",
    "write two different sets of code to compute the squares of all the elements in the vector `val`"
   ]
  },
  {
   "cell_type": "code",
   "execution_count": 2,
   "metadata": {},
   "outputs": [
    {
     "name": "stdout",
     "output_type": "stream",
     "text": [
      "[  1   4   9  16  25  36  49  64  81 100]\n"
     ]
    }
   ],
   "source": [
    "#Solution\n",
    "val = np.array([1, 2, 3, 4, 5, 6, 7, 8, 9, 10])\n",
    "print val**2\n"
   ]
  },
  {
   "cell_type": "code",
   "execution_count": 3,
   "metadata": {},
   "outputs": [
    {
     "name": "stdout",
     "output_type": "stream",
     "text": [
      "[  1.   4.   9.  16.  25.  36.  49.  64.  81. 100.]\n"
     ]
    }
   ],
   "source": [
    "val  = np.array([1, 2, 3, 4, 5, 6, 7, 8, 9, 10] )#this is called a list\n",
    "newval = np.zeros(val.size)\n",
    "\n",
    "for ii in val-1:\n",
    "    newval[ii] = val[ii]**2\n",
    "print newval"
   ]
  },
  {
   "cell_type": "markdown",
   "metadata": {},
   "source": [
    "### Example 2\n",
    "Write three different codes to compute the value of $f(3)$ if $f(x) = x^3 + 3x^2 - 2x - 1$\n"
   ]
  },
  {
   "cell_type": "code",
   "execution_count": 4,
   "metadata": {},
   "outputs": [
    {
     "name": "stdout",
     "output_type": "stream",
     "text": [
      "47.0\n"
     ]
    }
   ],
   "source": [
    "#solution 1\n",
    "x=3\n",
    "f =  x**3 + 3.*x**2 - 2.*x - 1.\n",
    "\n",
    "print f"
   ]
  },
  {
   "cell_type": "code",
   "execution_count": 5,
   "metadata": {},
   "outputs": [],
   "source": [
    "#solution 2\n",
    "def funcf(x):\n",
    "    f2 =  x**3 + 3.*x**2 - 2.*x - 1.\n",
    "    print f2"
   ]
  },
  {
   "cell_type": "code",
   "execution_count": 6,
   "metadata": {},
   "outputs": [
    {
     "name": "stdout",
     "output_type": "stream",
     "text": [
      "47.0\n"
     ]
    }
   ],
   "source": [
    "#running the code for solution 2 with x=3\n",
    "funcf(3)"
   ]
  },
  {
   "cell_type": "code",
   "execution_count": 7,
   "metadata": {},
   "outputs": [
    {
     "data": {
      "text/plain": [
       "47.0"
      ]
     },
     "execution_count": 7,
     "metadata": {},
     "output_type": "execute_result"
    }
   ],
   "source": [
    "#solution 3\n",
    "f = lambda x:  x**3 + 3.*x**2 - 2.*x - 1. \n",
    "\n",
    "f(3)\n"
   ]
  },
  {
   "cell_type": "markdown",
   "metadata": {},
   "source": [
    "### Example 3\n",
    "Write a code to compute the value of $f(3)$ and  $f(1)$ if $f(x) = x^3 + 3x^2 - 2x - 1$\n",
    "\n"
   ]
  },
  {
   "cell_type": "code",
   "execution_count": 8,
   "metadata": {},
   "outputs": [
    {
     "name": "stdout",
     "output_type": "stream",
     "text": [
      "47.0 1.0\n"
     ]
    }
   ],
   "source": [
    "f = lambda x:  x**3 + 3.*x**2 - 2.*x - 1.\n",
    "fa, fb = f(3), f(1)\n",
    "print fa, fb\n",
    "\n"
   ]
  },
  {
   "cell_type": "markdown",
   "metadata": {},
   "source": [
    "### Example 4\n",
    "Write two different codes to compute the value of $f(x,y)$ when $x = 3$ and $y=2$ if $f(x,y) = y(x^3 + 3x^2 - 2x - 1)$\n",
    "\n"
   ]
  },
  {
   "cell_type": "code",
   "execution_count": 9,
   "metadata": {},
   "outputs": [
    {
     "data": {
      "text/plain": [
       "94.0"
      ]
     },
     "execution_count": 9,
     "metadata": {},
     "output_type": "execute_result"
    }
   ],
   "source": [
    "#solution 1\n",
    "f = lambda x, y:  y*(x**3 + 3.*x**2 - 2.*x - 1.)\n",
    "\n",
    "f(3,2)"
   ]
  },
  {
   "cell_type": "code",
   "execution_count": 10,
   "metadata": {},
   "outputs": [],
   "source": [
    "#solution 2\n",
    "def funcf2(x,y):\n",
    "    fval_2 =  y*(x**3 + 3.*x**2 - 2.*x - 1.)\n",
    "    print fval_2"
   ]
  },
  {
   "cell_type": "code",
   "execution_count": 11,
   "metadata": {},
   "outputs": [
    {
     "name": "stdout",
     "output_type": "stream",
     "text": [
      "94.0\n"
     ]
    }
   ],
   "source": [
    "#running the code for solution 2 with x=3\n",
    "funcf2(3,2)"
   ]
  },
  {
   "cell_type": "markdown",
   "metadata": {},
   "source": [
    "# Root Finding\n",
    "\n",
    "## Bisection Method\n",
    "The point of this section is pretty straightforward.  I give you a function $f(x)$ and an interval, say $[a,b]$.  Now you tell me those points $c_{\\ast}\\in[a,b]$ such that \n",
    "\n",
    "$$\n",
    "f(c_{\\ast}) = 0.\n",
    "$$\n",
    "\n",
    "The first approach we are going to study is called the _ Bisection Method _.  It relies on there being a sign change over the interval $[a,b]$.  Said another way, for the Bisection Method to work we need\n",
    "\n",
    "> ** Criteria for Bisection Method **: For the Bisection method to work on an interval $[a,b]$, we need $f$ to be continuous on $[a,b]$, and we need $f(a)f(b)<0$.\n",
    "\n",
    "The sign change ensures that there is some point $c \\in (a,b)$ such that $f(c)=0$. Once we know the criteria is met, the method goes as follows.  \n",
    "\n",
    "1.  Find the mid-point $c = \\frac{b+a}{2}$. \n",
    "2.  Check $f(c)=0$.  If yes, you have a root.  \n",
    "3.  If not, check $f(a)f(c)<0$.  If yes, you have a root in $(a,c)$.  If not, you have a root in $(c,b)$.\n",
    "4.  Re-define your interval accordingly, repeat until... well what makes sense here?\n",
    "\n",
    "![bsctmeth](https://upload.wikimedia.org/wikipedia/commons/8/8c/Bisection_method.svg)"
   ]
  },
  {
   "cell_type": "markdown",
   "metadata": {},
   "source": []
  },
  {
   "cell_type": "markdown",
   "metadata": {},
   "source": [
    "### Example 5\n",
    "\n",
    "We are going to write a python code to compute $\\sqrt{2}$.  Let $x$ denote the answer for $\\sqrt{2}$, then we can write that\n",
    "$$x = \\sqrt{2},$$ which is equivalent to\n",
    "\n",
    "$$\n",
    "x^{2}=2.  \n",
    "$$\n",
    "\n",
    "Subtracting 2 from both sides of the equation, we see that $\\sqrt{2}$ is a root of the quadratic equation \n",
    "$$\n",
    "x^{2}-2=0.\n",
    "$$\n",
    "\n",
    "So now we are going to use the __Bisection Method__ to write a code to find the roots of the function $f(x) = x^{2} - 2$."
   ]
  },
  {
   "cell_type": "markdown",
   "metadata": {},
   "source": [
    "#### solution"
   ]
  },
  {
   "cell_type": "markdown",
   "metadata": {},
   "source": [
    "First lets plot the function $f(x)$ and the line $y=0$ to determine the approximate points that $f(x)=0$"
   ]
  },
  {
   "cell_type": "code",
   "execution_count": 12,
   "metadata": {},
   "outputs": [
    {
     "data": {
      "text/plain": [
       "[<matplotlib.lines.Line2D at 0x116f51a50>]"
      ]
     },
     "execution_count": 12,
     "metadata": {},
     "output_type": "execute_result"
    },
    {
     "data": {
      "image/png": "[encoded data removed]",
      "text/plain": [
       "<Figure size 432x288 with 1 Axes>"
      ]
     },
     "metadata": {
      "needs_background": "light"
     },
     "output_type": "display_data"
    }
   ],
   "source": [
    "xvals = np.linspace(-4,4.,int(1e3))\n",
    "yvals = xvals**2.- 2.\n",
    "zvals = np.zeros(xvals.size)\n",
    "plt.plot(xvals,yvals,color='b')\n",
    "plt.plot(xvals,zvals,color='g')"
   ]
  },
  {
   "cell_type": "markdown",
   "metadata": {},
   "source": [
    "From the graph, we have two points where $f(x)=0$, one is x in (-2,0) and another is x in (0,2). We work out the Python code below."
   ]
  },
  {
   "cell_type": "code",
   "execution_count": 13,
   "metadata": {},
   "outputs": [],
   "source": [
    "\n",
    "def bisec_method(a,b,f,tol):\n",
    "    fa,fb = f(a),f(b)\n",
    "    \n",
    "    if fa*fb<0:\n",
    "        c = (a+b)/2.\n",
    "        capproxs = np.array([c]) # build an array to record the estimates we make for the root\n",
    "        fc = f(c)\n",
    "        while np.abs(fc)>=tol:\n",
    "            if fa*fc<0:\n",
    "                b = c\n",
    "            else:\n",
    "                a = c\n",
    "          \n",
    "            c = (a+b)/2.\n",
    "            capproxs = np.append(capproxs,c)\n",
    "            fc = f(c)\n",
    "     \n",
    "        print \"Our root is: %1.15f\" %c\n",
    "    else:\n",
    "        print \"Cannot ensure existence of root.\""
   ]
  },
  {
   "cell_type": "code",
   "execution_count": 14,
   "metadata": {},
   "outputs": [],
   "source": [
    "f = lambda x: x**2 - 2.\n",
    "\n"
   ]
  },
  {
   "cell_type": "code",
   "execution_count": 15,
   "metadata": {},
   "outputs": [
    {
     "name": "stdout",
     "output_type": "stream",
     "text": [
      "Our root is: 1.414213562373106\n"
     ]
    }
   ],
   "source": [
    "#The first root is between the x interval (0,2)\n",
    "bisec_method(0.,2.,f,1e-13)"
   ]
  },
  {
   "cell_type": "code",
   "execution_count": 16,
   "metadata": {},
   "outputs": [
    {
     "name": "stdout",
     "output_type": "stream",
     "text": [
      "Our root is: -1.414213562373106\n"
     ]
    }
   ],
   "source": [
    "#The second root is between the x interval (-2,0)\n",
    "bisec_method(-2.,0.,f,1e-13)"
   ]
  },
  {
   "cell_type": "markdown",
   "metadata": {},
   "source": [
    "### Example 6\n",
    "Use the __Bisection Method__ to write a code to find the roots of the function $f(x) = x^3 + 3x^2 - 2x - 1.$."
   ]
  },
  {
   "cell_type": "markdown",
   "metadata": {},
   "source": [
    "##### solution"
   ]
  },
  {
   "cell_type": "code",
   "execution_count": 17,
   "metadata": {},
   "outputs": [],
   "source": [
    "f = lambda x: x**3 + 3.*x**2 - 2.*x - 1."
   ]
  },
  {
   "cell_type": "code",
   "execution_count": 18,
   "metadata": {},
   "outputs": [
    {
     "name": "stdout",
     "output_type": "stream",
     "text": [
      "Our root is: -3.490863615361036\n"
     ]
    }
   ],
   "source": [
    "#The first root is between the x interval (-5,3)\n",
    "bisec_method(-5.,3.,f,1e-13)"
   ]
  },
  {
   "cell_type": "code",
   "execution_count": 19,
   "metadata": {},
   "outputs": [
    {
     "name": "stdout",
     "output_type": "stream",
     "text": [
      "Our root is: -0.343379568952912\n"
     ]
    }
   ],
   "source": [
    "#The second root is between the x interval (-1,0)\n",
    "bisec_method(-1,0.,f,1e-13)\n"
   ]
  },
  {
   "cell_type": "code",
   "execution_count": 20,
   "metadata": {},
   "outputs": [
    {
     "name": "stdout",
     "output_type": "stream",
     "text": [
      "Our root is: 0.834243184313920\n"
     ]
    }
   ],
   "source": [
    "#The third root is between the x interval (0,2)\n",
    "bisec_method(0.,2.,f,1e-13)"
   ]
  },
  {
   "cell_type": "markdown",
   "metadata": {},
   "source": [
    "## Rate of Convergence\n",
    "\n",
    "We now want a means of figuring out how fast the Bisection Method runs.  So, if you think about it, at every iteration of the method, an approximation, say $c_{n}$, to the root, say $c_{\\ast}$, is generated.  For the method to converge, we mean that \n",
    "\n",
    "$$\n",
    "\\lim_{n\\rightarrow \\infty} c_{n} = c_{\\ast},\n",
    "$$\n",
    "\n",
    "or equivalently\n",
    "\n",
    "$$\n",
    "\\lim_{n\\rightarrow \\infty} \\left|c_{n} - c_{\\ast}\\right|=0,\n",
    "$$\n",
    "\n",
    "But the question then becomes, how quickly does this limit go to zero?  \n",
    "\n",
    "_Problem_: Can you do this for the Bisection Method?  In other words, is there a formula you can write down which tells you how quickly $|c_{n}-c_{\\ast}|$ goes to zero?\n",
    "\n",
    "In general, we think of answering this question by defining what is called the rate of convergence.\n",
    "\n",
    "> ** Rate of Convergence **: For an iterative sequence $c_{n}\\rightarrow c_{\\ast}$, we define the rate of convergence, $\\alpha$, to be $$\\lim_{n\\rightarrow\\infty}\\frac{\\left|c_{n+1}-c_{\\ast}\\right|}{\\left|c_{n}-c_{\\ast}\\right|^{\\alpha}} = \\lambda $$.\n",
    "\n",
    "The idea here is that for very large $n$, we have that \n",
    "\n",
    "$$\n",
    "\\left|c_{n+1}-c_{\\ast}\\right| \\approx \\lambda \\left|c_{n}-c_{\\ast}\\right|^{\\alpha}\n",
    "$$\n",
    "\n",
    "_Problem_: What would a logarithm tell you?  How would you use that to numerically compute the rate of convergence?  \n",
    "\n",
    "_Problem_: Modify your code for the Bisection Method to find the rate of convergence.  Does it agree with your theoretical prediction?  "
   ]
  },
  {
   "cell_type": "code",
   "execution_count": 21,
   "metadata": {},
   "outputs": [],
   "source": [
    "def convergence_plotter(cvals):\n",
    "    clen = cvals.size\n",
    "    cstr = cvals[clen-1]\n",
    "    xvals = np.ma.log10(np.abs(cvals[:clen-3] - cstr))\n",
    "    yvals = np.ma.log10(np.abs(cvals[1:clen-2] - cstr))\n",
    "    ylen = yvals.size\n",
    "    plt.plot(xvals,yvals,'*')\n",
    "    slopes = (yvals[1:]-yvals[:ylen-1])/(xvals[1:]-xvals[:ylen-1])\n",
    "    print 'The computed value of the maximum slope is %.15f'%np.max(slopes)\n",
    "    print 'The computed value of the minimum slope is %.15f'%np.min(slopes)\n",
    "    print 'The average value of the computed slope is %.15f'%np.mean(slopes)"
   ]
  },
  {
   "cell_type": "code",
   "execution_count": 22,
   "metadata": {},
   "outputs": [],
   "source": [
    "f = lambda x: x**3 + 3.*x**2 - 2.*x - 1.\n",
    "\n",
    "def Modified_bisec_method(a,b,f,tol):\n",
    "    fa,fb = f(a),f(b)\n",
    "    if fa*fb<0:\n",
    "        c = (a+b)/2.\n",
    "        capproxs = np.array([c]) # build an array to record the estimates we make for the root\n",
    "        fc = f(c)\n",
    "        while np.abs(fc)>=tol:\n",
    "            if fa*fc<0:\n",
    "                b = c\n",
    "            else:\n",
    "                a = c\n",
    "                fa = fc\n",
    "            c = (a+b)/2.\n",
    "        \n",
    "            capproxs = np.append(capproxs,c)\n",
    "            fc = f(c)\n",
    "        convergence_plotter(capproxs)\n",
    "        print \"Our root is: %1.15f\" %c\n",
    "    else:\n",
    "        print \"Cannot ensure existence of root.\""
   ]
  },
  {
   "cell_type": "code",
   "execution_count": 23,
   "metadata": {},
   "outputs": [
    {
     "name": "stdout",
     "output_type": "stream",
     "text": [
      "The computed value of the maximum slope is 5.442399619751442\n",
      "The computed value of the minimum slope is -109.999847426379446\n",
      "The average value of the computed slope is -4.706422797968955\n",
      "Our root is: -3.490863615361032\n"
     ]
    },
    {
     "data": {
      "image/png": "[encoded data removed]",
      "text/plain": [
       "<Figure size 432x288 with 1 Axes>"
      ]
     },
     "metadata": {
      "needs_background": "light"
     },
     "output_type": "display_data"
    }
   ],
   "source": [
    "Modified_bisec_method(-5.,3.,f,1e-16)"
   ]
  },
  {
   "cell_type": "markdown",
   "metadata": {},
   "source": [
    "## Newton's Method\n",
    "\n",
    "The idea here is to use the tangent line approximation of a function, say $f(x)$, to approximate a root.  By this we mean, at the point $(x,f(x))$, finding a root $x_{\\ast}$ by solving \n",
    "\n",
    "$$\n",
    "0 = f(x) + f'(x)(x_{\\ast}-x),\n",
    "$$\n",
    "which upon solving for the root $x_{\\ast}$, gives us \n",
    "\n",
    "$$\n",
    "x_{\\ast} = x - \\frac{f(x)}{f'(x)}.\n",
    "$$\n",
    "\n",
    "However, we imagine this only works if $x$ is very close to $x_{ast}$.  However, if that is the case, then if we turn this in to an interative method via the formula,\n",
    "\n",
    "$$\n",
    "x_{n} = x_{n-1} - \\frac{f(x_{n-1})}{f'(x_{n-1})}, ~ n\\geq 1\n",
    "$$\n",
    "\n",
    "then by repeating this process again and again, we should get closer and closer to the actual root.  \n",
    "\n",
    "![nwtmeth](https://upload.wikimedia.org/wikipedia/commons/e/e0/NewtonIteration_Ani.gif)\n",
    "_ Problem _: You code this up!"
   ]
  },
  {
   "cell_type": "markdown",
   "metadata": {},
   "source": [
    "Using Newton's method,write a code to find a root of the following function $$ f(x) = x^3 +3x^2 -2x -1$$"
   ]
  },
  {
   "cell_type": "code",
   "execution_count": 24,
   "metadata": {},
   "outputs": [],
   "source": [
    "f = lambda x: x**3. + 3.*x**2. - 2.*x - 1\n",
    "fp = lambda x: 3.*x**2. + 6.*x - 2.\n",
    "\n",
    "def Newtons_method(f,fp,x0,tol):\n",
    "    x1 = x0 - f(x0)/fp(x0)\n",
    "    \n",
    "    while np.abs(x1-x0):\n",
    "        x0 = x1\n",
    "        x1 = x0 - f(x0)/fp(x0)\n",
    "        \n",
    "    print \"A root of f(x) is: %1.15f\" %x1"
   ]
  },
  {
   "cell_type": "code",
   "execution_count": 25,
   "metadata": {},
   "outputs": [
    {
     "name": "stdout",
     "output_type": "stream",
     "text": [
      "A root of f(x) is: -3.490863615361032\n"
     ]
    }
   ],
   "source": [
    "Newtons_method(f,fp,-3.,1e-8)"
   ]
  },
  {
   "cell_type": "markdown",
   "metadata": {},
   "source": [
    "## The Secant Method\n",
    "\n",
    "We note that Newton's method suffers from a couple of flaws.  First, it will not work if $f'(x_{\\ast})=0$.  Further, if $\\left|f'(x_{\\ast})\\right|\\ll 1$, it will work very, very slowly.  Further, we also note that the method requires us to compute a derivative of what could be very complicated functions.  Thus, it turns out that by using an approximation to the derivative of the form\n",
    "\n",
    "$$\n",
    "f'(x_{n}) \\approx \\frac{f(x_{n})-f(x_{n-1})}{x_{n}-x_{n-1}},\n",
    "$$\n",
    "\n",
    "we can partially get around some of these problems.  This approach is called the _ Secant Method _.  "
   ]
  },
  {
   "cell_type": "markdown",
   "metadata": {},
   "source": [
    "Recall _Newton method_ is:\n",
    "$$\n",
    "x_{n} = x_{n-1} - \\frac{f(x_{n-1})}{f'(x_{n-1})}, ~ n\\geq 1\n",
    "$$\n",
    "replacing $f'(x_{n-1})$ with the following approximation for the derivative \n",
    "$$\n",
    "f'(x_{n-1}) \\approx \\frac{f(x_{n-1})-f(x_{n-2})}{x_{n-1}-x_{n-2}}, n\\ge 2\n",
    "$$\n",
    "\n",
    "gives the _secant method_:\n",
    "$$\n",
    "x_{n} = x_{n-1} - \\frac{f(x_{n-1})(x_{n-1}-x_{n-2})}{f(x_{n-1})-f(x_{n-2})}, ~ n\\geq 1\n",
    "$$"
   ]
  },
  {
   "cell_type": "markdown",
   "metadata": {},
   "source": [
    "Notice that the secant method, requires two input guesses $x_0$ and $x_1$."
   ]
  },
  {
   "cell_type": "markdown",
   "metadata": {},
   "source": [
    "See if you can code it up. \n",
    "\n",
    "#### Example:\n",
    "a) Write a program that uses the _secant method_ to determine the roots of a function $f(x)$ with initial guess $x_0$ and $x_1$.\n",
    "\n",
    "b) Graph the function $$f(x)= x\\cos(x) - \\sin^2(x)$$ along with the line y=0 on the same graph.\n",
    "\n",
    "c) Using Secant method, Find the root of the function $$f(x)= x\\cos(x) - \\sin^2(x).$$ For the initial guess, use $x_0=1$ and $x_1=2$."
   ]
  },
  {
   "cell_type": "code",
   "execution_count": 1,
   "metadata": {},
   "outputs": [],
   "source": [
    "def secant_method_mod(f,x0,x1,tol):\n",
    "    f0 = f(x0)\n",
    "    f1 = f(x1)\n",
    "    \n",
    "    x2 = x1 - f1*(x1-x0)/(f1-f0)\n",
    "    \n",
    "    while np.abs(f1) >= tol:\n",
    "        x0 = x1\n",
    "        x1 = x2\n",
    "        f0 = f1\n",
    "        f1 = f(x1)\n",
    "        x2 = x1 - f1*(x1-x0)/(f1-f0)\n",
    "    \n",
    "    print \"A root of f(x) is: %1.15f\" %x2 "
   ]
  },
  {
   "cell_type": "code",
   "execution_count": 2,
   "metadata": {},
   "outputs": [
    {
     "ename": "NameError",
     "evalue": "name 'np' is not defined",
     "output_type": "error",
     "traceback": [
      "\u001b[0;31m---------------------------------------------------------------------------\u001b[0m",
      "\u001b[0;31mNameError\u001b[0m                                 Traceback (most recent call last)",
      "\u001b[0;32m<ipython-input-2-a3d70574ff92>\u001b[0m in \u001b[0;36m<module>\u001b[0;34m()\u001b[0m\n\u001b[1;32m      1\u001b[0m \u001b[0;34m\u001b[0m\u001b[0m\n\u001b[0;32m----> 2\u001b[0;31m \u001b[0mxvals\u001b[0m \u001b[0;34m=\u001b[0m \u001b[0mnp\u001b[0m\u001b[0;34m.\u001b[0m\u001b[0mlinspace\u001b[0m\u001b[0;34m(\u001b[0m\u001b[0;36m.5\u001b[0m\u001b[0;34m,\u001b[0m\u001b[0;36m1.5\u001b[0m\u001b[0;34m,\u001b[0m\u001b[0mint\u001b[0m\u001b[0;34m(\u001b[0m\u001b[0;36m1e3\u001b[0m\u001b[0;34m)\u001b[0m\u001b[0;34m+\u001b[0m\u001b[0;36m1\u001b[0m\u001b[0;34m)\u001b[0m\u001b[0;34m\u001b[0m\u001b[0m\n\u001b[0m\u001b[1;32m      3\u001b[0m \u001b[0mzvals\u001b[0m \u001b[0;34m=\u001b[0m \u001b[0mnp\u001b[0m\u001b[0;34m.\u001b[0m\u001b[0mzeros\u001b[0m\u001b[0;34m(\u001b[0m\u001b[0mxvals\u001b[0m\u001b[0;34m.\u001b[0m\u001b[0msize\u001b[0m\u001b[0;34m)\u001b[0m\u001b[0;34m\u001b[0m\u001b[0m\n\u001b[1;32m      4\u001b[0m \u001b[0mf\u001b[0m \u001b[0;34m=\u001b[0m \u001b[0;32mlambda\u001b[0m \u001b[0mx\u001b[0m\u001b[0;34m:\u001b[0m \u001b[0mx\u001b[0m\u001b[0;34m*\u001b[0m\u001b[0mnp\u001b[0m\u001b[0;34m.\u001b[0m\u001b[0mcos\u001b[0m\u001b[0;34m(\u001b[0m\u001b[0mx\u001b[0m\u001b[0;34m)\u001b[0m \u001b[0;34m-\u001b[0m \u001b[0;34m(\u001b[0m\u001b[0mnp\u001b[0m\u001b[0;34m.\u001b[0m\u001b[0msin\u001b[0m\u001b[0;34m(\u001b[0m\u001b[0mx\u001b[0m\u001b[0;34m)\u001b[0m\u001b[0;34m)\u001b[0m\u001b[0;34m**\u001b[0m\u001b[0;36m2.\u001b[0m\u001b[0;34m\u001b[0m\u001b[0m\n\u001b[1;32m      5\u001b[0m \u001b[0;34m\u001b[0m\u001b[0m\n",
      "\u001b[0;31mNameError\u001b[0m: name 'np' is not defined"
     ]
    }
   ],
   "source": [
    "\n",
    "xvals = np.linspace(.5,1.5,int(1e3)+1)\n",
    "zvals = np.zeros(xvals.size)\n",
    "f = lambda x: x*np.cos(x) - (np.sin(x))**2.\n",
    "\n",
    "plt.figure(1)\n",
    "plt.plot(xvals,f(xvals))\n",
    "plt.plot(xvals,zvals)"
   ]
  },
  {
   "cell_type": "code",
   "execution_count": 3,
   "metadata": {},
   "outputs": [
    {
     "ename": "NameError",
     "evalue": "global name 'np' is not defined",
     "output_type": "error",
     "traceback": [
      "\u001b[0;31m---------------------------------------------------------------------------\u001b[0m",
      "\u001b[0;31mNameError\u001b[0m                                 Traceback (most recent call last)",
      "\u001b[0;32m<ipython-input-3-8065a0c1ec65>\u001b[0m in \u001b[0;36m<module>\u001b[0;34m()\u001b[0m\n\u001b[1;32m      1\u001b[0m \u001b[0mf\u001b[0m \u001b[0;34m=\u001b[0m \u001b[0;32mlambda\u001b[0m \u001b[0mx\u001b[0m\u001b[0;34m:\u001b[0m \u001b[0mx\u001b[0m\u001b[0;34m*\u001b[0m\u001b[0mnp\u001b[0m\u001b[0;34m.\u001b[0m\u001b[0mcos\u001b[0m\u001b[0;34m(\u001b[0m\u001b[0mx\u001b[0m\u001b[0;34m)\u001b[0m \u001b[0;34m-\u001b[0m \u001b[0;34m(\u001b[0m\u001b[0mnp\u001b[0m\u001b[0;34m.\u001b[0m\u001b[0msin\u001b[0m\u001b[0;34m(\u001b[0m\u001b[0mx\u001b[0m\u001b[0;34m)\u001b[0m\u001b[0;34m)\u001b[0m\u001b[0;34m**\u001b[0m\u001b[0;36m2.\u001b[0m\u001b[0;34m\u001b[0m\u001b[0m\n\u001b[0;32m----> 2\u001b[0;31m \u001b[0msecant_method_mod\u001b[0m\u001b[0;34m(\u001b[0m\u001b[0mf\u001b[0m\u001b[0;34m,\u001b[0m\u001b[0;36m1\u001b[0m\u001b[0;34m,\u001b[0m\u001b[0;36m2\u001b[0m\u001b[0;34m,\u001b[0m\u001b[0;36m1e-16\u001b[0m\u001b[0;34m)\u001b[0m\u001b[0;34m\u001b[0m\u001b[0m\n\u001b[0m",
      "\u001b[0;32m<ipython-input-1-54ebd6c5b855>\u001b[0m in \u001b[0;36msecant_method_mod\u001b[0;34m(f, x0, x1, tol)\u001b[0m\n\u001b[1;32m      1\u001b[0m \u001b[0;32mdef\u001b[0m \u001b[0msecant_method_mod\u001b[0m\u001b[0;34m(\u001b[0m\u001b[0mf\u001b[0m\u001b[0;34m,\u001b[0m\u001b[0mx0\u001b[0m\u001b[0;34m,\u001b[0m\u001b[0mx1\u001b[0m\u001b[0;34m,\u001b[0m\u001b[0mtol\u001b[0m\u001b[0;34m)\u001b[0m\u001b[0;34m:\u001b[0m\u001b[0;34m\u001b[0m\u001b[0m\n\u001b[0;32m----> 2\u001b[0;31m     \u001b[0mf0\u001b[0m \u001b[0;34m=\u001b[0m \u001b[0mf\u001b[0m\u001b[0;34m(\u001b[0m\u001b[0mx0\u001b[0m\u001b[0;34m)\u001b[0m\u001b[0;34m\u001b[0m\u001b[0m\n\u001b[0m\u001b[1;32m      3\u001b[0m     \u001b[0mf1\u001b[0m \u001b[0;34m=\u001b[0m \u001b[0mf\u001b[0m\u001b[0;34m(\u001b[0m\u001b[0mx1\u001b[0m\u001b[0;34m)\u001b[0m\u001b[0;34m\u001b[0m\u001b[0m\n\u001b[1;32m      4\u001b[0m     \u001b[0;32mprint\u001b[0m \u001b[0mf1\u001b[0m\u001b[0;34m-\u001b[0m\u001b[0mf0\u001b[0m\u001b[0;34m\u001b[0m\u001b[0m\n\u001b[1;32m      5\u001b[0m     \u001b[0mx2\u001b[0m \u001b[0;34m=\u001b[0m \u001b[0mx1\u001b[0m \u001b[0;34m-\u001b[0m \u001b[0mf1\u001b[0m\u001b[0;34m*\u001b[0m\u001b[0;34m(\u001b[0m\u001b[0mx1\u001b[0m\u001b[0;34m-\u001b[0m\u001b[0mx0\u001b[0m\u001b[0;34m)\u001b[0m\u001b[0;34m/\u001b[0m\u001b[0;34m(\u001b[0m\u001b[0mf1\u001b[0m\u001b[0;34m-\u001b[0m\u001b[0mf0\u001b[0m\u001b[0;34m)\u001b[0m\u001b[0;34m\u001b[0m\u001b[0m\n",
      "\u001b[0;32m<ipython-input-3-8065a0c1ec65>\u001b[0m in \u001b[0;36m<lambda>\u001b[0;34m(x)\u001b[0m\n\u001b[0;32m----> 1\u001b[0;31m \u001b[0mf\u001b[0m \u001b[0;34m=\u001b[0m \u001b[0;32mlambda\u001b[0m \u001b[0mx\u001b[0m\u001b[0;34m:\u001b[0m \u001b[0mx\u001b[0m\u001b[0;34m*\u001b[0m\u001b[0mnp\u001b[0m\u001b[0;34m.\u001b[0m\u001b[0mcos\u001b[0m\u001b[0;34m(\u001b[0m\u001b[0mx\u001b[0m\u001b[0;34m)\u001b[0m \u001b[0;34m-\u001b[0m \u001b[0;34m(\u001b[0m\u001b[0mnp\u001b[0m\u001b[0;34m.\u001b[0m\u001b[0msin\u001b[0m\u001b[0;34m(\u001b[0m\u001b[0mx\u001b[0m\u001b[0;34m)\u001b[0m\u001b[0;34m)\u001b[0m\u001b[0;34m**\u001b[0m\u001b[0;36m2.\u001b[0m\u001b[0;34m\u001b[0m\u001b[0m\n\u001b[0m\u001b[1;32m      2\u001b[0m \u001b[0msecant_method_mod\u001b[0m\u001b[0;34m(\u001b[0m\u001b[0mf\u001b[0m\u001b[0;34m,\u001b[0m\u001b[0;36m1\u001b[0m\u001b[0;34m,\u001b[0m\u001b[0;36m2\u001b[0m\u001b[0;34m,\u001b[0m\u001b[0;36m1e-16\u001b[0m\u001b[0;34m)\u001b[0m\u001b[0;34m\u001b[0m\u001b[0m\n",
      "\u001b[0;31mNameError\u001b[0m: global name 'np' is not defined"
     ]
    }
   ],
   "source": [
    "f = lambda x: x*np.cos(x) - (np.sin(x))**2.\n",
    "secant_method_mod(f,1,2,1e-16)"
   ]
  },
  {
   "cell_type": "code",
   "execution_count": null,
   "metadata": {},
   "outputs": [],
   "source": []
  }
 ],
 "metadata": {
  "kernelspec": {
   "display_name": "Python 2",
   "language": "python",
   "name": "python2"
  },
  "language_info": {
   "codemirror_mode": {
    "name": "ipython",
    "version": 2
   },
   "file_extension": ".py",
   "mimetype": "text/x-python",
   "name": "python",
   "nbconvert_exporter": "python",
   "pygments_lexer": "ipython2",
   "version": "2.7.15"
  }
 },
 "nbformat": 4,
 "nbformat_minor": 2
}
