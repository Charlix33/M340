{
 "cells": [
  {
   "cell_type": "markdown",
   "metadata": {},
   "source": [
    "## Assignment11_LastName_FirstName \n",
    "## Due date: Wednesday, April 29 at 5:30pm\n",
    "\n",
    "###  Use the following format for homework filename:  \n",
    "\n",
    "`Assignment11_LastName_FirstName.ipynb`"
   ]
  },
  {
   "cell_type": "code",
   "execution_count": 1,
   "metadata": {},
   "outputs": [],
   "source": [
    "import matplotlib.pyplot as plt\n",
    "import numpy as np"
   ]
  },
  {
   "cell_type": "markdown",
   "metadata": {},
   "source": [
    "**Problem 1** (5 points)\n",
    "\n",
    "The university is organizing a workshop and students will be grouped based on their college. Students will register at the front desk to be able to attend the workshop. Once the college (COE, COS, CE, SPH) is identified, the student is directed to the room where a seminar is being conducted to discuss career opportunities in the college.  \n",
    "Those in COE will go to Room 100.\n",
    "Those in COS will go to Room 200.\n",
    "Those in CE will go to Room 300.\n",
    "Those in SPH will go to Room 400.\n",
    "\n",
    "Write a program to implement this."
   ]
  },
  {
   "cell_type": "code",
   "execution_count": 2,
   "metadata": {},
   "outputs": [],
   "source": [
    "#Problem 1 solution"
   ]
  },
  {
   "cell_type": "markdown",
   "metadata": {},
   "source": [
    "**Problem 2** (5 points)\n",
    "Write a program that utilizes a while loop to calculate the sum and average of integers in a vector that begins from $1$ to $n$. The value of $n$ will be specified by the user on the keyboard. \n",
    "\n",
    "The user will be asked to enter a value for $n$ and your program will determine the sum and average of the numbers. \n",
    "\n",
    "Test your code with n = 4 and n=1000000."
   ]
  },
  {
   "cell_type": "code",
   "execution_count": 3,
   "metadata": {},
   "outputs": [],
   "source": [
    "#Problem 2 solution"
   ]
  },
  {
   "cell_type": "markdown",
   "metadata": {},
   "source": [
    "**Problem 3** (5 points)\n",
    "Watch the lecture on Newton's divided difference interpolation. Problem 3 is provided in the video. \n",
    "\n",
    "You must show work to receive full credit. \n",
    "\n"
   ]
  },
  {
   "cell_type": "code",
   "execution_count": 4,
   "metadata": {},
   "outputs": [],
   "source": [
    "#Problem 3 solution"
   ]
  },
  {
   "cell_type": "markdown",
   "metadata": {},
   "source": [
    "**Problem 4** (5 points)\n",
    "Watch the lecture on Newton's divided difference interpolation. Problem 4 is provided in the video. \n",
    "\n",
    "You must show work to receive full credit. \n",
    "\n",
    "\n"
   ]
  },
  {
   "cell_type": "code",
   "execution_count": 5,
   "metadata": {},
   "outputs": [],
   "source": [
    "#Problem 4 solution"
   ]
  },
  {
   "cell_type": "markdown",
   "metadata": {},
   "source": [
    "**Problem 5** (12 points)\n",
    "\n",
    "Watch the lecture on Newton's divided difference interpolation.\n",
    "\n",
    "In the table below, we display the finite divided differences for the Newton’s Interpolating Polynomials.\n",
    "\n",
    "\n",
    "| $x$ | $f$( ) | $f$[ , ]                |  $f$[ , , ]         | $f$[ , , , ]\n",
    "| :- |-------: | :--------:| :--------: | :--------:\n",
    "|$x_0$| $f$($x_0$) | $f $[ $x_1$,$x_0$ ] |$f$ [$x_2$ , $x_1$ , $x_0$] |$f$ [$x_3$ , $x_2$ , $x_1$ , $x_0$]\n",
    "|$x_1$| $f$($x_1$)  |$f $[ $x_2$,$x_1$ ]  |$f$ [$x_3$ , $x_2$ , $x_1$]|\n",
    "|$x_2$| $f$($x_2$)  | $f $[ $x_3$,$x_2$ ] |  |\n",
    "|$x_3$| $f$($x_3$)  | | |\n",
    "\n",
    "The first two columns are provided for you, complete the remaining part of the table below for  $f $[ $x_1$,$x_0$ ],$f $[ $x_2$,$x_1$ ], $f $[ $x_3$,$x_2$ ], $f$ [$x_2$ , $x_1$ , $x_0$] , $f$ [$x_3$ , $x_2$ , $x_1$], and $f$ [$x_3$ , $x_2$ , $x_1$ , $x_0$].\n",
    "\n",
    "| $x$ | $f$( ) | $f$[ , ]                |  $f$[ , , ]         | $f$[ , , , ]\n",
    "| :- |:-------: | :--------:| :--------: | :--------:\n",
    "|$4$| 0.6020600 |  | |\n",
    "|$4.5$| 0.6532125  |  | |\n",
    "|$5.5$| 0.7403627  |  |  |\n",
    "|$6$| 0.7781513  |  |  |"
   ]
  },
  {
   "cell_type": "code",
   "execution_count": 6,
   "metadata": {},
   "outputs": [],
   "source": [
    "#Problem 5 solution"
   ]
  },
  {
   "cell_type": "markdown",
   "metadata": {},
   "source": [
    "**Problem 6** (12 points)\n",
    "Given the following data points in the table:\n",
    "\n",
    "| $x_i$ |  $y$=$f(x_i)$ \n",
    "| :- |:-----------: \n",
    "|0 | 1 \n",
    "|0.5 |1.8987\n",
    "|1 |3.7183\n",
    "|2 |11.3891\n",
    "\n",
    "a) Compute the Lagrange interpolation polynomial of degree 3 from the data in the table (you may use the  functions lagran_interp() and lfun() from Lecture Eleven notes on GitHub), then use it to estimate the value of f(x) for `x = np.linspace(0,2,20)`. \n",
    "\n",
    "(i) Plot the data in the table (use red astericks) \n",
    "\n",
    "(ii) on the same figure, plot `x = np.linspace(0,2,20)` against the estimated values of $f(x)$ obtained using lagrange interpolation. (use black astericks)\n",
    "\n",
    "b) Write a program that generates a cubic interpolant of the Newton's divided difference polynomial for the data in the table above. Use the cubic interpolant to estimate the value of $f(x)$ for `x = np.linspace(0,2,20)`.\n",
    "\n",
    "(i) Plot the estimated values of $f(x)$ obtained using the cubic interpolant of the Newton's divided difference polynomial against `x = np.linspace(0,2,20)`  (use green astericks). \n",
    "\n",
    "(ii) On the same figure, plot the estimated values of $f(x)$ obtained via lagrange interpolation against `x = np.linspace(0,2,20)` (use blue astericks). \n",
    "\n",
    "(iii) Plot log (to base 10) of the difference between the estimate of $f(x)$ obtained using lagrange interpolation and cubic interpolant of the Newton's divided difference polynomial."
   ]
  },
  {
   "cell_type": "code",
   "execution_count": 7,
   "metadata": {},
   "outputs": [],
   "source": [
    "#Problem 6 solution\n"
   ]
  }
 ],
 "metadata": {
  "kernelspec": {
   "display_name": "Python 3",
   "language": "python",
   "name": "python3"
  },
  "language_info": {
   "codemirror_mode": {
    "name": "ipython",
    "version": 3
   },
   "file_extension": ".py",
   "mimetype": "text/x-python",
   "name": "python",
   "nbconvert_exporter": "python",
   "pygments_lexer": "ipython3",
   "version": "3.7.4"
  }
 },
 "nbformat": 4,
 "nbformat_minor": 2
}
