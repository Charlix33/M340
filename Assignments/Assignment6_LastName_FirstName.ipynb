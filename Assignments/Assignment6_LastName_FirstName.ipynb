{
 "cells": [
  {
   "cell_type": "markdown",
   "metadata": {},
   "source": [
    "## Assignment6_LastName_FirstName \n",
    "## Due date: Wednesday, March 4 at 5:30pm\n",
    "\n",
    "###  Use the following format for homework filename:  \n",
    "\n",
    "`Assignment6_LastName_FirstName.ipynb`"
   ]
  },
  {
   "cell_type": "code",
   "execution_count": 1,
   "metadata": {},
   "outputs": [],
   "source": [
    "import numpy as np\n",
    "import matplotlib.pyplot as plt\n",
    "%matplotlib inline"
   ]
  },
  {
   "cell_type": "markdown",
   "metadata": {},
   "source": [
    "** Problem 1 **: - Using\n",
    "\n",
    "$$\n",
    "\\sin(x) = \\sum_{j=0}^{\\infty}\\frac{(-1)^{j}}{(2j + 1)!}x^{2j +1},\n",
    "$$\n",
    "\n",
    "derive a Taylor series for $\\sin(x^{2})$ around $x=0$.  \n",
    "a. _(3pts)_ Write a code which computes the Taylor series of $\\sin(x^{2})$ using recursion and a tolerance based while loop approach.\n",
    "\n",
    "b. _(4pts)_  On the interval $[0,\\pi]$, plot the semi-log error in your approximation for tolerance values $10^{-4}$, $10^{-6}$, and $10^{-8}$. \n",
    "\n",
    "c. _(3pts)_ Describe your graphs and comment on any trends you observe."
   ]
  },
  {
   "cell_type": "markdown",
   "metadata": {},
   "source": [
    "_Answers to Problem 1_"
   ]
  },
  {
   "cell_type": "code",
   "execution_count": null,
   "metadata": {},
   "outputs": [],
   "source": []
  },
  {
   "cell_type": "markdown",
   "metadata": {},
   "source": [
    "** Problem 2 **: 7 pts- An important function in physics is the Airy function given by the Taylor Series\n",
    "\n",
    "$$\n",
    "y_{1}(x) = 1 + \\sum_{m=1}^{\\infty}c_{m}x^{3m}, ~ c_{m} = \\prod_{l=1}^{m} \\frac{1}{(3l-1)(3l)}.\n",
    "$$\n",
    "\n",
    "Note the coefficients $c_{m}$ follow the pattern\n",
    "\n",
    "\\begin{align}\n",
    "c_{1} = & \\prod_{l=1}^{1} \\frac{1}{(3l-1)(3l)} = \\frac{1}{2\\cdot 3}\\\\\n",
    "c_{2} = & \\prod_{l=1}^{2} \\frac{1}{(3l-1)(3l)} = \\frac{1}{2\\cdot 3 \\cdot 5 \\cdot 6}\n",
    "\\end{align}\n",
    "\n",
    "a. _(4pts)_ Using recursion and a tolerance based while loop approach, write a code which makes two separate plots, one for $-L_{x}\\leq x \\leq 0$ and one for $0\\leq x \\leq L_{x}$, where $L_{x}$ is a user specified value.  \n",
    "\n",
    "b. _(3pts)_ Provide plots for $L_{x}= 3, 19$ and for tolerances $10^{-8}$ and $10^{-10}$. and describe the phenomena you see in the eight different plots. Add legends to your plots."
   ]
  },
  {
   "cell_type": "markdown",
   "metadata": {},
   "source": [
    "_Answers to Problem 2_"
   ]
  },
  {
   "cell_type": "code",
   "execution_count": null,
   "metadata": {},
   "outputs": [],
   "source": []
  },
  {
   "cell_type": "markdown",
   "metadata": {},
   "source": [
    "_Provide Summary of Results for Problem 2 Here_"
   ]
  },
  {
   "cell_type": "markdown",
   "metadata": {},
   "source": []
  },
  {
   "cell_type": "markdown",
   "metadata": {},
   "source": [
    "** Problem 3 **: 5 pts- If we list all the natural numbers below 15 that are multiples of 4 or 7, we get 4, 7, 8, 12, 14.  The sum of these multiples is 45.  Find the sum of all multiples of 4 or 7 below 162.  Note, you will need to make use of the mod command `%`, which in effect finds remainders from division.  Note the use below. Likewise you will also need to use the logical operation `or`. "
   ]
  },
  {
   "cell_type": "code",
   "execution_count": 2,
   "metadata": {},
   "outputs": [
    {
     "name": "stdout",
     "output_type": "stream",
     "text": [
      "1\n",
      "0\n",
      "1\n",
      "0\n",
      "\n",
      "1\n",
      "2\n",
      "3\n",
      "4\n",
      "0\n"
     ]
    }
   ],
   "source": [
    "# How to use %\n",
    "\n",
    "print(1%2)\n",
    "print(2%2)\n",
    "print(3%2)\n",
    "print(4%2)\n",
    "print()\n",
    "print(11%5)\n",
    "print(12%5)\n",
    "print(13%5)\n",
    "print(14%5)\n",
    "print(15%5)"
   ]
  },
  {
   "cell_type": "markdown",
   "metadata": {},
   "source": [
    "_Answer to Problem 3_  "
   ]
  },
  {
   "cell_type": "markdown",
   "metadata": {},
   "source": [
    "** Problem 4 **: 5 pts - Using a for loop based approach, write a program which finds \n",
    "\n",
    "$$\n",
    "\\frac{1}{n}\\sum_{j=1}^{n} \\left(\\left(\\frac{j}{n}\\right)^{4} + 3\\left(\\frac{j}{n}\\right)^{2} \\right)\n",
    "$$\n",
    "\n",
    "for any positive integer n.  Generate a labeled plot of the results of your function for $1\\leq n \\leq 100$, where $n$ will be on the $x$-axis, while the results of your function will appear on the $y$-axis.  Describe any trends you see from your graph.       "
   ]
  },
  {
   "cell_type": "markdown",
   "metadata": {},
   "source": [
    "_Answer to Problem 4_"
   ]
  },
  {
   "cell_type": "code",
   "execution_count": null,
   "metadata": {},
   "outputs": [],
   "source": []
  }
 ],
 "metadata": {
  "kernelspec": {
   "display_name": "Python 2",
   "language": "python",
   "name": "python2"
  },
  "language_info": {
   "codemirror_mode": {
    "name": "ipython",
    "version": 2
   },
   "file_extension": ".py",
   "mimetype": "text/x-python",
   "name": "python",
   "nbconvert_exporter": "python",
   "pygments_lexer": "ipython2",
   "version": "2.7.15"
  }
 },
 "nbformat": 4,
 "nbformat_minor": 2
}
