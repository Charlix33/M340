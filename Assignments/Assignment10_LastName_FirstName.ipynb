{
 "cells": [
  {
   "cell_type": "markdown",
   "metadata": {},
   "source": [
    "## Assignment10_LastName_FirstName \n",
    "## Due date: Wednesday, April 22 at 5:30pm\n",
    "\n",
    "###  Use the following format for homework filename:  \n",
    "\n",
    "`Assignment10_LastName_FirstName.ipynb`"
   ]
  },
  {
   "cell_type": "code",
   "execution_count": 1,
   "metadata": {},
   "outputs": [],
   "source": [
    "import numpy as np\n",
    "import matplotlib.pyplot as plt\n",
    "%matplotlib inline"
   ]
  },
  {
   "cell_type": "markdown",
   "metadata": {},
   "source": [
    "**Problem 1** (10pts)\n",
    "Watch the Lecture on `Lagrange Interpolation` and complete Problem 1 assigned in the video"
   ]
  },
  {
   "cell_type": "code",
   "execution_count": 2,
   "metadata": {},
   "outputs": [],
   "source": [
    "#solution for Problem 1"
   ]
  },
  {
   "cell_type": "markdown",
   "metadata": {},
   "source": [
    "**Problem 2** (10pts)\n",
    "Watch the Lecture on `Lagrange Interpolation` and complete Problem 2 assigned in the video"
   ]
  },
  {
   "cell_type": "code",
   "execution_count": 3,
   "metadata": {},
   "outputs": [],
   "source": [
    "#solution for Problem 2"
   ]
  },
  {
   "cell_type": "markdown",
   "metadata": {},
   "source": [
    "**Problem 3** (14pts)\n",
    "Watch the Lecture on `Lagrange Interpolation-Part 2` and complete the following problem using Python programming.\n",
    "\n",
    "Assuming that $f(x)$ is given as follows:\n",
    "$$\n",
    "f(x) = \\frac{7x}{x^{2} + 11}, ~ -1 \\leq x \\leq 1\n",
    "$$\n",
    "\n",
    "a) (4pts) Using an equispaced set of $25$ nodes, generate the Lagrange interpolating polynomial to $f(x)$ and use it to interpolate `x = np.linspace(-1,1,1500)`. \n",
    "\n",
    "Generate a plot which shows how the error in your approximation varies over the interval $[-1,1]$ as presented in the video.\n",
    "\n",
    "b) (2pt) What is the degree of the Lagrange interpolating polynomial in part (3a).\n",
    "\n",
    "c) (2pts) Compare the graph of f(x) with that of the of the Lagrange interpolating polynomial from part (3a) for `x = np.linspace(-1,1,1500)` by plotting both graphs on the same figure.\n",
    "\n",
    "d) (2pts) Using an equispaced set of $250$ nodes, generate the Lagrange interpolating polynomial to $f(x)$ and use it to interpolate `x = np.linspace(-1,1,1500)`.  \n",
    "Generate a plot which shows how the error in your approximation varies over the interval.  \n",
    "\n",
    "e) (2pt) What is the degree of the Lagrange interpolating polynomial in part (3d)\n",
    "\n",
    "f) (2pts) Compare the graph of f(x) with that of the Lagrange interpolating polynomial from (3d) for `x = np.linspace(-1,1,1500)` by plotting both graphs on the same figure.\n",
    "\n",
    "\n",
    "\n",
    " "
   ]
  },
  {
   "cell_type": "code",
   "execution_count": 4,
   "metadata": {},
   "outputs": [],
   "source": [
    "#solution for Problem 3"
   ]
  },
  {
   "cell_type": "markdown",
   "metadata": {},
   "source": [
    "**Problem 4** (14pts)\n",
    "Watch the Lecture on `Lagrange Interpolation-Part 2` and complete the following problem using Python programming.\n",
    "\n",
    "$$\n",
    "f(x) = \\frac{7x}{x^{2} + 11}, ~ -1 \\leq x \\leq 1\n",
    "$$\n",
    "\n",
    "a) (5pts) Using `non-equispaced` set of $25$ nodes, generate the Lagrange interpolating polynomial to $f(x)$ and use it to interpolate `x = np.linspace(-1,1,1500)`. \n",
    "\n",
    "Generate a plot which shows how the error in your approximation varies over the interval $[-1,1]$ as presented in the video.\n",
    "\n",
    "b) (2pts) Compare the graph of f(x) with that of the Lagrange interpolating polynomial from (4a) for `x = np.linspace(-1,1,1500)` by plotting both graphs on the same figure.\n",
    "\n",
    "c) (2pts) Using `non-equispaced` set of $250$ nodes, generate the Lagrange interpolating polynomial to $f(x)$ and use it to interpolate `x = np.linspace(-1,1,1500)`.  \n",
    "Generate a plot which shows how the error in your approximation varies over the interval.  \n",
    "\n",
    "d) (2pts) Compare the graph of f(x) with that of the Lagrange interpolating polynomial from (4c) for x = np.linspace(-1,1,1500) by plotting both graphs on the same figure.\n",
    "\n",
    "(e) (3pts) Compare your results from Problem 4 to Problem 3. Explain your findings\n",
    "\n"
   ]
  },
  {
   "cell_type": "code",
   "execution_count": 5,
   "metadata": {},
   "outputs": [],
   "source": [
    "#solution for Problem 4"
   ]
  },
  {
   "cell_type": "markdown",
   "metadata": {},
   "source": [
    "**Problem 5** (10pts) An automobile of mass M = 5400kg is moving at a speed of 30 m/s. The engine is disengaged suddenly at t=0 sec. Assume that the equation of motion after t=0 is given by\n",
    "\n",
    "$$\n",
    "5400 v \\frac{dv}{dx} = -8.276v^2 -2000\n",
    "$$\n",
    "\n",
    "where $v=v(t)$ is the speed (m/sec) of the car at $t$. The left side represents Mv(dv/dx). The first term on the right is the aerodynamic drag, and the second term is the rolling resistance of the tires. Calculate how far the car travels until the speed reduces to 15 m/sec. (Hint: The equation of motion may be integrated as:\n",
    "\n",
    "$$\n",
    "\\int_{15}^{30} \\frac{5400 v}{8.276v^2 +2000}\\ dv = \\int dx = x\n",
    "$$\n",
    "\n",
    "Evaluate the equation above using Simpson's rule).\n",
    "\n"
   ]
  },
  {
   "cell_type": "code",
   "execution_count": 6,
   "metadata": {},
   "outputs": [],
   "source": [
    "#solution for Problem 5"
   ]
  },
  {
   "cell_type": "markdown",
   "metadata": {},
   "source": [
    "**Problem 6** (10pts)\n",
    "The Hermite polynomials $H_{n}(x)$ are such that $H_{0}(x)=1$, $H_{1}(x)=2x$, and for $n\\geq2$, $H_{n}(x)$ satisfies the recurrence relationship\n",
    "\n",
    "$$\n",
    "H_{n}(x) = 2xH_{n-1}(x) -2(n-1)H_{n-2}(x), ~ n\\geq 2. \n",
    "$$\n",
    "\n",
    "a) (6 pts) Write a recursive program to find any Hermite polynomial $H_{n}(x)$.\n",
    "\n",
    "b) (2 pts) Generate a plot of the first three Hermite polyonmials on the interval $-2\\leq x \\leq 2$.  Your figure should be labeled, have a legend, and different colors should be used to distinguish the different Hermite polynmials in the plot.  \n",
    "\n",
    "c) (2 pts) Generate a plot of the first five Hermite polyonmials on the interval $-2\\leq x \\leq 2$.  Your figure should be labeled, have a legend, and different colors should be used to distinguish the different Hermite polynmials in the plot. "
   ]
  },
  {
   "cell_type": "code",
   "execution_count": 7,
   "metadata": {},
   "outputs": [],
   "source": [
    "#solution for Problem 6"
   ]
  },
  {
   "cell_type": "markdown",
   "metadata": {},
   "source": [
    "**Extra credit (5 points)** Fun program for extra credit.\n",
    "\n",
    "Write a program that plays Rock, Paper, Scissors against a human. \n",
    "\n",
    "*Hint:* The easiest way is to assign numbers to Rock, Paper, and Scissors and use *if else statements*. Feel free to program it in a different way."
   ]
  }
 ],
 "metadata": {
  "kernelspec": {
   "display_name": "Python 3",
   "language": "python",
   "name": "python3"
  },
  "language_info": {
   "codemirror_mode": {
    "name": "ipython",
    "version": 3
   },
   "file_extension": ".py",
   "mimetype": "text/x-python",
   "name": "python",
   "nbconvert_exporter": "python",
   "pygments_lexer": "ipython3",
   "version": "3.7.4"
  }
 },
 "nbformat": 4,
 "nbformat_minor": 2
}
