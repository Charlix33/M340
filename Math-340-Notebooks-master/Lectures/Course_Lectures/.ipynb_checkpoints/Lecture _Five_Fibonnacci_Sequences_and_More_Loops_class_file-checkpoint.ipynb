{
 "cells": [
  {
   "cell_type": "code",
   "execution_count": 1,
   "metadata": {},
   "outputs": [],
   "source": [
    "import numpy as np\n",
    "import matplotlib.pyplot as plt\n",
    "from scipy.misc import factorial as sfactorial\n",
    "from copy import copy\n",
    "from time import time\n",
    "%matplotlib inline"
   ]
  },
  {
   "cell_type": "markdown",
   "metadata": {
    "slideshow": {
     "slide_type": "notes"
    }
   },
   "source": [
    "# Fibonacci Sequence and More Loops\n",
    "\n",
    "I would be remiss if I were to teach a class on programming in mathematics and not present the Fibonacci sequence.  Originally motivated by a desire to model population growth, the Fibonnaci sequence is given by the _ recurrence relation _ \n",
    "\n",
    "$$\n",
    "p_{n} = p_{n-1} + p_{n-2}, ~ n\\geq 2,\n",
    "$$\n",
    "\n",
    "where we start the recurrence relation with the _ intial conditions _ \n",
    "\n",
    "$$\n",
    "p_{0}=p_{1}=1.  \n",
    "$$\n",
    "\n",
    "What this means is \n",
    "\n",
    "$$\n",
    "p_{2} = p_{1} + p_{0} = 1 + 1 = 2,\n",
    "$$\n",
    "\n",
    "$$\n",
    "p_{3} = p_{2} + p_{1} = 2 + 1 = 3,\n",
    "$$\n",
    "\n",
    "and so forth, thereby generating the classic sequence \n",
    "\n",
    "$$\n",
    "1,1,2,3,5,8,13,21,34,\\cdots\n",
    "$$\n",
    "\n",
    "So while we can readily understand how to generate the sequence term-by-term, we can ask the related question, given some arbitrary value of $n$, what is $p_{n}$?  At this point, you must acknowledge that a computer may come in handy.  To answer this question, we use the bit of code provided just below.   "
   ]
  },
  {
   "cell_type": "markdown",
   "metadata": {},
   "source": [
    "#### Example 1: The following code finds the value of the nth term of a Fibonacci sequence $p_{n}$ for a given arbitrary value of $𝑛$"
   ]
  },
  {
   "cell_type": "code",
   "execution_count": null,
   "metadata": {},
   "outputs": [],
   "source": [
    "def fibo_seq(n):\n",
    "    if n>=2:\n",
    "        pn2=1\n",
    "        pn1=1\n",
    "        for jj in xrange(0,n-1):\n",
    "            pn=pn1+pn2\n",
    "            pn2=pn1 \n",
    "            pn1=pn  \n",
    "        return pn\n",
    "    else:\n",
    "        return 1"
   ]
  },
  {
   "cell_type": "markdown",
   "metadata": {},
   "source": [
    "#### Next we run the code to determine the value of the 6th term (i.e $p_6$) of a Fibonacci sequence\n"
   ]
  },
  {
   "cell_type": "code",
   "execution_count": null,
   "metadata": {},
   "outputs": [],
   "source": [
    "fibo_seq(6)"
   ]
  },
  {
   "cell_type": "markdown",
   "metadata": {},
   "source": [
    "Recall that the Fibonacci sequence is: $$\n",
    "1,1,2,3,5,8,13,21,34,\\cdots\n",
    "$$\n",
    "\n",
    "Counting from zero, we find that the 6th term of the Fibonacci sequence is 13, which is consistent with the result from the program. "
   ]
  },
  {
   "cell_type": "markdown",
   "metadata": {},
   "source": [
    "#### Example 2: The following code generates the terms of a Fibonacci sequence,  beginning from $p_{0}$ to $p_{n}$ for a given arbitrary value of $𝑛$"
   ]
  },
  {
   "cell_type": "code",
   "execution_count": null,
   "metadata": {},
   "outputs": [],
   "source": [
    "def fibo_seq_array(n):\n",
    "    pn = np.ones(n+1)\n",
    "    if n>=2:\n",
    "        for jj in xrange(2,n+1):# note we start from index 2\n",
    "            pn[jj] = pn[jj-1] + pn[jj-2]\n",
    "    return pn"
   ]
  },
  {
   "cell_type": "markdown",
   "metadata": {},
   "source": [
    "#### Next we run the code to generate the terms of the Fibonacci sequence,  beginning from $p_{0}$ to $p_{6}$\n",
    "\n"
   ]
  },
  {
   "cell_type": "code",
   "execution_count": null,
   "metadata": {},
   "outputs": [],
   "source": [
    "fibo_seq_array(5)"
   ]
  },
  {
   "cell_type": "markdown",
   "metadata": {},
   "source": [
    "The key thing to take away from this is the bit of code \n",
    "\n",
    "`\n",
    "pn=pn1+pn2\n",
    "pn2=pn1\n",
    "pn1=pn\n",
    "`\n",
    "\n",
    "which is how we implement \n",
    "\n",
    "\\begin{align}\n",
    "p_{n} = & p_{n-1} + p_{n-2}\\\\\n",
    "p_{n+1} = & p_{n} + p_{n-1}\n",
    "\\end{align}\n",
    "\n",
    "where we write out two iterations of the recurrence relation in order to see how what are computed values, i.e. $p_{n}$ becomes the next prior values in the next iteration.  \n",
    "\n",
    "Running our code, we then get for $n=1000$,"
   ]
  },
  {
   "cell_type": "code",
   "execution_count": null,
   "metadata": {},
   "outputs": [],
   "source": [
    "print fibo_seq(1000)"
   ]
  },
  {
   "cell_type": "markdown",
   "metadata": {},
   "source": [
    "which is an absurd number.  So, while we have an answer to our original question, we maybe do not have as useful of an answer as we would like.  We will now do something different in Example 4."
   ]
  },
  {
   "cell_type": "markdown",
   "metadata": {},
   "source": [
    "Before we attempt Example 4, let's learn how to truncate a vector and relevant python functions for the rest of this lecture:\n"
   ]
  },
  {
   "cell_type": "code",
   "execution_count": 33,
   "metadata": {},
   "outputs": [
    {
     "name": "stdout",
     "output_type": "stream",
     "text": [
      "[7, 8, 9, 10]\n"
     ]
    }
   ],
   "source": [
    "#### Example 3a: Truncating a vector\n",
    "val = 6\n",
    "y = [1,2,3,4,5,6,7,8,9,10]\n",
    "print y[val:]"
   ]
  },
  {
   "cell_type": "code",
   "execution_count": 34,
   "metadata": {},
   "outputs": [
    {
     "name": "stdout",
     "output_type": "stream",
     "text": [
      "[ 3  4  5  6  7  8  9 10]\n"
     ]
    }
   ],
   "source": [
    "#### Example 3b: Truncating a vector\n",
    "nt = 10\n",
    "val2 = 3\n",
    "x = np.array(range(0,nt+1))\n",
    "print x[val2:]"
   ]
  },
  {
   "cell_type": "code",
   "execution_count": 36,
   "metadata": {},
   "outputs": [
    {
     "name": "stdout",
     "output_type": "stream",
     "text": [
      "11\n"
     ]
    }
   ],
   "source": [
    "#### Example 3c: finding the size of a vector\n",
    "print x.size"
   ]
  },
  {
   "cell_type": "code",
   "execution_count": 37,
   "metadata": {},
   "outputs": [
    {
     "name": "stdout",
     "output_type": "stream",
     "text": [
      "[9, 10, 11]\n"
     ]
    }
   ],
   "source": [
    "#### Example 3d: using python range \n",
    "nvals = range(9,x.size+1)\n",
    "    \n",
    "print nvals"
   ]
  },
  {
   "cell_type": "code",
   "execution_count": 35,
   "metadata": {},
   "outputs": [
    {
     "name": "stdout",
     "output_type": "stream",
     "text": [
      "[ 0  1  2  3  4  5  6  7  8  9 10]\n"
     ]
    }
   ],
   "source": [
    "#### Example 3e: Using np.array()\n",
    "print np.array(range(0,10+1))\n"
   ]
  },
  {
   "cell_type": "markdown",
   "metadata": {},
   "source": [
    "\n",
    "\n",
    "#### Example 4\n",
    "In order to get something a little more interesting then, we will actually solve the recurrence relation which generates the Fibonacci sequence.  \n",
    "\n",
    "This means we will find a function $\\phi(x)$ such that\n",
    "\n",
    "$$\n",
    "p_{n} = \\phi(n), ~ \\phi(0)=\\phi(1) = 1.\n",
    "$$\n",
    "\n",
    "To do this, we make a guess, or _ ansatz _ for the form of $\\phi$.  The guess we make is\n",
    "\n",
    "$$\n",
    "p_{n} = \\lambda^{n}, \n",
    "$$\n",
    "\n",
    "where $\\lambda$ is just some number.  If our guess represents a solution to our recurrence relation, then it must necessarily be the case that \n",
    "\n",
    "\\begin{align}\n",
    "\\lambda^{n} = & \\lambda^{n-1} + \\lambda^{n-2}\\\\\n",
    "\\lambda^{n} = & \\lambda^{n}\\lambda^{-1} + \\lambda^{n}\\lambda^{-2}\\\\\n",
    "\\lambda^{n} = & \\lambda^{n}\\left(\\lambda^{-1}+\\lambda^{-2}\\right)\\\\\n",
    "1 = & \\lambda^{-1} + \\lambda^{-2}\\\\\n",
    "\\lambda^{2} = & \\lambda + 1\n",
    "\\end{align}\n",
    "\n",
    "and so we can find \n",
    "\n",
    "$$\n",
    "\\lambda_{\\pm} = \\frac{1}{2}\\left(1\\pm\\sqrt{5}\\right).\n",
    "$$\n",
    "\n",
    "On the one hand then, our guess has proven quite successful.  We wanted to find a number $\\lambda$ which, when exponentiated, allowed us to solve the Fibonacci recurrence relation.  However, on the other hand, what is disconcerting is that we have not found just one answer, but two.  So which do we pick?  The answer is, effectively, both, so that we write\n",
    "\n",
    "$$\n",
    "p_{n} = c_{+}\\lambda_{+}^{n} + c_{-}\\lambda_{-}^{n}.\n",
    "$$\n",
    "\n",
    "Note, we make no assumptions yet about the constants $c_{\\pm}$ aside from that they are just numbers, but keep in mind, they do not depend on $n$.  We have therefore solved for the dynamics, i.e. we know how $p_{n}$ changes from one value of $n$ to the other, so the lion's share of the work has been done.  However, it would still be nice to know what $c_{\\pm}$ are.  To do this, we need to use the initial conditions $p_{0}=p_{1}=1$.  Setting $n=0$, we have\n",
    "\n",
    "$$\n",
    "p_{0} = c_{+} + c_{-} = 1\n",
    "$$\n",
    "\n",
    "which shows that $c_{-} = 1-c_{+}$, which means that we can now write our solution $p_{n}$ as \n",
    "\n",
    "$$\n",
    "p_{n} = c_{+}\\lambda_{+}^{n} + (1-c_{+})\\lambda_{-}^{n}.\n",
    "$$\n",
    "\n",
    "What we see from this is that using one initial condition has reduced the number of unknown variables to just one.  Thus, to get the last unknown to disappear we use $p_{1}=1$, so that \n",
    "\n",
    "$$\n",
    "p_{1} = c_{+}\\lambda_{+} + (1-c_{+})\\lambda_{-} = 1.\n",
    "$$\n",
    "\n",
    "_Problem_: What is $c_{+}$?\n",
    "\n",
    "  \n",
    "\n",
    "**We now have a solution for p_{n} as follows:\n",
    "\n",
    "$$\n",
    "p_{n} = c_{+}\\lambda_{+}^{n} + (1-c_{+})\\lambda_{-}^{n}.\n",
    "$$\n",
    "\n",
    "**We have worked out the value for $\\lambda_{+}$ and $\\lambda_{-}$, now determine the value of $c_{+}$.\n",
    "Using this solution for $p_{n}$ generate the Fibonnaci sequence for $n = 6$.**\n",
    "\n"
   ]
  },
  {
   "cell_type": "code",
   "execution_count": 48,
   "metadata": {},
   "outputs": [],
   "source": [
    "#enter your code here\n",
    "def Fibo_soln(n):\n",
    "    c1 = (np.sqrt(5.) + 5.)/10.\n",
    "    lamd1 = 0.5*(1. + np.sqrt(5.))\n",
    "    lamd2 = 0.5*(1. - np.sqrt(5.))\n",
    "    pn = c1*lamd1**n + (1.-c1)*lamd2**n\n",
    "   \n",
    "    return pn"
   ]
  },
  {
   "cell_type": "code",
   "execution_count": 56,
   "metadata": {},
   "outputs": [
    {
     "data": {
      "text/plain": [
       "13.000000000000004"
      ]
     },
     "execution_count": 56,
     "metadata": {},
     "output_type": "execute_result"
    }
   ],
   "source": [
    "Fibo_soln(6)"
   ]
  },
  {
   "cell_type": "markdown",
   "metadata": {},
   "source": [
    "So far, we now have an exact representation of $p_{n}$ for $n\\geq 0$.  What can we do with it though that we couldn't really do with our code above, because just to be clear, all we've done in some sense is speed the code up since now we can just plug in a value $n$ and get an answer.\n",
    "\n",
    "To address this issue then, we now suppose that $n\\gg 1$, or in other words, we suppose that $n$ is really, really large.  How large is in the eye of the beholder in some sense. But the point here is the following.  We can readily show that\n",
    "\n",
    "$$\n",
    "\\left|\\lambda_{+}\\right| > 1, ~ \\left|\\lambda_{-} \\right|<1\n",
    "$$\n",
    "\n",
    "Thus, for $n\\gg 1$, we see that \n",
    "\n",
    "$$\n",
    "p_{n} \\approx c_{+}\\lambda^{n}_{+}\n",
    "$$\n",
    "\n",
    "So, if we take a logarithm to both sides of this approximation, we get that\n",
    "\n",
    "$$\n",
    "\\log p_{n} \\approx \\log c_{+} + n \\log \\lambda_{+}\n",
    "$$\n",
    "\n",
    "and this is an equation of the form $y = mx + b$ where\n",
    "\n",
    "$$\n",
    "y = \\log p_{n}, ~ m = \\log \\lambda_{+}, ~ x = n, ~ b = \\log c_{+}.\n",
    "$$\n",
    "\n",
    "What this all means is that we are making a kind of prediction.  We are saying that if $n$ gets large enough, and we plot $\\log p_{n}$ against $n$, the equation should follow that of a straight line with slope $\\log \\lambda_{+}$.  How can we test that?  Well, we write more code of course.  \n",
    "\n",
    "In this case, we need to think about how to use NumPy arrays to store information as we iterate.  Thus, we might modify the code above by using "
   ]
  },
  {
   "cell_type": "code",
   "execution_count": null,
   "metadata": {},
   "outputs": [],
   "source": [
    "def fibo_seq_new(n):\n",
    "    pn = np.ones(n+1)\n",
    "    for jj in xrange(2,n+1):\n",
    "            pn[jj]=pn[jj-1]+pn[jj-2]\n",
    "    return pn"
   ]
  },
  {
   "cell_type": "markdown",
   "metadata": {},
   "source": [
    "_Problem_: Using this code, generate plots which help you decide if the approximation and corresponding prediction we make above is reasonable."
   ]
  },
  {
   "cell_type": "code",
   "execution_count": null,
   "metadata": {},
   "outputs": [],
   "source": [
    "def fibo_seq_plt(ntrunc,n):\n",
    "    lpn = np.log10(fibo_seq_new(n))\n",
    "    lpnt = lpn[ntrunc:]\n",
    "    nvals = np.array(range(0,n+1))\n",
    "    nvalt = nvals[ntrunc:]\n",
    "    \n",
    "    plt.plot(nvalt,lpnt)\n",
    "    plt.xlabel('$n$')\n",
    "    plt.ylabel('$\\log_{10}p_{n}$')\n",
    "    \n",
    "    print \"Predicted slope of semi-log plot is: %1.15f\" % np.log10((1.+np.sqrt(5.))/2.)\n",
    "    \n",
    "    slope = (lpnt[1]-lpnt[0])\n",
    "    \n",
    "    print \"Approximate slope from numerics is: %1.15f\" % slope"
   ]
  },
  {
   "cell_type": "code",
   "execution_count": null,
   "metadata": {},
   "outputs": [],
   "source": [
    "fibo_seq_plt(5,10)"
   ]
  },
  {
   "cell_type": "markdown",
   "metadata": {},
   "source": [
    "## The 3n+1 Sequence\n",
    "\n",
    "So this is a bit of a mathematical curiosity, but it makes for a good programming project, and it happens to connect to a famous unsolved problem.  It goes like this\n",
    "\n",
    "- Start with a positive integer n.\n",
    "\n",
    "- If n = 1, stop.\n",
    "\n",
    "- If n is even, replace it with n/2.\n",
    "\n",
    "- If n is odd, replace it with 3n+1.\n",
    "\n",
    "So if we started with $n=3$, then we would generate the sequence\n",
    "\n",
    "$$\n",
    "3, 10, 5, 16, 8, 4, 2, 1\n",
    "$$\n",
    "\n",
    "Now, using the code block below, write a program which takes in a positive integer $n$ and then plots the particular sequence the above rules would generate.  To do this, you will need to make use of the command\n",
    "\n",
    "`\n",
    "arr = np.append(arr,val)\n",
    "`\n",
    "\n",
    "which appends to the end of the array `arr` the value `val`.  Also, don't forget about your friend the mod function `%`."
   ]
  },
  {
   "cell_type": "code",
   "execution_count": 2,
   "metadata": {},
   "outputs": [],
   "source": [
    "def plot_threenp1(n):\n",
    "    n0 = n\n",
    "    tnp1 = np.array([n])\n",
    "    while n > 1:\n",
    "        if n%2==0:\n",
    "            n = n/2\n",
    "        else :\n",
    "            n = 3*n + 1\n",
    "        tnp1 = np.append(tnp1,n)\n",
    "    \n",
    "    nvals = range(1,tnp1.size+1)\n",
    "    plt.plot(nvals,tnp1)\n",
    "    plt.xlabel('n')\n",
    "    plt.title('3n+1 Sequence for Starting Integer: %d' %n0)"
   ]
  },
  {
   "cell_type": "code",
   "execution_count": 3,
   "metadata": {
    "scrolled": true
   },
   "outputs": [
    {
     "data": {
      "image/png": "[encoded data removed]",
      "text/plain": [
       "<Figure size 432x288 with 1 Axes>"
      ]
     },
     "metadata": {
      "needs_background": "light"
     },
     "output_type": "display_data"
    }
   ],
   "source": [
    "plot_threenp1(3)"
   ]
  },
  {
   "cell_type": "markdown",
   "metadata": {},
   "source": [
    "The unsolved mathematical problem is whether this code can run forever i.e. it is unknown whether there are any starting values $n$ which generate a sequence which goes on for forever.  Thus, an interesting associated quantity we would want to know is how many terms a given value of $n$ generates via the $3n+1$ sequence.  We call this number $L(n)$.  For example then, using our example of $n=3$ above, we have that \n",
    "\n",
    "$$\n",
    "L(3)  = 8\n",
    "$$\n",
    "\n",
    "So, modifying the code you just wrote, figure out how to find $L(n)$ and then generate a plot of $L(n)$ for $1\\leq n \\leq 1000$.  Discuss any trends you observe.  "
   ]
  },
  {
   "cell_type": "code",
   "execution_count": null,
   "metadata": {},
   "outputs": [],
   "source": [
    "def Ln_maker(n):\n",
    "    #add some code \n",
    "    return Ln\n",
    "\n",
    "def Ln_plotter()"
   ]
  }
 ],
 "metadata": {
  "kernelspec": {
   "display_name": "Python 2",
   "language": "python",
   "name": "python2"
  },
  "language_info": {
   "codemirror_mode": {
    "name": "ipython",
    "version": 2
   },
   "file_extension": ".py",
   "mimetype": "text/x-python",
   "name": "python",
   "nbconvert_exporter": "python",
   "pygments_lexer": "ipython2",
   "version": "2.7.15"
  }
 },
 "nbformat": 4,
 "nbformat_minor": 2
}
